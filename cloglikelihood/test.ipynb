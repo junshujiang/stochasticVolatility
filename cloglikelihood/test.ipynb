{
 "cells": [
  {
   "cell_type": "code",
   "execution_count": 4,
   "id": "e39ca722",
   "metadata": {
    "vscode": {
     "languageId": "r"
    }
   },
   "outputs": [
    {
     "data": {
      "text/html": [
       "<table class=\"dataframe\">\n",
       "<caption>A matrix: 2 × 1 of type dbl</caption>\n",
       "<tbody>\n",
       "\t<tr><th scope=row>log marginal-likelihood (integration)</th><td>6.483349e-08</td></tr>\n",
       "\t<tr><th scope=row>log marginal-likelihood (Gaussian)</th><td>1.456129e-09</td></tr>\n",
       "</tbody>\n",
       "</table>\n"
      ],
      "text/latex": [
       "A matrix: 2 × 1 of type dbl\n",
       "\\begin{tabular}{r|l}\n",
       "\tlog marginal-likelihood (integration) & 6.483349e-08\\\\\n",
       "\tlog marginal-likelihood (Gaussian) & 1.456129e-09\\\\\n",
       "\\end{tabular}\n"
      ],
      "text/markdown": [
       "\n",
       "A matrix: 2 × 1 of type dbl\n",
       "\n",
       "| log marginal-likelihood (integration) | 6.483349e-08 |\n",
       "| log marginal-likelihood (Gaussian) | 1.456129e-09 |\n",
       "\n"
      ],
      "text/plain": [
       "                                      [,1]        \n",
       "log marginal-likelihood (integration) 6.483349e-08\n",
       "log marginal-likelihood (Gaussian)    1.456129e-09"
      ]
     },
     "metadata": {},
     "output_type": "display_data"
    },
    {
     "data": {
      "text/html": [],
      "text/latex": [],
      "text/markdown": [],
      "text/plain": [
       "numeric(0)"
      ]
     },
     "metadata": {},
     "output_type": "display_data"
    }
   ],
   "source": [
    "library(INLA)\n",
    "n <- 55\n",
    "y <- rnorm(n)\n",
    "Y <- inla.mdata(y)\n",
    "cloglike <- inla.cloglike.define(model = \"inla_cloglike_gaussian\",\n",
    "shlib = \"gaussiantest.so\",\n",
    "debug = FALSE)\n",
    "rr <- inla(y ~ 1,\n",
    "data = data.frame(y = Y[, 1]),\n",
    "family = \"gaussian\",\n",
    "control.family = list(hyper = list(prec = list(param = c(1, 1)))))\n",
    "r <- inla(Y ~ 1,\n",
    "data = list(Y = Y),\n",
    "family = \"cloglike\",\n",
    "control.family = list(cloglike = cloglike))\n",
    "r$mlik - rr$mlik\n",
    "r$mode$theta - rr$mode$th"
   ]
  },
  {
   "cell_type": "code",
   "execution_count": null,
   "id": "b62f75ea",
   "metadata": {
    "vscode": {
     "languageId": "r"
    }
   },
   "outputs": [],
   "source": []
  }
 ],
 "metadata": {
  "kernelspec": {
   "display_name": "R",
   "language": "R",
   "name": "ir"
  },
  "language_info": {
   "codemirror_mode": "r",
   "file_extension": ".r",
   "mimetype": "text/x-r-source",
   "name": "R",
   "pygments_lexer": "r",
   "version": "4.4.3"
  }
 },
 "nbformat": 4,
 "nbformat_minor": 5
}
