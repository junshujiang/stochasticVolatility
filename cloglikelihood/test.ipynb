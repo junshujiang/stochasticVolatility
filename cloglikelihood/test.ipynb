{
 "cells": [
  {
   "cell_type": "code",
   "execution_count": 3,
   "id": "0eafeecc",
   "metadata": {
    "vscode": {
     "languageId": "r"
    }
   },
   "outputs": [
    {
     "data": {
      "text/html": [
       "TRUE"
      ],
      "text/latex": [
       "TRUE"
      ],
      "text/markdown": [
       "TRUE"
      ],
      "text/plain": [
       "[1] TRUE"
      ]
     },
     "metadata": {},
     "output_type": "display_data"
    }
   ],
   "source": [
    "file.remove(\"log.txt\")"
   ]
  },
  {
   "cell_type": "code",
   "execution_count": null,
   "id": "e39ca722",
   "metadata": {
    "vscode": {
     "languageId": "r"
    }
   },
   "outputs": [
    {
     "name": "stderr",
     "output_type": "stream",
     "text": [
      "Warning message in eval(substitute(offset), envir = data, enclos = .parent.frame):\n",
      "“restarting interrupted promise evaluation”\n",
      "Warning message in eval(substitute(scale), envir = data, enclos = .parent.frame):\n",
      "“restarting interrupted promise evaluation”\n",
      "Warning message in eval(substitute(weights), envir = data, enclos = .parent.frame):\n",
      "“restarting interrupted promise evaluation”\n",
      "Warning message in eval(substitute(Ntrials), envir = data, enclos = .parent.frame):\n",
      "“restarting interrupted promise evaluation”\n",
      "Warning message in eval(substitute(strata), envir = data, enclos = .parent.frame):\n",
      "“restarting interrupted promise evaluation”\n",
      "Warning message in eval(substitute(lp.scale), envir = data, enclos = .parent.frame):\n",
      "“restarting interrupted promise evaluation”\n",
      "Warning message in eval(substitute(link.covariates), envir = data, enclos = .parent.frame):\n",
      "“restarting interrupted promise evaluation”\n",
      "Warning message in inla.core(formula = formula, family = family, contrasts = contrasts, :\n",
      "“restarting interrupted promise evaluation”\n"
     ]
    },
    {
     "name": "stdout",
     "output_type": "stream",
     "text": [
      "\n",
      " *** inla.core.safe:  The inla program failed, but will rerun in case better initial values may help. try=1/1 \n"
     ]
    },
    {
     "name": "stderr",
     "output_type": "stream",
     "text": [
      "Warning message in inla.core(formula = formula, family = family, contrasts = contrasts, :\n",
      "“restarting interrupted promise evaluation”\n",
      "Warning message in inla.core(formula = formula, family = family, contrasts = contrasts, :\n",
      "“restarting interrupted promise evaluation”\n"
     ]
    },
    {
     "ename": "ERROR",
     "evalue": "Error in inla.core.safe(formula = formula, family = family, contrasts = contrasts, : incorrect number of dimensions\nThe inla program failed and the maximum number of tries has been reached.\n",
     "output_type": "error",
     "traceback": [
      "Error in inla.core.safe(formula = formula, family = family, contrasts = contrasts, : incorrect number of dimensions\nThe inla program failed and the maximum number of tries has been reached.\nTraceback:\n",
      "1. inla.core.safe(formula = formula, family = family, contrasts = contrasts, \n .     data = data, quantiles = quantiles, E = E, offset = offset, \n .     scale = scale, weights = weights, Ntrials = Ntrials, strata = strata, \n .     lp.scale = lp.scale, link.covariates = link.covariates, verbose = verbose, \n .     lincomb = lincomb, selection = selection, control.compute = control.compute, \n .     control.predictor = control.predictor, control.family = control.family, \n .     control.inla = control.inla, control.fixed = control.fixed, \n .     control.mode = control.mode, control.expert = control.expert, \n .     control.hazard = control.hazard, control.lincomb = control.lincomb, \n .     control.update = control.update, control.lp.scale = control.lp.scale, \n .     control.pardiso = control.pardiso, control.stiles = control.stiles, \n .     control.taucs = control.taucs, control.numa = control.numa, \n .     only.hyperparam = only.hyperparam, inla.call = inla.call, \n .     inla.arg = inla.arg, num.threads = num.threads, keep = keep, \n .     working.directory = working.directory, silent = silent, inla.mode = inla.mode, \n .     safe = FALSE, debug = debug, .parent.frame = .parent.frame)",
      "2. stop(paste0(r$message, \"\\n\", \"The inla program failed and the maximum number of tries has been reached.\"))",
      "3. .handleSimpleError(function (cnd) \n . {\n .     watcher$capture_plot_and_output()\n .     cnd <- sanitize_call(cnd)\n .     watcher$push(cnd)\n .     switch(on_error, continue = invokeRestart(\"eval_continue\"), \n .         stop = invokeRestart(\"eval_stop\"), error = NULL)\n . }, \"incorrect number of dimensions\\nThe inla program failed and the maximum number of tries has been reached.\", \n .     base::quote(inla.core.safe(formula = formula, family = family, \n .         contrasts = contrasts, data = data, quantiles = quantiles, \n .         E = E, offset = offset, scale = scale, weights = weights, \n .         Ntrials = Ntrials, strata = strata, lp.scale = lp.scale, \n .         link.covariates = link.covariates, verbose = verbose, \n .         lincomb = lincomb, selection = selection, control.compute = control.compute, \n .         control.predictor = control.predictor, control.family = control.family, \n .         control.inla = control.inla, control.fixed = control.fixed, \n .         control.mode = control.mode, control.expert = control.expert, \n .         control.hazard = control.hazard, control.lincomb = control.lincomb, \n .         control.update = control.update, control.lp.scale = control.lp.scale, \n .         control.pardiso = control.pardiso, control.stiles = control.stiles, \n .         control.taucs = control.taucs, control.numa = control.numa, \n .         only.hyperparam = only.hyperparam, inla.call = inla.call, \n .         inla.arg = inla.arg, num.threads = num.threads, keep = keep, \n .         working.directory = working.directory, silent = silent, \n .         inla.mode = inla.mode, safe = FALSE, debug = debug, .parent.frame = .parent.frame)))"
     ]
    }
   ],
   "source": [
    "\n",
    "library(INLA)\n",
    "n <- 55\n",
    "y <- rnorm(n)\n",
    "Y <- inla.mdata(y)\n",
    "cloglike <- inla.cloglike.define(model = \"inla_cloglike_stochvol_t\",\n",
    "shlib = \"gaussiantest.so\",\n",
    "debug = TRUE)\n",
    "rr <- inla(y ~ 1,\n",
    "data = data.frame(y = Y[, 1]),\n",
    "family = \"stochvol.t\")\n",
    "r <- inla(Y ~ 1,\n",
    "data = list(Y = Y),\n",
    "family = \"cloglike\",\n",
    "control.family = list(cloglike = cloglike),\n",
    "  verbose = TRUE)\n",
    "r$mlik - rr$mlik\n",
    "r$mode$theta - rr$mode$th"
   ]
  },
  {
   "cell_type": "code",
   "execution_count": 9,
   "id": "a48dd917",
   "metadata": {
    "vscode": {
     "languageId": "r"
    }
   },
   "outputs": [
    {
     "data": {
      "text/html": [
       "<table class=\"dataframe\">\n",
       "<caption>A inla.mdata: 55 × 1</caption>\n",
       "<thead>\n",
       "\t<tr><th scope=col>Y1</th></tr>\n",
       "\t<tr><th scope=col>&lt;dbl&gt;</th></tr>\n",
       "</thead>\n",
       "<tbody>\n",
       "\t<tr><td>-0.59359913</td></tr>\n",
       "\t<tr><td>-1.53490238</td></tr>\n",
       "\t<tr><td> 0.48228977</td></tr>\n",
       "\t<tr><td>-0.52636758</td></tr>\n",
       "\t<tr><td> 1.71337367</td></tr>\n",
       "\t<tr><td>-1.58234286</td></tr>\n",
       "\t<tr><td>-0.07380673</td></tr>\n",
       "\t<tr><td> 0.75730121</td></tr>\n",
       "\t<tr><td>-1.91904715</td></tr>\n",
       "\t<tr><td>-1.96495391</td></tr>\n",
       "\t<tr><td> 0.56859775</td></tr>\n",
       "\t<tr><td> 0.28374248</td></tr>\n",
       "\t<tr><td>-1.52867398</td></tr>\n",
       "\t<tr><td>-0.11847357</td></tr>\n",
       "\t<tr><td> 0.20408525</td></tr>\n",
       "\t<tr><td>-0.15951085</td></tr>\n",
       "\t<tr><td>-0.70781494</td></tr>\n",
       "\t<tr><td> 0.85436960</td></tr>\n",
       "\t<tr><td>-0.45283756</td></tr>\n",
       "\t<tr><td>-0.95559200</td></tr>\n",
       "\t<tr><td> 0.24735921</td></tr>\n",
       "\t<tr><td> 0.75387093</td></tr>\n",
       "\t<tr><td>-0.42631561</td></tr>\n",
       "\t<tr><td>-0.47133306</td></tr>\n",
       "\t<tr><td>-1.01051620</td></tr>\n",
       "\t<tr><td> 0.16582311</td></tr>\n",
       "\t<tr><td>-0.48698509</td></tr>\n",
       "\t<tr><td>-1.22773464</td></tr>\n",
       "\t<tr><td>-0.07448371</td></tr>\n",
       "\t<tr><td>-1.05800222</td></tr>\n",
       "\t<tr><td>-1.50494746</td></tr>\n",
       "\t<tr><td>-0.84187401</td></tr>\n",
       "\t<tr><td> 0.85793695</td></tr>\n",
       "\t<tr><td>-1.34597396</td></tr>\n",
       "\t<tr><td>-0.97820760</td></tr>\n",
       "\t<tr><td>-0.41743542</td></tr>\n",
       "\t<tr><td> 0.73718311</td></tr>\n",
       "\t<tr><td>-1.03568376</td></tr>\n",
       "\t<tr><td> 1.42324497</td></tr>\n",
       "\t<tr><td>-1.91576567</td></tr>\n",
       "\t<tr><td> 0.94660589</td></tr>\n",
       "\t<tr><td>-0.08348413</td></tr>\n",
       "\t<tr><td> 0.49553127</td></tr>\n",
       "\t<tr><td> 1.04548217</td></tr>\n",
       "\t<tr><td>-2.23696392</td></tr>\n",
       "\t<tr><td>-0.81157105</td></tr>\n",
       "\t<tr><td>-1.08256909</td></tr>\n",
       "\t<tr><td>-0.37879545</td></tr>\n",
       "\t<tr><td>-0.39597837</td></tr>\n",
       "\t<tr><td>-0.87261234</td></tr>\n",
       "\t<tr><td>-1.13675899</td></tr>\n",
       "\t<tr><td>-0.24850891</td></tr>\n",
       "\t<tr><td>-0.06706589</td></tr>\n",
       "\t<tr><td> 0.59562658</td></tr>\n",
       "\t<tr><td>-0.53179542</td></tr>\n",
       "</tbody>\n",
       "</table>\n"
      ],
      "text/latex": [
       "A inla.mdata: 55 × 1\n",
       "\\begin{tabular}{l}\n",
       " Y1\\\\\n",
       " <dbl>\\\\\n",
       "\\hline\n",
       "\t -0.59359913\\\\\n",
       "\t -1.53490238\\\\\n",
       "\t  0.48228977\\\\\n",
       "\t -0.52636758\\\\\n",
       "\t  1.71337367\\\\\n",
       "\t -1.58234286\\\\\n",
       "\t -0.07380673\\\\\n",
       "\t  0.75730121\\\\\n",
       "\t -1.91904715\\\\\n",
       "\t -1.96495391\\\\\n",
       "\t  0.56859775\\\\\n",
       "\t  0.28374248\\\\\n",
       "\t -1.52867398\\\\\n",
       "\t -0.11847357\\\\\n",
       "\t  0.20408525\\\\\n",
       "\t -0.15951085\\\\\n",
       "\t -0.70781494\\\\\n",
       "\t  0.85436960\\\\\n",
       "\t -0.45283756\\\\\n",
       "\t -0.95559200\\\\\n",
       "\t  0.24735921\\\\\n",
       "\t  0.75387093\\\\\n",
       "\t -0.42631561\\\\\n",
       "\t -0.47133306\\\\\n",
       "\t -1.01051620\\\\\n",
       "\t  0.16582311\\\\\n",
       "\t -0.48698509\\\\\n",
       "\t -1.22773464\\\\\n",
       "\t -0.07448371\\\\\n",
       "\t -1.05800222\\\\\n",
       "\t -1.50494746\\\\\n",
       "\t -0.84187401\\\\\n",
       "\t  0.85793695\\\\\n",
       "\t -1.34597396\\\\\n",
       "\t -0.97820760\\\\\n",
       "\t -0.41743542\\\\\n",
       "\t  0.73718311\\\\\n",
       "\t -1.03568376\\\\\n",
       "\t  1.42324497\\\\\n",
       "\t -1.91576567\\\\\n",
       "\t  0.94660589\\\\\n",
       "\t -0.08348413\\\\\n",
       "\t  0.49553127\\\\\n",
       "\t  1.04548217\\\\\n",
       "\t -2.23696392\\\\\n",
       "\t -0.81157105\\\\\n",
       "\t -1.08256909\\\\\n",
       "\t -0.37879545\\\\\n",
       "\t -0.39597837\\\\\n",
       "\t -0.87261234\\\\\n",
       "\t -1.13675899\\\\\n",
       "\t -0.24850891\\\\\n",
       "\t -0.06706589\\\\\n",
       "\t  0.59562658\\\\\n",
       "\t -0.53179542\\\\\n",
       "\\end{tabular}\n"
      ],
      "text/markdown": [
       "\n",
       "A inla.mdata: 55 × 1\n",
       "\n",
       "| Y1 &lt;dbl&gt; |\n",
       "|---|\n",
       "| -0.59359913 |\n",
       "| -1.53490238 |\n",
       "|  0.48228977 |\n",
       "| -0.52636758 |\n",
       "|  1.71337367 |\n",
       "| -1.58234286 |\n",
       "| -0.07380673 |\n",
       "|  0.75730121 |\n",
       "| -1.91904715 |\n",
       "| -1.96495391 |\n",
       "|  0.56859775 |\n",
       "|  0.28374248 |\n",
       "| -1.52867398 |\n",
       "| -0.11847357 |\n",
       "|  0.20408525 |\n",
       "| -0.15951085 |\n",
       "| -0.70781494 |\n",
       "|  0.85436960 |\n",
       "| -0.45283756 |\n",
       "| -0.95559200 |\n",
       "|  0.24735921 |\n",
       "|  0.75387093 |\n",
       "| -0.42631561 |\n",
       "| -0.47133306 |\n",
       "| -1.01051620 |\n",
       "|  0.16582311 |\n",
       "| -0.48698509 |\n",
       "| -1.22773464 |\n",
       "| -0.07448371 |\n",
       "| -1.05800222 |\n",
       "| -1.50494746 |\n",
       "| -0.84187401 |\n",
       "|  0.85793695 |\n",
       "| -1.34597396 |\n",
       "| -0.97820760 |\n",
       "| -0.41743542 |\n",
       "|  0.73718311 |\n",
       "| -1.03568376 |\n",
       "|  1.42324497 |\n",
       "| -1.91576567 |\n",
       "|  0.94660589 |\n",
       "| -0.08348413 |\n",
       "|  0.49553127 |\n",
       "|  1.04548217 |\n",
       "| -2.23696392 |\n",
       "| -0.81157105 |\n",
       "| -1.08256909 |\n",
       "| -0.37879545 |\n",
       "| -0.39597837 |\n",
       "| -0.87261234 |\n",
       "| -1.13675899 |\n",
       "| -0.24850891 |\n",
       "| -0.06706589 |\n",
       "|  0.59562658 |\n",
       "| -0.53179542 |\n",
       "\n"
      ],
      "text/plain": [
       "   Y1         \n",
       "1  -0.59359913\n",
       "2  -1.53490238\n",
       "3   0.48228977\n",
       "4  -0.52636758\n",
       "5   1.71337367\n",
       "6  -1.58234286\n",
       "7  -0.07380673\n",
       "8   0.75730121\n",
       "9  -1.91904715\n",
       "10 -1.96495391\n",
       "11  0.56859775\n",
       "12  0.28374248\n",
       "13 -1.52867398\n",
       "14 -0.11847357\n",
       "15  0.20408525\n",
       "16 -0.15951085\n",
       "17 -0.70781494\n",
       "18  0.85436960\n",
       "19 -0.45283756\n",
       "20 -0.95559200\n",
       "21  0.24735921\n",
       "22  0.75387093\n",
       "23 -0.42631561\n",
       "24 -0.47133306\n",
       "25 -1.01051620\n",
       "26  0.16582311\n",
       "27 -0.48698509\n",
       "28 -1.22773464\n",
       "29 -0.07448371\n",
       "30 -1.05800222\n",
       "31 -1.50494746\n",
       "32 -0.84187401\n",
       "33  0.85793695\n",
       "34 -1.34597396\n",
       "35 -0.97820760\n",
       "36 -0.41743542\n",
       "37  0.73718311\n",
       "38 -1.03568376\n",
       "39  1.42324497\n",
       "40 -1.91576567\n",
       "41  0.94660589\n",
       "42 -0.08348413\n",
       "43  0.49553127\n",
       "44  1.04548217\n",
       "45 -2.23696392\n",
       "46 -0.81157105\n",
       "47 -1.08256909\n",
       "48 -0.37879545\n",
       "49 -0.39597837\n",
       "50 -0.87261234\n",
       "51 -1.13675899\n",
       "52 -0.24850891\n",
       "53 -0.06706589\n",
       "54  0.59562658\n",
       "55 -0.53179542"
      ]
     },
     "metadata": {},
     "output_type": "display_data"
    }
   ],
   "source": [
    "Y"
   ]
  },
  {
   "cell_type": "code",
   "execution_count": 2,
   "id": "5b16049b",
   "metadata": {
    "vscode": {
     "languageId": "r"
    }
   },
   "outputs": [
    {
     "name": "stderr",
     "output_type": "stream",
     "text": [
      "Warning message:\n",
      "“unable to access index for repository https://cran.pau.edu.tr/src/contrib:\n",
      "  cannot open URL 'https://cran.pau.edu.tr/src/contrib/PACKAGES'”\n",
      "Warning message:\n",
      "“package ‘pak’ is not available for this version of R\n",
      "\n",
      "A version of this package for your version of R might be available elsewhere,\n",
      "see the ideas at\n",
      "https://cran.r-project.org/doc/manuals/r-patched/R-admin.html#Installing-packages”\n"
     ]
    }
   ],
   "source": [
    "install.packages(\"pak\")"
   ]
  },
  {
   "cell_type": "code",
   "execution_count": null,
   "id": "0712b111",
   "metadata": {
    "vscode": {
     "languageId": "r"
    }
   },
   "outputs": [
    {
     "data": {
      "text/plain": [
       "Time used:\n",
       "    Pre = 0.427, Running = 0.147, Post = 0.00285, Total = 0.576 \n",
       "Fixed effects:\n",
       "             mean    sd 0.025quant 0.5quant 0.975quant  mode kld\n",
       "(Intercept) 0.076 0.193     -0.301    0.076      0.454 0.076   0\n",
       "\n",
       "Marginal log-Likelihood:  -80.46 \n",
       " is computed \n",
       "Posterior summaries for the linear predictor and the fitted values are computed\n",
       "(Posterior marginals needs also 'control.compute=list(return.marginals.predictor=TRUE)')\n"
      ]
     },
     "metadata": {},
     "output_type": "display_data"
    }
   ],
   "source": [
    "summary(r)"
   ]
  },
  {
   "cell_type": "code",
   "execution_count": 12,
   "id": "bd8afdb5",
   "metadata": {
    "vscode": {
     "languageId": "r"
    }
   },
   "outputs": [
    {
     "data": {
      "text/plain": [
       "Time used:\n",
       "    Pre = 0.361, Running = 0.176, Post = 0.00717, Total = 0.545 \n",
       "Fixed effects:\n",
       "             mean   sd 0.025quant 0.5quant 0.975quant  mode kld\n",
       "(Intercept) 0.089 0.24     -0.361    0.081      0.586 0.083   0\n",
       "\n",
       "Model hyperparameters:\n",
       "                                           mean    sd 0.025quant 0.5quant\n",
       "degrees of freedom for stochvol student-t 21.50 43.47       3.64     9.98\n",
       "                                          0.975quant mode\n",
       "degrees of freedom for stochvol student-t     102.28 5.71\n",
       "\n",
       "Marginal log-Likelihood:  -79.76 \n",
       " is computed \n",
       "Posterior summaries for the linear predictor and the fitted values are computed\n",
       "(Posterior marginals needs also 'control.compute=list(return.marginals.predictor=TRUE)')\n"
      ]
     },
     "metadata": {},
     "output_type": "display_data"
    }
   ],
   "source": [
    "summary(rr)"
   ]
  },
  {
   "cell_type": "code",
   "execution_count": 7,
   "id": "b54d5131",
   "metadata": {
    "vscode": {
     "languageId": "r"
    }
   },
   "outputs": [
    {
     "data": {
      "text/html": [
       "0.693147180559945"
      ],
      "text/latex": [
       "0.693147180559945"
      ],
      "text/markdown": [
       "0.693147180559945"
      ],
      "text/plain": [
       "[1] 0.6931472"
      ]
     },
     "metadata": {},
     "output_type": "display_data"
    }
   ],
   "source": [
    "log(2.0)"
   ]
  },
  {
   "cell_type": "code",
   "execution_count": 8,
   "id": "1b6bd172",
   "metadata": {
    "vscode": {
     "languageId": "r"
    }
   },
   "outputs": [
    {
     "data": {
      "text/plain": [
       "Time used:\n",
       "    Pre = 0.453, Running = 0.172, Post = 0.00433, Total = 0.629 \n",
       "Fixed effects:\n",
       "              mean    sd 0.025quant 0.5quant 0.975quant   mode kld\n",
       "(Intercept) -0.201 0.214     -0.609   -0.205      0.235 -0.205   0\n",
       "\n",
       "Model hyperparameters:\n",
       "                                           mean     sd 0.025quant 0.5quant\n",
       "degrees of freedom for stochvol student-t 89.56 319.63       5.40    24.71\n",
       "                                          0.975quant mode\n",
       "degrees of freedom for stochvol student-t     523.38 9.29\n",
       "\n",
       "Marginal log-Likelihood:  -71.89 \n",
       " is computed \n",
       "Posterior summaries for the linear predictor and the fitted values are computed\n",
       "(Posterior marginals needs also 'control.compute=list(return.marginals.predictor=TRUE)')\n"
      ]
     },
     "metadata": {},
     "output_type": "display_data"
    }
   ],
   "source": [
    "summary(rr)"
   ]
  },
  {
   "cell_type": "code",
   "execution_count": 12,
   "id": "3faa06e0",
   "metadata": {
    "vscode": {
     "languageId": "r"
    }
   },
   "outputs": [
    {
     "data": {
      "text/html": [
       "<table class=\"dataframe\">\n",
       "<caption>A matrix: 2 × 1 of type dbl</caption>\n",
       "<tbody>\n",
       "\t<tr><th scope=row>log marginal-likelihood (integration)</th><td>-72.59264</td></tr>\n",
       "\t<tr><th scope=row>log marginal-likelihood (Gaussian)</th><td>-72.95708</td></tr>\n",
       "</tbody>\n",
       "</table>\n"
      ],
      "text/latex": [
       "A matrix: 2 × 1 of type dbl\n",
       "\\begin{tabular}{r|l}\n",
       "\tlog marginal-likelihood (integration) & -72.59264\\\\\n",
       "\tlog marginal-likelihood (Gaussian) & -72.95708\\\\\n",
       "\\end{tabular}\n"
      ],
      "text/markdown": [
       "\n",
       "A matrix: 2 × 1 of type dbl\n",
       "\n",
       "| log marginal-likelihood (integration) | -72.59264 |\n",
       "| log marginal-likelihood (Gaussian) | -72.95708 |\n",
       "\n"
      ],
      "text/plain": [
       "                                      [,1]     \n",
       "log marginal-likelihood (integration) -72.59264\n",
       "log marginal-likelihood (Gaussian)    -72.95708"
      ]
     },
     "metadata": {},
     "output_type": "display_data"
    }
   ],
   "source": [
    "r$mlik"
   ]
  },
  {
   "cell_type": "code",
   "execution_count": null,
   "id": "86fd348d",
   "metadata": {
    "vscode": {
     "languageId": "r"
    }
   },
   "outputs": [
    {
     "data": {
      "text/html": [
       "<table class=\"dataframe\">\n",
       "<caption>A matrix: 2 × 1 of type dbl</caption>\n",
       "<tbody>\n",
       "\t<tr><th scope=row>log marginal-likelihood (integration)</th><td>4.710621</td></tr>\n",
       "\t<tr><th scope=row>log marginal-likelihood (Gaussian)</th><td>4.792480</td></tr>\n",
       "</tbody>\n",
       "</table>\n"
      ],
      "text/latex": [
       "A matrix: 2 × 1 of type dbl\n",
       "\\begin{tabular}{r|l}\n",
       "\tlog marginal-likelihood (integration) & 4.710621\\\\\n",
       "\tlog marginal-likelihood (Gaussian) & 4.792480\\\\\n",
       "\\end{tabular}\n"
      ],
      "text/markdown": [
       "\n",
       "A matrix: 2 × 1 of type dbl\n",
       "\n",
       "| log marginal-likelihood (integration) | 4.710621 |\n",
       "| log marginal-likelihood (Gaussian) | 4.792480 |\n",
       "\n"
      ],
      "text/plain": [
       "                                      [,1]    \n",
       "log marginal-likelihood (integration) 4.710621\n",
       "log marginal-likelihood (Gaussian)    4.792480"
      ]
     },
     "metadata": {},
     "output_type": "display_data"
    },
    {
     "data": {
      "text/html": [],
      "text/latex": [],
      "text/markdown": [],
      "text/plain": [
       "numeric(0)"
      ]
     },
     "metadata": {},
     "output_type": "display_data"
    }
   ],
   "source": []
  },
  {
   "cell_type": "code",
   "execution_count": 4,
   "id": "da405a1f",
   "metadata": {
    "vscode": {
     "languageId": "r"
    }
   },
   "outputs": [
    {
     "data": {
      "text/html": [
       "<table class=\"dataframe\">\n",
       "<caption>A matrix: 2 × 1 of type dbl</caption>\n",
       "<tbody>\n",
       "\t<tr><th scope=row>log marginal-likelihood (integration)</th><td>-75.89579</td></tr>\n",
       "\t<tr><th scope=row>log marginal-likelihood (Gaussian)</th><td>-75.89579</td></tr>\n",
       "</tbody>\n",
       "</table>\n"
      ],
      "text/latex": [
       "A matrix: 2 × 1 of type dbl\n",
       "\\begin{tabular}{r|l}\n",
       "\tlog marginal-likelihood (integration) & -75.89579\\\\\n",
       "\tlog marginal-likelihood (Gaussian) & -75.89579\\\\\n",
       "\\end{tabular}\n"
      ],
      "text/markdown": [
       "\n",
       "A matrix: 2 × 1 of type dbl\n",
       "\n",
       "| log marginal-likelihood (integration) | -75.89579 |\n",
       "| log marginal-likelihood (Gaussian) | -75.89579 |\n",
       "\n"
      ],
      "text/plain": [
       "                                      [,1]     \n",
       "log marginal-likelihood (integration) -75.89579\n",
       "log marginal-likelihood (Gaussian)    -75.89579"
      ]
     },
     "metadata": {},
     "output_type": "display_data"
    }
   ],
   "source": [
    "rr$mlik"
   ]
  },
  {
   "cell_type": "code",
   "execution_count": 3,
   "metadata": {
    "vscode": {
     "languageId": "r"
    }
   },
   "outputs": [
    {
     "data": {
      "text/html": [
       "<table class=\"dataframe\">\n",
       "<caption>A matrix: 2 × 1 of type dbl</caption>\n",
       "<tbody>\n",
       "\t<tr><th scope=row>log marginal-likelihood (integration)</th><td>-75.89579</td></tr>\n",
       "\t<tr><th scope=row>log marginal-likelihood (Gaussian)</th><td>-75.89579</td></tr>\n",
       "</tbody>\n",
       "</table>\n"
      ],
      "text/latex": [
       "A matrix: 2 × 1 of type dbl\n",
       "\\begin{tabular}{r|l}\n",
       "\tlog marginal-likelihood (integration) & -75.89579\\\\\n",
       "\tlog marginal-likelihood (Gaussian) & -75.89579\\\\\n",
       "\\end{tabular}\n"
      ],
      "text/markdown": [
       "\n",
       "A matrix: 2 × 1 of type dbl\n",
       "\n",
       "| log marginal-likelihood (integration) | -75.89579 |\n",
       "| log marginal-likelihood (Gaussian) | -75.89579 |\n",
       "\n"
      ],
      "text/plain": [
       "                                      [,1]     \n",
       "log marginal-likelihood (integration) -75.89579\n",
       "log marginal-likelihood (Gaussian)    -75.89579"
      ]
     },
     "metadata": {},
     "output_type": "display_data"
    }
   ],
   "source": [
    "r$mlik"
   ]
  },
  {
   "cell_type": "code",
   "execution_count": null,
   "id": "9cf60459",
   "metadata": {
    "vscode": {
     "languageId": "r"
    }
   },
   "outputs": [],
   "source": []
  },
  {
   "cell_type": "code",
   "execution_count": null,
   "id": "84574fd8",
   "metadata": {
    "vscode": {
     "languageId": "r"
    }
   },
   "outputs": [],
   "source": []
  },
  {
   "cell_type": "code",
   "execution_count": null,
   "id": "60f3f9ba",
   "metadata": {
    "vscode": {
     "languageId": "r"
    }
   },
   "outputs": [],
   "source": [
    "data.frame(y = Y[, 1])"
   ]
  },
  {
   "cell_type": "code",
   "execution_count": null,
   "id": "13a08f04",
   "metadata": {
    "vscode": {
     "languageId": "r"
    }
   },
   "outputs": [],
   "source": [
    "data"
   ]
  },
  {
   "cell_type": "code",
   "execution_count": null,
   "id": "b62f75ea",
   "metadata": {
    "vscode": {
     "languageId": "r"
    }
   },
   "outputs": [],
   "source": [
    "r <- inla(Y ~ 1,\n",
    "data = list(Y = Y),\n",
    "family = \"cloglike\",\n",
    "control.family = list(cloglike = cloglike))\n",
    "r$mlik - rr$mlik\n",
    "r$mode$theta - rr$mode$th"
   ]
  },
  {
   "cell_type": "code",
   "execution_count": null,
   "id": "cd0d6834",
   "metadata": {
    "vscode": {
     "languageId": "r"
    }
   },
   "outputs": [],
   "source": []
  }
 ],
 "metadata": {
  "kernelspec": {
   "display_name": "R",
   "language": "R",
   "name": "ir"
  },
  "language_info": {
   "codemirror_mode": "r",
   "file_extension": ".r",
   "mimetype": "text/x-r-source",
   "name": "R",
   "pygments_lexer": "r",
   "version": "4.4.3"
  }
 },
 "nbformat": 4,
 "nbformat_minor": 5
}
