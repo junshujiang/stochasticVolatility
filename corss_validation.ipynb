{
 "cells": [
  {
   "cell_type": "code",
   "execution_count": null,
   "id": "6981dadf",
   "metadata": {
    "vscode": {
     "languageId": "r"
    }
   },
   "outputs": [],
   "source": [
    "build_index <- function(data_size, window,size=10) {\n",
    "    train <- test <- list()\n",
    "\n",
    "    k = 1\n",
    "    by=as.integer(length(data$times)/size)\n",
    "    by=max(by,window)\n",
    "    for (i in seq(from = window, to = data_size - window, by = by)) {\n",
    "        train[[k]] <- 1:i\n",
    "        test[[k]] <- (i + 1):(i + window)\n",
    "        k = k + 1\n",
    "    }\n",
    "    index = list(train = train, test = test)\n",
    "    return(index)\n",
    "}\n"
   ]
  }
 ],
 "metadata": {
  "language_info": {
   "name": "python"
  }
 },
 "nbformat": 4,
 "nbformat_minor": 5
}
