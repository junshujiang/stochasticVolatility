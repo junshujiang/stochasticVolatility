{
 "cells": [
  {
   "cell_type": "code",
   "execution_count": null,
   "id": "569cdf3d",
   "metadata": {},
   "outputs": [
    {
     "ename": "TypeError",
     "evalue": "_unpickle_timestamp() takes exactly 3 positional arguments (4 given)",
     "output_type": "error",
     "traceback": [
      "\u001b[0;31m---------------------------------------------------------------------------\u001b[0m",
      "\u001b[0;31mTypeError\u001b[0m                                 Traceback (most recent call last)",
      "\u001b[0;32m<ipython-input-1-6df24c890d4b>\u001b[0m in \u001b[0;36m<module>\u001b[0;34m\u001b[0m\n\u001b[1;32m      1\u001b[0m \u001b[0;32mimport\u001b[0m \u001b[0mpickle\u001b[0m\u001b[0;34m\u001b[0m\u001b[0;34m\u001b[0m\u001b[0m\n\u001b[0;32m----> 2\u001b[0;31m \u001b[0mpickle\u001b[0m\u001b[0;34m.\u001b[0m\u001b[0mload\u001b[0m\u001b[0;34m(\u001b[0m\u001b[0mopen\u001b[0m\u001b[0;34m(\u001b[0m\u001b[0;34m\"data/option_close_price0419_IO2405.pkl\"\u001b[0m\u001b[0;34m,\u001b[0m \u001b[0;34m\"rb\"\u001b[0m\u001b[0;34m)\u001b[0m\u001b[0;34m)\u001b[0m\u001b[0;34m\u001b[0m\u001b[0;34m\u001b[0m\u001b[0m\n\u001b[0m",
      "\u001b[0;32m~/anaconda3/envs/py3-env/lib/python3.7/site-packages/pandas/_libs/tslibs/timestamps.pyx\u001b[0m in \u001b[0;36mpandas._libs.tslibs.timestamps._unpickle_timestamp\u001b[0;34m()\u001b[0m\n",
      "\u001b[0;31mTypeError\u001b[0m: _unpickle_timestamp() takes exactly 3 positional arguments (4 given)"
     ]
    }
   ],
   "source": [
    "import pickle\n",
    "pickle.load(open(\"data/option_close_price0419_IO2405.pkl\", \"rb\"))"
   ]
  },
  {
   "cell_type": "code",
   "execution_count": null,
   "id": "2230d048",
   "metadata": {},
   "outputs": [],
   "source": [
    "import pandas as pd\n",
    "data=pd.read_csv(\"data/IFclose.csv\")\n",
    "data[\"date\"]=pd.to_datetime(data[\"date\"],format=\"%Y%m%d\").dt.strftime(\"%Y-%m-%d\")"
   ]
  },
  {
   "cell_type": "code",
   "execution_count": 15,
   "id": "68c330a2",
   "metadata": {},
   "outputs": [],
   "source": [
    "data.to_csv(\"data/IFclose.csv\",index=False)"
   ]
  },
  {
   "cell_type": "code",
   "execution_count": 14,
   "id": "83bbc390",
   "metadata": {},
   "outputs": [
    {
     "data": {
      "text/plain": [
       "0       2017-07-04\n",
       "1       2017-07-05\n",
       "2       2017-07-06\n",
       "3       2017-07-07\n",
       "4       2017-07-10\n",
       "           ...    \n",
       "1590    2024-04-15\n",
       "1591    2024-04-16\n",
       "1592    2024-04-17\n",
       "1593    2024-04-18\n",
       "1594    2024-04-19\n",
       "Name: date, Length: 1595, dtype: object"
      ]
     },
     "execution_count": 14,
     "metadata": {},
     "output_type": "execute_result"
    }
   ],
   "source": [
    "data[\"date\"]"
   ]
  },
  {
   "cell_type": "code",
   "execution_count": null,
   "id": "84085889",
   "metadata": {},
   "outputs": [],
   "source": [
    "import pandas as pd\n",
    "pd.re"
   ]
  },
  {
   "cell_type": "code",
   "execution_count": null,
   "id": "d58c8586",
   "metadata": {},
   "outputs": [],
   "source": []
  }
 ],
 "metadata": {
  "kernelspec": {
   "display_name": "py3-env",
   "language": "python",
   "name": "python3"
  },
  "language_info": {
   "codemirror_mode": {
    "name": "ipython",
    "version": 3
   },
   "file_extension": ".py",
   "mimetype": "text/x-python",
   "name": "python",
   "nbconvert_exporter": "python",
   "pygments_lexer": "ipython3",
   "version": "3.7.10"
  }
 },
 "nbformat": 4,
 "nbformat_minor": 5
}
