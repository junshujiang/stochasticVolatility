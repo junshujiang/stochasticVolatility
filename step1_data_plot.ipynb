{
 "cells": [
  {
   "cell_type": "code",
   "execution_count": 7,
   "id": "80490fd9",
   "metadata": {
    "vscode": {
     "languageId": "r"
    }
   },
   "outputs": [
    {
     "name": "stdout",
     "output_type": "stream",
     "text": [
      "INFO [2025-08-06 17:05:22] 开始实验\n"
     ]
    }
   ],
   "source": [
    "source(\"helper.R\")\n",
    "## get logger\n",
    "max_expid<-get_max(\"Log\")+1\n",
    "exp_name<-\"visualization\"\n",
    "log_dir<-glue(\"Log/{max_expid}.{exp_name}\")\n",
    "logger=get_logger(log_dir, log_name = \"log\", debug = TRUE)\n",
    "futile.logger::flog.info(\"开始实验\", name = \"log\")"
   ]
  },
  {
   "cell_type": "code",
   "execution_count": 9,
   "id": "8e81122f",
   "metadata": {
    "vscode": {
     "languageId": "r"
    }
   },
   "outputs": [
    {
     "name": "stderr",
     "output_type": "stream",
     "text": [
      "\u001b[1mRows: \u001b[22m\u001b[34m1595\u001b[39m \u001b[1mColumns: \u001b[22m\u001b[34m3\u001b[39m\n",
      "\u001b[36m──\u001b[39m \u001b[1mColumn specification\u001b[22m \u001b[36m────────────────────────────────────────────────────────\u001b[39m\n",
      "\u001b[1mDelimiter:\u001b[22m \",\"\n",
      "\u001b[31mchr\u001b[39m (1): ins_id\n",
      "\u001b[32mdbl\u001b[39m (2): Date, close\n",
      "\n",
      "\u001b[36mℹ\u001b[39m Use `spec()` to retrieve the full column specification for this data.\n",
      "\u001b[36mℹ\u001b[39m Specify the column types or set `show_col_types = FALSE` to quiet this message.\n"
     ]
    },
    {
     "name": "stderr",
     "output_type": "stream",
     "text": [
      "\u001b[1mRows: \u001b[22m\u001b[34m2372\u001b[39m \u001b[1mColumns: \u001b[22m\u001b[34m10\u001b[39m\n",
      "\u001b[36m──\u001b[39m \u001b[1mColumn specification\u001b[22m \u001b[36m────────────────────────────────────────────────────────\u001b[39m\n",
      "\u001b[1mDelimiter:\u001b[22m \",\"\n",
      "\u001b[32mdbl\u001b[39m  (9): Open, High, Low, Close, Volume, Dividends, Stock Splits, vol10, vol30\n",
      "\u001b[34mdate\u001b[39m (1): Date\n",
      "\n",
      "\u001b[36mℹ\u001b[39m Use `spec()` to retrieve the full column specification for this data.\n",
      "\u001b[36mℹ\u001b[39m Specify the column types or set `show_col_types = FALSE` to quiet this message.\n"
     ]
    }
   ],
   "source": [
    "data_ori <- as.data.frame(read_csv(\"data/IFclose.csv\"))\n",
    "logpt<-log(data_ori$close)\n",
    "logreturn <-logpt[2:length(logpt)]-logpt[1:(length(logpt)-1)]\n",
    "date <- as.Date(as.character(data_ori$Date[1:(length(data_ori$Date)-1)]), format = \"%Y%m%d\")\n",
    "date_timeindex<-as.numeric(as.POSIXct(date)) \n",
    "date_timeindex <- (date_timeindex - min(date_timeindex))/86400 ## 1 day = 86400 seconds\n",
    "mesh <- fm_mesh_1d(date_timeindex)\n",
    "dataChina = list(logreturn = logreturn, times = date_timeindex)\n",
    "data_ori <- as.data.frame(read_csv(\"data/1180_vol.csv\"))\n",
    "logpt<-log(data_ori$Close)\n",
    "logreturn <-logpt[2:length(logpt)]-logpt[1:(length(logpt)-1)] ## 1 day = 86400 seconds\n",
    "date <- data_ori$Date[1:(length(data_ori$Date)-1)]\n",
    "date_timeindex<-as.numeric(as.POSIXct(date)) \n",
    "date_timeindex <- (date_timeindex - min(date_timeindex))/86400\n",
    "mesh <- fm_mesh_1d(date_timeindex)\n",
    "dataSaudi = list(logreturn = logreturn, times = date_timeindex)\n",
    "\n",
    "\n",
    "par(bg = \"white\") \n"
   ]
  },
  {
   "cell_type": "code",
   "execution_count": 12,
   "id": "262aa1e9",
   "metadata": {
    "vscode": {
     "languageId": "r"
    }
   },
   "outputs": [
    {
     "data": {
      "text/html": [
       "<strong>pdf:</strong> 2"
      ],
      "text/latex": [
       "\\textbf{pdf:} 2"
      ],
      "text/markdown": [
       "**pdf:** 2"
      ],
      "text/plain": [
       "pdf \n",
       "  2 "
      ]
     },
     "metadata": {},
     "output_type": "display_data"
    },
    {
     "data": {
      "text/html": [
       "<strong>pdf:</strong> 2"
      ],
      "text/latex": [
       "\\textbf{pdf:} 2"
      ],
      "text/markdown": [
       "**pdf:** 2"
      ],
      "text/plain": [
       "pdf \n",
       "  2 "
      ]
     },
     "metadata": {},
     "output_type": "display_data"
    }
   ],
   "source": [
    "\n",
    "\n",
    "# 保存 dataSaudi$logreturn 图\n",
    "png(filename = glue(\"{log_dir}/data_plot_saudi.png\"), width = 800, height = 600)\n",
    "plot(dataSaudi$logreturn, type = \"l\", main = \"Saudi log-return\", ylab = \"logreturn\", xlab = \"Time\")\n",
    "dev.off()\n",
    "\n",
    "# 保存 dataChina$logreturn 图\n",
    "png(filename = glue(\"{log_dir}/data_plot_china.png\"), width = 800, height = 600)\n",
    "plot(dataChina$logreturn, type = \"l\", main = \"China log-return\", ylab = \"logreturn\", xlab = \"Time\")\n",
    "dev.off()\n"
   ]
  },
  {
   "cell_type": "code",
   "execution_count": null,
   "id": "6d61e873",
   "metadata": {
    "vscode": {
     "languageId": "r"
    }
   },
   "outputs": [],
   "source": []
  }
 ],
 "metadata": {
  "kernelspec": {
   "display_name": "R",
   "language": "R",
   "name": "ir"
  },
  "language_info": {
   "codemirror_mode": "r",
   "file_extension": ".r",
   "mimetype": "text/x-r-source",
   "name": "R",
   "pygments_lexer": "r",
   "version": "4.5.0"
  }
 },
 "nbformat": 4,
 "nbformat_minor": 5
}
