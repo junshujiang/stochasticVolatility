{
 "cells": [
  {
   "cell_type": "code",
   "execution_count": null,
   "id": "80490fd9",
   "metadata": {
    "vscode": {
     "languageId": "r"
    }
   },
   "outputs": [],
   "source": [
    "source(\"helper.R\")\n",
    "## get logger\n",
    "max_expid<-get_max(\"Log\")+1\n",
    "exp_name<-\"visualization\"\n",
    "log_dir<-glue(\"Log/{max_expid}.{exp_name}\")\n",
    "logger=get_logger(log_dir, log_name = \"log\", debug = TRUE)\n",
    "futile.logger::flog.info(\"start experiment\", name = \"log\")"
   ]
  },
  {
   "cell_type": "code",
   "execution_count": null,
   "id": "2cad3f30",
   "metadata": {
    "vscode": {
     "languageId": "r"
    }
   },
   "outputs": [],
   "source": []
  },
  {
   "cell_type": "code",
   "execution_count": null,
   "id": "0bab04be",
   "metadata": {
    "vscode": {
     "languageId": "r"
    }
   },
   "outputs": [],
   "source": [
    "data_IF <- load_data(\"data/IFclose.csv\")"
   ]
  },
  {
   "cell_type": "code",
   "execution_count": null,
   "id": "8e81122f",
   "metadata": {
    "vscode": {
     "languageId": "r"
    }
   },
   "outputs": [],
   "source": [
    "data_IF <- load_data(\"data/IFclose.csv\")\n",
    "data_1180 <- load_data(\"data/1180_vol.csv\")\n",
    "data_SPY <- load_data(\"data/SPY.csv\")\n",
    "\n",
    "par(bg = \"white\") \n"
   ]
  },
  {
   "cell_type": "code",
   "execution_count": null,
   "id": "6d61e873",
   "metadata": {
    "vscode": {
     "languageId": "r"
    }
   },
   "outputs": [],
   "source": []
  }
 ],
 "metadata": {
  "kernelspec": {
   "display_name": "R",
   "language": "R",
   "name": "ir"
  },
  "language_info": {
   "codemirror_mode": "r",
   "file_extension": ".r",
   "mimetype": "text/x-r-source",
   "name": "R",
   "pygments_lexer": "r",
   "version": "4.4.3"
  }
 },
 "nbformat": 4,
 "nbformat_minor": 5
}
