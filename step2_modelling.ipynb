{
 "cells": [
  {
   "cell_type": "code",
   "execution_count": 13,
   "id": "fde951de",
   "metadata": {
    "vscode": {
     "languageId": "r"
    }
   },
   "outputs": [
    {
     "name": "stdout",
     "output_type": "stream",
     "text": [
      "INFO [2025-09-10 17:45:38] start experiment\n"
     ]
    },
    {
     "name": "stderr",
     "output_type": "stream",
     "text": [
      "\u001b[1mRows: \u001b[22m\u001b[34m3687\u001b[39m \u001b[1mColumns: \u001b[22m\u001b[34m7\u001b[39m\n",
      "\u001b[36m──\u001b[39m \u001b[1mColumn specification\u001b[22m \u001b[36m────────────────────────────────────────────────────────\u001b[39m\n",
      "\u001b[1mDelimiter:\u001b[22m \",\"\n",
      "\u001b[31mchr\u001b[39m  (1): act_symbol\n",
      "\u001b[32mdbl\u001b[39m  (5): open, high, low, close, volume\n",
      "\u001b[34mdate\u001b[39m (1): date\n",
      "\n",
      "\u001b[36mℹ\u001b[39m Use `spec()` to retrieve the full column specification for this data.\n",
      "\u001b[36mℹ\u001b[39m Specify the column types or set `show_col_types = FALSE` to quiet this message.\n"
     ]
    },
    {
     "data": {
      "text/html": [
       "<style>\n",
       ".list-inline {list-style: none; margin:0; padding: 0}\n",
       ".list-inline>li {display: inline-block}\n",
       ".list-inline>li:not(:last-child)::after {content: \"\\00b7\"; padding: 0 .5ex}\n",
       "</style>\n",
       "<ol class=list-inline><li>1000</li><li>2</li></ol>\n"
      ],
      "text/latex": [
       "\\begin{enumerate*}\n",
       "\\item 1000\n",
       "\\item 2\n",
       "\\end{enumerate*}\n"
      ],
      "text/markdown": [
       "1. 1000\n",
       "2. 2\n",
       "\n",
       "\n"
      ],
      "text/plain": [
       "[1] 1000    2"
      ]
     },
     "metadata": {},
     "output_type": "display_data"
    }
   ],
   "source": [
    "source(\"helper.R\")\n",
    "max_expid<-get_max(\"Log\")+1\n",
    "dataset_name=\"SPY\"\n",
    "exp_name<-glue(\"Modelling_{dataset_name}\")\n",
    "log_dir<-glue(\"Log/{max_expid}.{exp_name}\")\n",
    "logger=get_logger(log_dir, log_name = \"log\", debug = TRUE)\n",
    "futile.logger::flog.info(\"start experiment\", name = \"log\")\n",
    "\n",
    "\n",
    "\n",
    "\n",
    "\n",
    "\n",
    "\n",
    "if (dataset_name==\"China\"){\n",
    "dataset <- load_data(\"data/IFclose.csv\")\n",
    "\n",
    "}else if (dataset_name==\"Saudi\"){\n",
    "dataset <- load_data(\"data/1180_vol.csv\")\n",
    "\n",
    "}else if (dataset_name==\"SPY\"){\n",
    "\n",
    "dataset <- load_data(\"data/SPY.csv\")\n",
    "\n",
    "}else{\n",
    "\n",
    "    stop(\"Error: Invalid data set\")\n",
    "}\n",
    "\n",
    "mesh <- fm_mesh_1d(dataset$times)\n",
    "\n",
    "dataset=dataset[(length(dataset$logreturn)-999):length(dataset$logreturn),]\n",
    "\n",
    "par(bg = \"white\") \n",
    "dim(dataset)\n"
   ]
  },
  {
   "cell_type": "markdown",
   "id": "9659257d",
   "metadata": {},
   "source": [
    "\n",
    "# 5 models"
   ]
  },
  {
   "cell_type": "code",
   "execution_count": 30,
   "id": "10e68c8c",
   "metadata": {
    "vscode": {
     "languageId": "r"
    }
   },
   "outputs": [
    {
     "name": "stdout",
     "output_type": "stream",
     "text": [
      "[1] -43370.13\n"
     ]
    },
    {
     "data": {
      "text/html": [
       "<table class=\"dataframe\">\n",
       "<caption>A data.frame: 3 × 6</caption>\n",
       "<thead>\n",
       "\t<tr><th></th><th scope=col>mean</th><th scope=col>sd</th><th scope=col>0.025quant</th><th scope=col>0.5quant</th><th scope=col>0.975quant</th><th scope=col>mode</th></tr>\n",
       "\t<tr><th></th><th scope=col>&lt;dbl&gt;</th><th scope=col>&lt;dbl&gt;</th><th scope=col>&lt;dbl&gt;</th><th scope=col>&lt;dbl&gt;</th><th scope=col>&lt;dbl&gt;</th><th scope=col>&lt;dbl&gt;</th></tr>\n",
       "</thead>\n",
       "<tbody>\n",
       "\t<tr><th scope=row>std.dev</th><td>0.0223733</td><td>0.0253615</td><td>0.000996442</td><td>0.0141954</td><td>0.0915689</td><td>0.00235687</td></tr>\n",
       "\t<tr><th scope=row>range</th><td>0.2123660</td><td>0.1251680</td><td>0.043670400</td><td>0.1890730</td><td>0.5155380</td><td>0.12301700</td></tr>\n",
       "\t<tr><th scope=row>nu</th><td>1.0015200</td><td>0.5605490</td><td>0.079334300</td><td>1.0094800</td><td>1.9100700</td><td>1.70928000</td></tr>\n",
       "</tbody>\n",
       "</table>\n"
      ],
      "text/latex": [
       "A data.frame: 3 × 6\n",
       "\\begin{tabular}{r|llllll}\n",
       "  & mean & sd & 0.025quant & 0.5quant & 0.975quant & mode\\\\\n",
       "  & <dbl> & <dbl> & <dbl> & <dbl> & <dbl> & <dbl>\\\\\n",
       "\\hline\n",
       "\tstd.dev & 0.0223733 & 0.0253615 & 0.000996442 & 0.0141954 & 0.0915689 & 0.00235687\\\\\n",
       "\trange & 0.2123660 & 0.1251680 & 0.043670400 & 0.1890730 & 0.5155380 & 0.12301700\\\\\n",
       "\tnu & 1.0015200 & 0.5605490 & 0.079334300 & 1.0094800 & 1.9100700 & 1.70928000\\\\\n",
       "\\end{tabular}\n"
      ],
      "text/markdown": [
       "\n",
       "A data.frame: 3 × 6\n",
       "\n",
       "| <!--/--> | mean &lt;dbl&gt; | sd &lt;dbl&gt; | 0.025quant &lt;dbl&gt; | 0.5quant &lt;dbl&gt; | 0.975quant &lt;dbl&gt; | mode &lt;dbl&gt; |\n",
       "|---|---|---|---|---|---|---|\n",
       "| std.dev | 0.0223733 | 0.0253615 | 0.000996442 | 0.0141954 | 0.0915689 | 0.00235687 |\n",
       "| range | 0.2123660 | 0.1251680 | 0.043670400 | 0.1890730 | 0.5155380 | 0.12301700 |\n",
       "| nu | 1.0015200 | 0.5605490 | 0.079334300 | 1.0094800 | 1.9100700 | 1.70928000 |\n",
       "\n"
      ],
      "text/plain": [
       "        mean      sd        0.025quant  0.5quant  0.975quant mode      \n",
       "std.dev 0.0223733 0.0253615 0.000996442 0.0141954 0.0915689  0.00235687\n",
       "range   0.2123660 0.1251680 0.043670400 0.1890730 0.5155380  0.12301700\n",
       "nu      1.0015200 0.5605490 0.079334300 1.0094800 1.9100700  1.70928000"
      ]
     },
     "metadata": {},
     "output_type": "display_data"
    },
    {
     "name": "stderr",
     "output_type": "stream",
     "text": [
      "Warning message in (function (fmt, ...) :\n",
      "“one argument not used by format 'likelihood: '”\n"
     ]
    },
    {
     "name": "stdout",
     "output_type": "stream",
     "text": [
      "INFO [2025-09-10 17:54:19] likelihood: \n",
      "INFO [2025-09-10 17:54:19] \n",
      "             mean        sd  0.025quant  0.5quant 0.975quant       mode\n",
      "std.dev 0.0223733 0.0253615 0.000996442 0.0141954  0.0915689 0.00235687\n",
      "range   0.2123660 0.1251680 0.043670400 0.1890730  0.5155380 0.12301700\n",
      "nu      1.0015200 0.5605490 0.079334300 1.0094800  1.9100700 1.70928000\n"
     ]
    }
   ],
   "source": [
    "\n",
    "OU_model <- rspde.matern(mesh = mesh,parameterization=\"matern\")\n",
    "formula_OU <-  logreturn ~ -1 + Intercept(1)+ field(times, model = OU_model)\n",
    "fit<-bru(formula_OU, family=\"stochvol\", data = dataset)\n",
    "result_fit<- rspde.result(fit, \"field\", OU_model, parameterization=\"matern\")\n",
    "print(fit$mlik[2])\n",
    "summary(result_fit)\n",
    "\n",
    "\n",
    "summary_df <- as.data.frame(summary(result_fit))\n",
    "flog.info(\"likelihood: \", fit$mlik[2])\n",
    "flog.info(\n",
    "  paste0(\"\\n\", paste(capture.output(print(summary_df)), collapse = \"\\n\")),\n",
    "  name = \"log\"\n",
    ")\n"
   ]
  },
  {
   "cell_type": "code",
   "execution_count": 31,
   "id": "a4115259",
   "metadata": {
    "vscode": {
     "languageId": "r"
    }
   },
   "outputs": [
    {
     "name": "stdout",
     "output_type": "stream",
     "text": [
      "[1] 3166.523\n"
     ]
    },
    {
     "data": {
      "text/html": [
       "<table class=\"dataframe\">\n",
       "<caption>A data.frame: 3 × 6</caption>\n",
       "<thead>\n",
       "\t<tr><th></th><th scope=col>mean</th><th scope=col>sd</th><th scope=col>0.025quant</th><th scope=col>0.5quant</th><th scope=col>0.975quant</th><th scope=col>mode</th></tr>\n",
       "\t<tr><th></th><th scope=col>&lt;dbl&gt;</th><th scope=col>&lt;dbl&gt;</th><th scope=col>&lt;dbl&gt;</th><th scope=col>&lt;dbl&gt;</th><th scope=col>&lt;dbl&gt;</th><th scope=col>&lt;dbl&gt;</th></tr>\n",
       "</thead>\n",
       "<tbody>\n",
       "\t<tr><th scope=row>std.dev</th><td>  1.148380</td><td> 0.09055170</td><td>  0.995642</td><td>  1.138950</td><td>  1.349310</td><td>  1.112500</td></tr>\n",
       "\t<tr><th scope=row>range</th><td>372.739000</td><td>18.57000000</td><td>338.962000</td><td>371.705000</td><td>411.793000</td><td>368.944000</td></tr>\n",
       "\t<tr><th scope=row>nu</th><td>  0.509719</td><td> 0.00820126</td><td>  0.498610</td><td>  0.508188</td><td>  0.529118</td><td>  0.501501</td></tr>\n",
       "</tbody>\n",
       "</table>\n"
      ],
      "text/latex": [
       "A data.frame: 3 × 6\n",
       "\\begin{tabular}{r|llllll}\n",
       "  & mean & sd & 0.025quant & 0.5quant & 0.975quant & mode\\\\\n",
       "  & <dbl> & <dbl> & <dbl> & <dbl> & <dbl> & <dbl>\\\\\n",
       "\\hline\n",
       "\tstd.dev &   1.148380 &  0.09055170 &   0.995642 &   1.138950 &   1.349310 &   1.112500\\\\\n",
       "\trange & 372.739000 & 18.57000000 & 338.962000 & 371.705000 & 411.793000 & 368.944000\\\\\n",
       "\tnu &   0.509719 &  0.00820126 &   0.498610 &   0.508188 &   0.529118 &   0.501501\\\\\n",
       "\\end{tabular}\n"
      ],
      "text/markdown": [
       "\n",
       "A data.frame: 3 × 6\n",
       "\n",
       "| <!--/--> | mean &lt;dbl&gt; | sd &lt;dbl&gt; | 0.025quant &lt;dbl&gt; | 0.5quant &lt;dbl&gt; | 0.975quant &lt;dbl&gt; | mode &lt;dbl&gt; |\n",
       "|---|---|---|---|---|---|---|\n",
       "| std.dev |   1.148380 |  0.09055170 |   0.995642 |   1.138950 |   1.349310 |   1.112500 |\n",
       "| range | 372.739000 | 18.57000000 | 338.962000 | 371.705000 | 411.793000 | 368.944000 |\n",
       "| nu |   0.509719 |  0.00820126 |   0.498610 |   0.508188 |   0.529118 |   0.501501 |\n",
       "\n"
      ],
      "text/plain": [
       "        mean       sd          0.025quant 0.5quant   0.975quant mode      \n",
       "std.dev   1.148380  0.09055170   0.995642   1.138950   1.349310   1.112500\n",
       "range   372.739000 18.57000000 338.962000 371.705000 411.793000 368.944000\n",
       "nu        0.509719  0.00820126   0.498610   0.508188   0.529118   0.501501"
      ]
     },
     "metadata": {},
     "output_type": "display_data"
    },
    {
     "name": "stderr",
     "output_type": "stream",
     "text": [
      "Warning message in (function (fmt, ...) :\n",
      "“one argument not used by format 'likelihood: '”\n"
     ]
    },
    {
     "name": "stdout",
     "output_type": "stream",
     "text": [
      "INFO [2025-09-10 17:54:35] likelihood: \n",
      "INFO [2025-09-10 17:54:35] \n",
      "              mean          sd 0.025quant   0.5quant 0.975quant       mode\n",
      "std.dev   1.148380  0.09055170   0.995642   1.138950   1.349310   1.112500\n",
      "range   372.739000 18.57000000 338.962000 371.705000 411.793000 368.944000\n",
      "nu        0.509719  0.00820126   0.498610   0.508188   0.529118   0.501501\n"
     ]
    }
   ],
   "source": [
    "\n",
    "OU_model <- rspde.matern(mesh = mesh,parameterization=\"matern\")\n",
    "formula_OU <- logreturn ~ -1 + Intercept(1)+ field(times, model = OU_model)\n",
    "fit<-bru(formula_OU, family=\"stochvol.t\", data = dataset)\n",
    "result_fit<- rspde.result(fit, \"field\", OU_model, parameterization=\"matern\")\n",
    "print(fit$mlik[2])\n",
    "summary(result_fit)\n",
    "\n",
    "summary_df <- as.data.frame(summary(result_fit))\n",
    "flog.info(\"likelihood: \", fit$mlik[2])\n",
    "flog.info(\n",
    "  paste0(\"\\n\", paste(capture.output(print(summary_df)), collapse = \"\\n\")),\n",
    "  name = \"log\"\n",
    ")\n"
   ]
  },
  {
   "cell_type": "code",
   "execution_count": 32,
   "id": "1083ed10",
   "metadata": {
    "vscode": {
     "languageId": "r"
    }
   },
   "outputs": [
    {
     "name": "stdout",
     "output_type": "stream",
     "text": [
      "[1] 3162.974\n"
     ]
    },
    {
     "data": {
      "text/html": [
       "<table class=\"dataframe\">\n",
       "<caption>A data.frame: 3 × 6</caption>\n",
       "<thead>\n",
       "\t<tr><th></th><th scope=col>mean</th><th scope=col>sd</th><th scope=col>0.025quant</th><th scope=col>0.5quant</th><th scope=col>0.975quant</th><th scope=col>mode</th></tr>\n",
       "\t<tr><th></th><th scope=col>&lt;dbl&gt;</th><th scope=col>&lt;dbl&gt;</th><th scope=col>&lt;dbl&gt;</th><th scope=col>&lt;dbl&gt;</th><th scope=col>&lt;dbl&gt;</th><th scope=col>&lt;dbl&gt;</th></tr>\n",
       "</thead>\n",
       "<tbody>\n",
       "\t<tr><th scope=row>std.dev</th><td>  1.204080</td><td> 0.03487730</td><td>  1.152110</td><td>  1.198490</td><td>  1.284940</td><td>  1.17891</td></tr>\n",
       "\t<tr><th scope=row>range</th><td>456.451000</td><td>17.23560000</td><td>428.514000</td><td>454.296000</td><td>495.212000</td><td>447.36100</td></tr>\n",
       "\t<tr><th scope=row>nu</th><td>  0.509671</td><td> 0.00787543</td><td>  0.499287</td><td>  0.508148</td><td>  0.528433</td><td>  0.50126</td></tr>\n",
       "</tbody>\n",
       "</table>\n"
      ],
      "text/latex": [
       "A data.frame: 3 × 6\n",
       "\\begin{tabular}{r|llllll}\n",
       "  & mean & sd & 0.025quant & 0.5quant & 0.975quant & mode\\\\\n",
       "  & <dbl> & <dbl> & <dbl> & <dbl> & <dbl> & <dbl>\\\\\n",
       "\\hline\n",
       "\tstd.dev &   1.204080 &  0.03487730 &   1.152110 &   1.198490 &   1.284940 &   1.17891\\\\\n",
       "\trange & 456.451000 & 17.23560000 & 428.514000 & 454.296000 & 495.212000 & 447.36100\\\\\n",
       "\tnu &   0.509671 &  0.00787543 &   0.499287 &   0.508148 &   0.528433 &   0.50126\\\\\n",
       "\\end{tabular}\n"
      ],
      "text/markdown": [
       "\n",
       "A data.frame: 3 × 6\n",
       "\n",
       "| <!--/--> | mean &lt;dbl&gt; | sd &lt;dbl&gt; | 0.025quant &lt;dbl&gt; | 0.5quant &lt;dbl&gt; | 0.975quant &lt;dbl&gt; | mode &lt;dbl&gt; |\n",
       "|---|---|---|---|---|---|---|\n",
       "| std.dev |   1.204080 |  0.03487730 |   1.152110 |   1.198490 |   1.284940 |   1.17891 |\n",
       "| range | 456.451000 | 17.23560000 | 428.514000 | 454.296000 | 495.212000 | 447.36100 |\n",
       "| nu |   0.509671 |  0.00787543 |   0.499287 |   0.508148 |   0.528433 |   0.50126 |\n",
       "\n"
      ],
      "text/plain": [
       "        mean       sd          0.025quant 0.5quant   0.975quant mode     \n",
       "std.dev   1.204080  0.03487730   1.152110   1.198490   1.284940   1.17891\n",
       "range   456.451000 17.23560000 428.514000 454.296000 495.212000 447.36100\n",
       "nu        0.509671  0.00787543   0.499287   0.508148   0.528433   0.50126"
      ]
     },
     "metadata": {},
     "output_type": "display_data"
    },
    {
     "name": "stderr",
     "output_type": "stream",
     "text": [
      "Warning message in (function (fmt, ...) :\n",
      "“one argument not used by format 'likelihood: '”\n"
     ]
    },
    {
     "name": "stdout",
     "output_type": "stream",
     "text": [
      "INFO [2025-09-10 17:54:46] likelihood: \n",
      "INFO [2025-09-10 17:54:46] \n",
      "              mean          sd 0.025quant   0.5quant 0.975quant      mode\n",
      "std.dev   1.204080  0.03487730   1.152110   1.198490   1.284940   1.17891\n",
      "range   456.451000 17.23560000 428.514000 454.296000 495.212000 447.36100\n",
      "nu        0.509671  0.00787543   0.499287   0.508148   0.528433   0.50126\n"
     ]
    }
   ],
   "source": [
    "\n",
    "OU_model <- rspde.matern(mesh = mesh,parameterization=\"matern\")\n",
    "formula_OU <- logreturn ~ -1 + Intercept(1)+ field(times, model = OU_model)\n",
    "fit<-bru(formula_OU, family=\"stochvol.nig\", data = dataset)\n",
    "result_fit<- rspde.result(fit, \"field\", OU_model, parameterization=\"matern\")\n",
    "print(fit$mlik[2])\n",
    "summary(result_fit)\n",
    "\n",
    "summary_df <- as.data.frame(summary(result_fit))\n",
    "flog.info(\"likelihood: \", fit$mlik[2])\n",
    "flog.info(\n",
    "  paste0(\"\\n\", paste(capture.output(print(summary_df)), collapse = \"\\n\")),\n",
    "  name = \"log\"\n",
    ")\n"
   ]
  },
  {
   "cell_type": "code",
   "execution_count": 33,
   "id": "9443cb36",
   "metadata": {
    "vscode": {
     "languageId": "r"
    }
   },
   "outputs": [
    {
     "name": "stdout",
     "output_type": "stream",
     "text": [
      "[1] 3110.855\n"
     ]
    },
    {
     "data": {
      "text/html": [
       "<table class=\"dataframe\">\n",
       "<caption>A data.frame: 3 × 6</caption>\n",
       "<thead>\n",
       "\t<tr><th></th><th scope=col>mean</th><th scope=col>sd</th><th scope=col>0.025quant</th><th scope=col>0.5quant</th><th scope=col>0.975quant</th><th scope=col>mode</th></tr>\n",
       "\t<tr><th></th><th scope=col>&lt;dbl&gt;</th><th scope=col>&lt;dbl&gt;</th><th scope=col>&lt;dbl&gt;</th><th scope=col>&lt;dbl&gt;</th><th scope=col>&lt;dbl&gt;</th><th scope=col>&lt;dbl&gt;</th></tr>\n",
       "</thead>\n",
       "<tbody>\n",
       "\t<tr><th scope=row>std.dev</th><td>  3.08981</td><td>0.00724732</td><td>  3.07966</td><td>  3.08853</td><td>  3.10678</td><td>  3.08327</td></tr>\n",
       "\t<tr><th scope=row>range</th><td>939.73400</td><td>0.91674000</td><td>938.32100</td><td>939.60100</td><td>941.82000</td><td>939.15800</td></tr>\n",
       "\t<tr><th scope=row>nu</th><td>  1.57631</td><td>0.00103239</td><td>  1.57482</td><td>  1.57613</td><td>  1.57870</td><td>  1.57543</td></tr>\n",
       "</tbody>\n",
       "</table>\n"
      ],
      "text/latex": [
       "A data.frame: 3 × 6\n",
       "\\begin{tabular}{r|llllll}\n",
       "  & mean & sd & 0.025quant & 0.5quant & 0.975quant & mode\\\\\n",
       "  & <dbl> & <dbl> & <dbl> & <dbl> & <dbl> & <dbl>\\\\\n",
       "\\hline\n",
       "\tstd.dev &   3.08981 & 0.00724732 &   3.07966 &   3.08853 &   3.10678 &   3.08327\\\\\n",
       "\trange & 939.73400 & 0.91674000 & 938.32100 & 939.60100 & 941.82000 & 939.15800\\\\\n",
       "\tnu &   1.57631 & 0.00103239 &   1.57482 &   1.57613 &   1.57870 &   1.57543\\\\\n",
       "\\end{tabular}\n"
      ],
      "text/markdown": [
       "\n",
       "A data.frame: 3 × 6\n",
       "\n",
       "| <!--/--> | mean &lt;dbl&gt; | sd &lt;dbl&gt; | 0.025quant &lt;dbl&gt; | 0.5quant &lt;dbl&gt; | 0.975quant &lt;dbl&gt; | mode &lt;dbl&gt; |\n",
       "|---|---|---|---|---|---|---|\n",
       "| std.dev |   3.08981 | 0.00724732 |   3.07966 |   3.08853 |   3.10678 |   3.08327 |\n",
       "| range | 939.73400 | 0.91674000 | 938.32100 | 939.60100 | 941.82000 | 939.15800 |\n",
       "| nu |   1.57631 | 0.00103239 |   1.57482 |   1.57613 |   1.57870 |   1.57543 |\n",
       "\n"
      ],
      "text/plain": [
       "        mean      sd         0.025quant 0.5quant  0.975quant mode     \n",
       "std.dev   3.08981 0.00724732   3.07966    3.08853   3.10678    3.08327\n",
       "range   939.73400 0.91674000 938.32100  939.60100 941.82000  939.15800\n",
       "nu        1.57631 0.00103239   1.57482    1.57613   1.57870    1.57543"
      ]
     },
     "metadata": {},
     "output_type": "display_data"
    },
    {
     "name": "stderr",
     "output_type": "stream",
     "text": [
      "Warning message in (function (fmt, ...) :\n",
      "“one argument not used by format 'likelihood: '”\n"
     ]
    },
    {
     "name": "stdout",
     "output_type": "stream",
     "text": [
      "INFO [2025-09-10 17:55:05] likelihood: \n",
      "INFO [2025-09-10 17:55:05] \n",
      "             mean         sd 0.025quant  0.5quant 0.975quant      mode\n",
      "std.dev   3.08981 0.00724732    3.07966   3.08853    3.10678   3.08327\n",
      "range   939.73400 0.91674000  938.32100 939.60100  941.82000 939.15800\n",
      "nu        1.57631 0.00103239    1.57482   1.57613    1.57870   1.57543\n"
     ]
    }
   ],
   "source": [
    "\n",
    "OU_model <- rspde.matern(mesh = mesh,parameterization=\"matern\")\n",
    "formula_OU <- logreturn ~ -1 + Intercept(1)+ field(times, model = OU_model)\n",
    "fit<-bru(formula_OU, family=\"stochvolln\", data = dataset)\n",
    "result_fit<- rspde.result(fit, \"field\", OU_model, parameterization=\"matern\")\n",
    "print(fit$mlik[2])\n",
    "summary(result_fit)\n",
    "\n",
    "summary_df <- as.data.frame(summary(result_fit))\n",
    "flog.info(\"likelihood: \", fit$mlik[2])\n",
    "flog.info(\n",
    "  paste0(\"\\n\", paste(capture.output(print(summary_df)), collapse = \"\\n\")),\n",
    "  name = \"log\"\n",
    ")\n"
   ]
  },
  {
   "cell_type": "code",
   "execution_count": null,
   "id": "49adfc24",
   "metadata": {
    "vscode": {
     "languageId": "r"
    }
   },
   "outputs": [],
   "source": [
    "rspde_model1 <- rspde.matern(mesh = mesh,nu.upper.bound=1)\n",
    "\n",
    "rspde_model2 <- rspde.matern(mesh = mesh,nu.upper.bound=2)\n",
    "formula <- logreturn ~ -1 + Intercept(1) + rough(times, model = rspde_model1) + smooth(times, model = rspde_model2)+f(times,model=\"iid\")\n",
    "\n",
    "fit <- bru(formula, family=\"stochvol\", data = dataset)\n",
    "result_fit1<- rspde.result(fit, \"rough\", rspde_model1, parameterization=\"matern\")\n",
    "result_fit2<- rspde.result(fit, \"smooth\", rspde_model2, parameterization=\"matern\")\n",
    "print(fit$mlik[2])\n",
    "rbind(summary(result_fit1),summary(result_fit2))\n",
    "\n",
    "summary_df <- as.data.frame(summary(result_fit))\n",
    "flog.info(\"likelihood: \", fit$mlik[2])\n",
    "flog.info(\n",
    "  paste0(\"\\n\", paste(capture.output(print(summary_df)), collapse = \"\\n\")),\n",
    "  name = \"log\"\n",
    ")\n"
   ]
  }
 ],
 "metadata": {
  "kernelspec": {
   "display_name": "R",
   "language": "R",
   "name": "ir"
  },
  "language_info": {
   "codemirror_mode": "r",
   "file_extension": ".r",
   "mimetype": "text/x-r-source",
   "name": "R",
   "pygments_lexer": "r",
   "version": "4.4.3"
  }
 },
 "nbformat": 4,
 "nbformat_minor": 5
}
