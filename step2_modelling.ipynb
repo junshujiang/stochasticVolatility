{
 "cells": [
  {
   "cell_type": "code",
   "execution_count": 1,
   "id": "fde951de",
   "metadata": {
    "vscode": {
     "languageId": "r"
    }
   },
   "outputs": [
    {
     "name": "stderr",
     "output_type": "stream",
     "text": [
      "Warning message:\n",
      "“package ‘INLA’ was built under R version 4.5.0”\n",
      "Loading required package: Matrix\n",
      "\n"
     ]
    },
    {
     "name": "stderr",
     "output_type": "stream",
     "text": [
      "This is INLA_25.06.07 built 2025-06-11 18:54:45 UTC.\n",
      " - See www.r-inla.org/contact-us for how to get help.\n",
      " - List available models/likelihoods/etc with inla.list.models()\n",
      " - Use inla.doc(<NAME>) to access documentation\n",
      "\n",
      "\n",
      "Attaching package: ‘zoo’\n",
      "\n",
      "\n",
      "The following objects are masked from ‘package:base’:\n",
      "\n",
      "    as.Date, as.Date.numeric\n",
      "\n",
      "\n",
      "\n",
      "Attaching package: ‘dplyr’\n",
      "\n",
      "\n",
      "The following objects are masked from ‘package:stats’:\n",
      "\n",
      "    filter, lag\n",
      "\n",
      "\n",
      "The following objects are masked from ‘package:base’:\n",
      "\n",
      "    intersect, setdiff, setequal, union\n",
      "\n",
      "\n",
      "This is rSPDE 2.5.1\n",
      "- See https://davidbolin.github.io/rSPDE for vignettes and manuals.\n",
      "\n"
     ]
    },
    {
     "name": "stdout",
     "output_type": "stream",
     "text": [
      "INFO [2025-09-10 20:47:06] start experiment\n"
     ]
    },
    {
     "name": "stderr",
     "output_type": "stream",
     "text": [
      "\u001b[1mRows: \u001b[22m\u001b[34m3687\u001b[39m \u001b[1mColumns: \u001b[22m\u001b[34m7\u001b[39m\n",
      "\u001b[36m──\u001b[39m \u001b[1mColumn specification\u001b[22m \u001b[36m────────────────────────────────────────────────────────\u001b[39m\n",
      "\u001b[1mDelimiter:\u001b[22m \",\"\n",
      "\u001b[31mchr\u001b[39m  (1): act_symbol\n",
      "\u001b[32mdbl\u001b[39m  (5): open, high, low, close, volume\n",
      "\u001b[34mdate\u001b[39m (1): date\n",
      "\n",
      "\u001b[36mℹ\u001b[39m Use `spec()` to retrieve the full column specification for this data.\n",
      "\u001b[36mℹ\u001b[39m Specify the column types or set `show_col_types = FALSE` to quiet this message.\n"
     ]
    },
    {
     "data": {
      "text/html": [
       "<style>\n",
       ".list-inline {list-style: none; margin:0; padding: 0}\n",
       ".list-inline>li {display: inline-block}\n",
       ".list-inline>li:not(:last-child)::after {content: \"\\00b7\"; padding: 0 .5ex}\n",
       "</style>\n",
       "<ol class=list-inline><li>1000</li><li>3</li></ol>\n"
      ],
      "text/latex": [
       "\\begin{enumerate*}\n",
       "\\item 1000\n",
       "\\item 3\n",
       "\\end{enumerate*}\n"
      ],
      "text/markdown": [
       "1. 1000\n",
       "2. 3\n",
       "\n",
       "\n"
      ],
      "text/plain": [
       "[1] 1000    3"
      ]
     },
     "metadata": {},
     "output_type": "display_data"
    }
   ],
   "source": [
    "source(\"helper.R\")\n",
    "max_expid<-get_max(\"Log\")+1\n",
    "dataset_name=\"SPY\"\n",
    "exp_name<-glue(\"Modelling_{dataset_name}\")\n",
    "log_dir<-glue(\"Log/{max_expid}.{exp_name}\")\n",
    "logger=get_logger(log_dir, log_name = \"log\", debug = TRUE)\n",
    "futile.logger::flog.info(\"start experiment\", name = \"log\")\n",
    "\n",
    "\n",
    "\n",
    "\n",
    "\n",
    "\n",
    "\n",
    "if (dataset_name==\"China\"){\n",
    "dataset <- load_data(\"data/IFclose.csv\")\n",
    "\n",
    "}else if (dataset_name==\"Saudi\"){\n",
    "dataset <- load_data(\"data/1180_vol.csv\")\n",
    "\n",
    "}else if (dataset_name==\"SPY\"){\n",
    "\n",
    "dataset <- load_data(\"data/SPY.csv\")\n",
    "\n",
    "}else{\n",
    "\n",
    "    stop(\"Error: Invalid data set\")\n",
    "}\n",
    "\n",
    "mesh <- fm_mesh_1d(dataset$times)\n",
    "\n",
    "dataset=dataset[(length(dataset$logreturn)-999):length(dataset$logreturn),]\n",
    "\n",
    "par(bg = \"white\") \n",
    "dim(dataset)\n"
   ]
  },
  {
   "cell_type": "markdown",
   "id": "9659257d",
   "metadata": {},
   "source": [
    "\n",
    "# 5 models"
   ]
  },
  {
   "cell_type": "code",
   "execution_count": 2,
   "id": "10e68c8c",
   "metadata": {
    "vscode": {
     "languageId": "r"
    }
   },
   "outputs": [
    {
     "name": "stdout",
     "output_type": "stream",
     "text": [
      "[1] -43370.13\n"
     ]
    },
    {
     "data": {
      "text/html": [
       "<table class=\"dataframe\">\n",
       "<caption>A data.frame: 3 × 6</caption>\n",
       "<thead>\n",
       "\t<tr><th></th><th scope=col>mean</th><th scope=col>sd</th><th scope=col>0.025quant</th><th scope=col>0.5quant</th><th scope=col>0.975quant</th><th scope=col>mode</th></tr>\n",
       "\t<tr><th></th><th scope=col>&lt;dbl&gt;</th><th scope=col>&lt;dbl&gt;</th><th scope=col>&lt;dbl&gt;</th><th scope=col>&lt;dbl&gt;</th><th scope=col>&lt;dbl&gt;</th><th scope=col>&lt;dbl&gt;</th></tr>\n",
       "</thead>\n",
       "<tbody>\n",
       "\t<tr><th scope=row>std.dev</th><td>0.0223738</td><td>0.0253624</td><td>0.000996497</td><td>0.0141957</td><td>0.0915717</td><td>0.00235697</td></tr>\n",
       "\t<tr><th scope=row>range</th><td>0.2123670</td><td>0.1251690</td><td>0.043670300</td><td>0.1890740</td><td>0.5155410</td><td>0.12301700</td></tr>\n",
       "\t<tr><th scope=row>nu</th><td>1.0015100</td><td>0.5605470</td><td>0.079334000</td><td>1.0094700</td><td>1.9100700</td><td>1.70927000</td></tr>\n",
       "</tbody>\n",
       "</table>\n"
      ],
      "text/latex": [
       "A data.frame: 3 × 6\n",
       "\\begin{tabular}{r|llllll}\n",
       "  & mean & sd & 0.025quant & 0.5quant & 0.975quant & mode\\\\\n",
       "  & <dbl> & <dbl> & <dbl> & <dbl> & <dbl> & <dbl>\\\\\n",
       "\\hline\n",
       "\tstd.dev & 0.0223738 & 0.0253624 & 0.000996497 & 0.0141957 & 0.0915717 & 0.00235697\\\\\n",
       "\trange & 0.2123670 & 0.1251690 & 0.043670300 & 0.1890740 & 0.5155410 & 0.12301700\\\\\n",
       "\tnu & 1.0015100 & 0.5605470 & 0.079334000 & 1.0094700 & 1.9100700 & 1.70927000\\\\\n",
       "\\end{tabular}\n"
      ],
      "text/markdown": [
       "\n",
       "A data.frame: 3 × 6\n",
       "\n",
       "| <!--/--> | mean &lt;dbl&gt; | sd &lt;dbl&gt; | 0.025quant &lt;dbl&gt; | 0.5quant &lt;dbl&gt; | 0.975quant &lt;dbl&gt; | mode &lt;dbl&gt; |\n",
       "|---|---|---|---|---|---|---|\n",
       "| std.dev | 0.0223738 | 0.0253624 | 0.000996497 | 0.0141957 | 0.0915717 | 0.00235697 |\n",
       "| range | 0.2123670 | 0.1251690 | 0.043670300 | 0.1890740 | 0.5155410 | 0.12301700 |\n",
       "| nu | 1.0015100 | 0.5605470 | 0.079334000 | 1.0094700 | 1.9100700 | 1.70927000 |\n",
       "\n"
      ],
      "text/plain": [
       "        mean      sd        0.025quant  0.5quant  0.975quant mode      \n",
       "std.dev 0.0223738 0.0253624 0.000996497 0.0141957 0.0915717  0.00235697\n",
       "range   0.2123670 0.1251690 0.043670300 0.1890740 0.5155410  0.12301700\n",
       "nu      1.0015100 0.5605470 0.079334000 1.0094700 1.9100700  1.70927000"
      ]
     },
     "metadata": {},
     "output_type": "display_data"
    },
    {
     "name": "stdout",
     "output_type": "stream",
     "text": [
      "INFO [2025-09-10 20:47:13] Model: stochvol\n",
      "INFO [2025-09-10 20:47:13] likelihood:  -43370.1332589974\n",
      "INFO [2025-09-10 20:47:13] \n",
      "             mean        sd  0.025quant  0.5quant 0.975quant       mode\n",
      "std.dev 0.0223738 0.0253624 0.000996497 0.0141957  0.0915717 0.00235697\n",
      "range   0.2123670 0.1251690 0.043670300 0.1890740  0.5155410 0.12301700\n",
      "nu      1.0015100 0.5605470 0.079334000 1.0094700  1.9100700 1.70927000\n"
     ]
    }
   ],
   "source": [
    "\n",
    "OU_model <- rspde.matern(mesh = mesh,parameterization=\"matern\")\n",
    "formula_OU <-  logreturn ~ -1 + Intercept(1)+ field(times, model = OU_model)\n",
    "fit<-bru(formula_OU, family=\"stochvol\", data = dataset)\n",
    "result_fit<- rspde.result(fit, \"field\", OU_model, parameterization=\"matern\")\n",
    "print(fit$mlik[2])\n",
    "summary(result_fit)\n",
    "\n",
    "\n",
    "flog.info(\"Model: stochvol\",name=\"log\")\n",
    "summary_df <- as.data.frame(summary(result_fit))\n",
    "flog.info(paste(\"likelihood: \", fit$mlik[2]),name=\"log\")\n",
    "flog.info(\n",
    "  paste0(\"\\n\", paste(capture.output(print(summary_df)), collapse = \"\\n\")),\n",
    "  name = \"log\"\n",
    ")\n"
   ]
  },
  {
   "cell_type": "code",
   "execution_count": 3,
   "id": "a4115259",
   "metadata": {
    "vscode": {
     "languageId": "r"
    }
   },
   "outputs": [
    {
     "name": "stdout",
     "output_type": "stream",
     "text": [
      "[1] 3163.392\n"
     ]
    },
    {
     "data": {
      "text/html": [
       "<table class=\"dataframe\">\n",
       "<caption>A data.frame: 3 × 6</caption>\n",
       "<thead>\n",
       "\t<tr><th></th><th scope=col>mean</th><th scope=col>sd</th><th scope=col>0.025quant</th><th scope=col>0.5quant</th><th scope=col>0.975quant</th><th scope=col>mode</th></tr>\n",
       "\t<tr><th></th><th scope=col>&lt;dbl&gt;</th><th scope=col>&lt;dbl&gt;</th><th scope=col>&lt;dbl&gt;</th><th scope=col>&lt;dbl&gt;</th><th scope=col>&lt;dbl&gt;</th><th scope=col>&lt;dbl&gt;</th></tr>\n",
       "</thead>\n",
       "<tbody>\n",
       "\t<tr><th scope=row>std.dev</th><td>  1.247130</td><td> 0.04708100</td><td>  1.18064</td><td>  1.23868</td><td>  1.358340</td><td>  1.207120</td></tr>\n",
       "\t<tr><th scope=row>range</th><td>469.146000</td><td>12.66190000</td><td>449.54900</td><td>467.31000</td><td>498.093000</td><td>460.962000</td></tr>\n",
       "\t<tr><th scope=row>nu</th><td>  0.509514</td><td> 0.00720098</td><td>  0.49986</td><td>  0.50815</td><td>  0.526586</td><td>  0.502091</td></tr>\n",
       "</tbody>\n",
       "</table>\n"
      ],
      "text/latex": [
       "A data.frame: 3 × 6\n",
       "\\begin{tabular}{r|llllll}\n",
       "  & mean & sd & 0.025quant & 0.5quant & 0.975quant & mode\\\\\n",
       "  & <dbl> & <dbl> & <dbl> & <dbl> & <dbl> & <dbl>\\\\\n",
       "\\hline\n",
       "\tstd.dev &   1.247130 &  0.04708100 &   1.18064 &   1.23868 &   1.358340 &   1.207120\\\\\n",
       "\trange & 469.146000 & 12.66190000 & 449.54900 & 467.31000 & 498.093000 & 460.962000\\\\\n",
       "\tnu &   0.509514 &  0.00720098 &   0.49986 &   0.50815 &   0.526586 &   0.502091\\\\\n",
       "\\end{tabular}\n"
      ],
      "text/markdown": [
       "\n",
       "A data.frame: 3 × 6\n",
       "\n",
       "| <!--/--> | mean &lt;dbl&gt; | sd &lt;dbl&gt; | 0.025quant &lt;dbl&gt; | 0.5quant &lt;dbl&gt; | 0.975quant &lt;dbl&gt; | mode &lt;dbl&gt; |\n",
       "|---|---|---|---|---|---|---|\n",
       "| std.dev |   1.247130 |  0.04708100 |   1.18064 |   1.23868 |   1.358340 |   1.207120 |\n",
       "| range | 469.146000 | 12.66190000 | 449.54900 | 467.31000 | 498.093000 | 460.962000 |\n",
       "| nu |   0.509514 |  0.00720098 |   0.49986 |   0.50815 |   0.526586 |   0.502091 |\n",
       "\n"
      ],
      "text/plain": [
       "        mean       sd          0.025quant 0.5quant  0.975quant mode      \n",
       "std.dev   1.247130  0.04708100   1.18064    1.23868   1.358340   1.207120\n",
       "range   469.146000 12.66190000 449.54900  467.31000 498.093000 460.962000\n",
       "nu        0.509514  0.00720098   0.49986    0.50815   0.526586   0.502091"
      ]
     },
     "metadata": {},
     "output_type": "display_data"
    },
    {
     "name": "stdout",
     "output_type": "stream",
     "text": [
      "INFO [2025-09-10 20:47:28] Model: stochvol.t\n",
      "INFO [2025-09-10 20:47:28] likelihood:  3163.39247793592\n",
      "INFO [2025-09-10 20:47:28] \n",
      "              mean          sd 0.025quant  0.5quant 0.975quant       mode\n",
      "std.dev   1.247130  0.04708100    1.18064   1.23868   1.358340   1.207120\n",
      "range   469.146000 12.66190000  449.54900 467.31000 498.093000 460.962000\n",
      "nu        0.509514  0.00720098    0.49986   0.50815   0.526586   0.502091\n"
     ]
    }
   ],
   "source": [
    "\n",
    "OU_model <- rspde.matern(mesh = mesh,parameterization=\"matern\")\n",
    "formula_OU <- logreturn ~ -1 + Intercept(1)+ field(times, model = OU_model)\n",
    "fit<-bru(formula_OU, family=\"stochvol.t\", data = dataset)\n",
    "result_fit<- rspde.result(fit, \"field\", OU_model, parameterization=\"matern\")\n",
    "print(fit$mlik[2])\n",
    "summary(result_fit)\n",
    "\n",
    "flog.info(\"Model: stochvol.t\",name=\"log\")\n",
    "summary_df <- as.data.frame(summary(result_fit))\n",
    "flog.info(paste(\"likelihood: \", fit$mlik[2]),name=\"log\")\n",
    "flog.info(\n",
    "  paste0(\"\\n\", paste(capture.output(print(summary_df)), collapse = \"\\n\")),\n",
    "  name = \"log\"\n",
    ")\n"
   ]
  },
  {
   "cell_type": "code",
   "execution_count": 4,
   "id": "1083ed10",
   "metadata": {
    "vscode": {
     "languageId": "r"
    }
   },
   "outputs": [
    {
     "name": "stdout",
     "output_type": "stream",
     "text": [
      "[1] 3162.041\n"
     ]
    },
    {
     "data": {
      "text/html": [
       "<table class=\"dataframe\">\n",
       "<caption>A data.frame: 3 × 6</caption>\n",
       "<thead>\n",
       "\t<tr><th></th><th scope=col>mean</th><th scope=col>sd</th><th scope=col>0.025quant</th><th scope=col>0.5quant</th><th scope=col>0.975quant</th><th scope=col>mode</th></tr>\n",
       "\t<tr><th></th><th scope=col>&lt;dbl&gt;</th><th scope=col>&lt;dbl&gt;</th><th scope=col>&lt;dbl&gt;</th><th scope=col>&lt;dbl&gt;</th><th scope=col>&lt;dbl&gt;</th><th scope=col>&lt;dbl&gt;</th></tr>\n",
       "</thead>\n",
       "<tbody>\n",
       "\t<tr><th scope=row>std.dev</th><td>  1.250070</td><td> 0.02686240</td><td>  1.20335</td><td>  1.247750</td><td>  1.308110</td><td>  1.240370</td></tr>\n",
       "\t<tr><th scope=row>range</th><td>528.686000</td><td>23.85670000</td><td>490.65300</td><td>525.503000</td><td>582.823000</td><td>515.131000</td></tr>\n",
       "\t<tr><th scope=row>nu</th><td>  0.508827</td><td> 0.00684817</td><td>  0.49990</td><td>  0.507483</td><td>  0.525164</td><td>  0.501151</td></tr>\n",
       "</tbody>\n",
       "</table>\n"
      ],
      "text/latex": [
       "A data.frame: 3 × 6\n",
       "\\begin{tabular}{r|llllll}\n",
       "  & mean & sd & 0.025quant & 0.5quant & 0.975quant & mode\\\\\n",
       "  & <dbl> & <dbl> & <dbl> & <dbl> & <dbl> & <dbl>\\\\\n",
       "\\hline\n",
       "\tstd.dev &   1.250070 &  0.02686240 &   1.20335 &   1.247750 &   1.308110 &   1.240370\\\\\n",
       "\trange & 528.686000 & 23.85670000 & 490.65300 & 525.503000 & 582.823000 & 515.131000\\\\\n",
       "\tnu &   0.508827 &  0.00684817 &   0.49990 &   0.507483 &   0.525164 &   0.501151\\\\\n",
       "\\end{tabular}\n"
      ],
      "text/markdown": [
       "\n",
       "A data.frame: 3 × 6\n",
       "\n",
       "| <!--/--> | mean &lt;dbl&gt; | sd &lt;dbl&gt; | 0.025quant &lt;dbl&gt; | 0.5quant &lt;dbl&gt; | 0.975quant &lt;dbl&gt; | mode &lt;dbl&gt; |\n",
       "|---|---|---|---|---|---|---|\n",
       "| std.dev |   1.250070 |  0.02686240 |   1.20335 |   1.247750 |   1.308110 |   1.240370 |\n",
       "| range | 528.686000 | 23.85670000 | 490.65300 | 525.503000 | 582.823000 | 515.131000 |\n",
       "| nu |   0.508827 |  0.00684817 |   0.49990 |   0.507483 |   0.525164 |   0.501151 |\n",
       "\n"
      ],
      "text/plain": [
       "        mean       sd          0.025quant 0.5quant   0.975quant mode      \n",
       "std.dev   1.250070  0.02686240   1.20335    1.247750   1.308110   1.240370\n",
       "range   528.686000 23.85670000 490.65300  525.503000 582.823000 515.131000\n",
       "nu        0.508827  0.00684817   0.49990    0.507483   0.525164   0.501151"
      ]
     },
     "metadata": {},
     "output_type": "display_data"
    },
    {
     "name": "stdout",
     "output_type": "stream",
     "text": [
      "INFO [2025-09-10 20:47:37] Model: stochvol.nig\n",
      "INFO [2025-09-10 20:47:37] likelihood:  3162.04146857985\n",
      "INFO [2025-09-10 20:47:37] \n",
      "              mean          sd 0.025quant   0.5quant 0.975quant       mode\n",
      "std.dev   1.250070  0.02686240    1.20335   1.247750   1.308110   1.240370\n",
      "range   528.686000 23.85670000  490.65300 525.503000 582.823000 515.131000\n",
      "nu        0.508827  0.00684817    0.49990   0.507483   0.525164   0.501151\n"
     ]
    }
   ],
   "source": [
    "\n",
    "OU_model <- rspde.matern(mesh = mesh,parameterization=\"matern\")\n",
    "formula_OU <- logreturn ~ -1 + Intercept(1)+ field(times, model = OU_model)\n",
    "fit<-bru(formula_OU, family=\"stochvol.nig\", data = dataset)\n",
    "result_fit<- rspde.result(fit, \"field\", OU_model, parameterization=\"matern\")\n",
    "print(fit$mlik[2])\n",
    "summary(result_fit)\n",
    "\n",
    "flog.info(\"Model: stochvol.nig\",name=\"log\")\n",
    "summary_df <- as.data.frame(summary(result_fit))\n",
    "flog.info(paste(\"likelihood: \", fit$mlik[2]),name=\"log\")\n",
    "flog.info(\n",
    "  paste0(\"\\n\", paste(capture.output(print(summary_df)), collapse = \"\\n\")),\n",
    "  name = \"log\"\n",
    ")\n"
   ]
  },
  {
   "cell_type": "code",
   "execution_count": 5,
   "id": "9443cb36",
   "metadata": {
    "vscode": {
     "languageId": "r"
    }
   },
   "outputs": [
    {
     "name": "stdout",
     "output_type": "stream",
     "text": [
      "\n",
      " *** inla.core.safe:  The inla program failed, but will rerun in case better initial values may help. try=1/1 \n",
      "\n",
      " *** inla.core.safe:  rerun with improved initial values \n",
      "[1] 3163.109\n"
     ]
    },
    {
     "data": {
      "text/html": [
       "<table class=\"dataframe\">\n",
       "<caption>A data.frame: 3 × 6</caption>\n",
       "<thead>\n",
       "\t<tr><th></th><th scope=col>mean</th><th scope=col>sd</th><th scope=col>0.025quant</th><th scope=col>0.5quant</th><th scope=col>0.975quant</th><th scope=col>mode</th></tr>\n",
       "\t<tr><th></th><th scope=col>&lt;dbl&gt;</th><th scope=col>&lt;dbl&gt;</th><th scope=col>&lt;dbl&gt;</th><th scope=col>&lt;dbl&gt;</th><th scope=col>&lt;dbl&gt;</th><th scope=col>&lt;dbl&gt;</th></tr>\n",
       "</thead>\n",
       "<tbody>\n",
       "\t<tr><th scope=row>std.dev</th><td> 1.015880</td><td> 0.11088500</td><td> 0.827514</td><td> 1.004970</td><td>  1.261610</td><td> 0.978581</td></tr>\n",
       "\t<tr><th scope=row>range</th><td>72.564800</td><td>22.11990000</td><td>40.631200</td><td>68.592700</td><td>126.628000</td><td>61.360000</td></tr>\n",
       "\t<tr><th scope=row>nu</th><td> 0.766624</td><td> 0.00351991</td><td> 0.759727</td><td> 0.766618</td><td>  0.773553</td><td> 0.766600</td></tr>\n",
       "</tbody>\n",
       "</table>\n"
      ],
      "text/latex": [
       "A data.frame: 3 × 6\n",
       "\\begin{tabular}{r|llllll}\n",
       "  & mean & sd & 0.025quant & 0.5quant & 0.975quant & mode\\\\\n",
       "  & <dbl> & <dbl> & <dbl> & <dbl> & <dbl> & <dbl>\\\\\n",
       "\\hline\n",
       "\tstd.dev &  1.015880 &  0.11088500 &  0.827514 &  1.004970 &   1.261610 &  0.978581\\\\\n",
       "\trange & 72.564800 & 22.11990000 & 40.631200 & 68.592700 & 126.628000 & 61.360000\\\\\n",
       "\tnu &  0.766624 &  0.00351991 &  0.759727 &  0.766618 &   0.773553 &  0.766600\\\\\n",
       "\\end{tabular}\n"
      ],
      "text/markdown": [
       "\n",
       "A data.frame: 3 × 6\n",
       "\n",
       "| <!--/--> | mean &lt;dbl&gt; | sd &lt;dbl&gt; | 0.025quant &lt;dbl&gt; | 0.5quant &lt;dbl&gt; | 0.975quant &lt;dbl&gt; | mode &lt;dbl&gt; |\n",
       "|---|---|---|---|---|---|---|\n",
       "| std.dev |  1.015880 |  0.11088500 |  0.827514 |  1.004970 |   1.261610 |  0.978581 |\n",
       "| range | 72.564800 | 22.11990000 | 40.631200 | 68.592700 | 126.628000 | 61.360000 |\n",
       "| nu |  0.766624 |  0.00351991 |  0.759727 |  0.766618 |   0.773553 |  0.766600 |\n",
       "\n"
      ],
      "text/plain": [
       "        mean      sd          0.025quant 0.5quant  0.975quant mode     \n",
       "std.dev  1.015880  0.11088500  0.827514   1.004970   1.261610  0.978581\n",
       "range   72.564800 22.11990000 40.631200  68.592700 126.628000 61.360000\n",
       "nu       0.766624  0.00351991  0.759727   0.766618   0.773553  0.766600"
      ]
     },
     "metadata": {},
     "output_type": "display_data"
    },
    {
     "name": "stdout",
     "output_type": "stream",
     "text": [
      "INFO [2025-09-10 20:48:16] Model: lognormal\n",
      "INFO [2025-09-10 20:48:16] likelihood:  3163.10914316463\n",
      "INFO [2025-09-10 20:48:16] \n",
      "             mean          sd 0.025quant  0.5quant 0.975quant      mode\n",
      "std.dev  1.015880  0.11088500   0.827514  1.004970   1.261610  0.978581\n",
      "range   72.564800 22.11990000  40.631200 68.592700 126.628000 61.360000\n",
      "nu       0.766624  0.00351991   0.759727  0.766618   0.773553  0.766600\n"
     ]
    }
   ],
   "source": [
    "\n",
    "OU_model <- rspde.matern(mesh = mesh,parameterization=\"matern\")\n",
    "formula_OU <- logreturn ~ -1 + Intercept(1)+ field(times, model = OU_model)\n",
    "fit<-bru(formula_OU, family=\"stochvolln\", data = dataset)\n",
    "result_fit<- rspde.result(fit, \"field\", OU_model, parameterization=\"matern\")\n",
    "print(fit$mlik[2])\n",
    "summary(result_fit)\n",
    "\n",
    "flog.info(\"Model: lognormal\",name=\"log\")\n",
    "summary_df <- as.data.frame(summary(result_fit))\n",
    "flog.info(paste(\"likelihood: \", fit$mlik[2]),name=\"log\")\n",
    "flog.info(\n",
    "  paste0(\"\\n\", paste(capture.output(print(summary_df)), collapse = \"\\n\")),\n",
    "  name = \"log\"\n",
    ")\n"
   ]
  },
  {
   "cell_type": "code",
   "execution_count": 6,
   "id": "49adfc24",
   "metadata": {
    "vscode": {
     "languageId": "r"
    }
   },
   "outputs": [
    {
     "name": "stdout",
     "output_type": "stream",
     "text": [
      "[1] -91579.94\n"
     ]
    },
    {
     "data": {
      "text/html": [
       "<table class=\"dataframe\">\n",
       "<caption>A data.frame: 6 × 6</caption>\n",
       "<thead>\n",
       "\t<tr><th></th><th scope=col>mean</th><th scope=col>sd</th><th scope=col>0.025quant</th><th scope=col>0.5quant</th><th scope=col>0.975quant</th><th scope=col>mode</th></tr>\n",
       "\t<tr><th></th><th scope=col>&lt;dbl&gt;</th><th scope=col>&lt;dbl&gt;</th><th scope=col>&lt;dbl&gt;</th><th scope=col>&lt;dbl&gt;</th><th scope=col>&lt;dbl&gt;</th><th scope=col>&lt;dbl&gt;</th></tr>\n",
       "</thead>\n",
       "<tbody>\n",
       "\t<tr><th scope=row>std.dev</th><td>0.00880895</td><td>0.002325610</td><td>0.005142740</td><td>0.00849355</td><td>0.01422570</td><td>0.00795567</td></tr>\n",
       "\t<tr><th scope=row>range</th><td>0.21345700</td><td>0.039533400</td><td>0.150154000</td><td>0.20871800</td><td>0.30446100</td><td>0.19580500</td></tr>\n",
       "\t<tr><th scope=row>nu</th><td>0.39737900</td><td>0.030220800</td><td>0.345121000</td><td>0.39467500</td><td>0.46282500</td><td>0.38599000</td></tr>\n",
       "\t<tr><th scope=row>std.dev1</th><td>0.00165499</td><td>0.000495992</td><td>0.000938808</td><td>0.00156444</td><td>0.00287402</td><td>0.00145504</td></tr>\n",
       "\t<tr><th scope=row>range1</th><td>0.20116000</td><td>0.039205400</td><td>0.128635000</td><td>0.19984800</td><td>0.28263100</td><td>0.19527000</td></tr>\n",
       "\t<tr><th scope=row>nu1</th><td>0.47036100</td><td>0.065279200</td><td>0.337736000</td><td>0.47358800</td><td>0.59002700</td><td>0.49034900</td></tr>\n",
       "</tbody>\n",
       "</table>\n"
      ],
      "text/latex": [
       "A data.frame: 6 × 6\n",
       "\\begin{tabular}{r|llllll}\n",
       "  & mean & sd & 0.025quant & 0.5quant & 0.975quant & mode\\\\\n",
       "  & <dbl> & <dbl> & <dbl> & <dbl> & <dbl> & <dbl>\\\\\n",
       "\\hline\n",
       "\tstd.dev & 0.00880895 & 0.002325610 & 0.005142740 & 0.00849355 & 0.01422570 & 0.00795567\\\\\n",
       "\trange & 0.21345700 & 0.039533400 & 0.150154000 & 0.20871800 & 0.30446100 & 0.19580500\\\\\n",
       "\tnu & 0.39737900 & 0.030220800 & 0.345121000 & 0.39467500 & 0.46282500 & 0.38599000\\\\\n",
       "\tstd.dev1 & 0.00165499 & 0.000495992 & 0.000938808 & 0.00156444 & 0.00287402 & 0.00145504\\\\\n",
       "\trange1 & 0.20116000 & 0.039205400 & 0.128635000 & 0.19984800 & 0.28263100 & 0.19527000\\\\\n",
       "\tnu1 & 0.47036100 & 0.065279200 & 0.337736000 & 0.47358800 & 0.59002700 & 0.49034900\\\\\n",
       "\\end{tabular}\n"
      ],
      "text/markdown": [
       "\n",
       "A data.frame: 6 × 6\n",
       "\n",
       "| <!--/--> | mean &lt;dbl&gt; | sd &lt;dbl&gt; | 0.025quant &lt;dbl&gt; | 0.5quant &lt;dbl&gt; | 0.975quant &lt;dbl&gt; | mode &lt;dbl&gt; |\n",
       "|---|---|---|---|---|---|---|\n",
       "| std.dev | 0.00880895 | 0.002325610 | 0.005142740 | 0.00849355 | 0.01422570 | 0.00795567 |\n",
       "| range | 0.21345700 | 0.039533400 | 0.150154000 | 0.20871800 | 0.30446100 | 0.19580500 |\n",
       "| nu | 0.39737900 | 0.030220800 | 0.345121000 | 0.39467500 | 0.46282500 | 0.38599000 |\n",
       "| std.dev1 | 0.00165499 | 0.000495992 | 0.000938808 | 0.00156444 | 0.00287402 | 0.00145504 |\n",
       "| range1 | 0.20116000 | 0.039205400 | 0.128635000 | 0.19984800 | 0.28263100 | 0.19527000 |\n",
       "| nu1 | 0.47036100 | 0.065279200 | 0.337736000 | 0.47358800 | 0.59002700 | 0.49034900 |\n",
       "\n"
      ],
      "text/plain": [
       "         mean       sd          0.025quant  0.5quant   0.975quant mode      \n",
       "std.dev  0.00880895 0.002325610 0.005142740 0.00849355 0.01422570 0.00795567\n",
       "range    0.21345700 0.039533400 0.150154000 0.20871800 0.30446100 0.19580500\n",
       "nu       0.39737900 0.030220800 0.345121000 0.39467500 0.46282500 0.38599000\n",
       "std.dev1 0.00165499 0.000495992 0.000938808 0.00156444 0.00287402 0.00145504\n",
       "range1   0.20116000 0.039205400 0.128635000 0.19984800 0.28263100 0.19527000\n",
       "nu1      0.47036100 0.065279200 0.337736000 0.47358800 0.59002700 0.49034900"
      ]
     },
     "metadata": {},
     "output_type": "display_data"
    },
    {
     "name": "stdout",
     "output_type": "stream",
     "text": [
      "INFO [2025-09-10 20:48:47] Model: rough + smooth\n",
      "INFO [2025-09-10 20:48:47] likelihood:  -91579.9444449086\n",
      "INFO [2025-09-10 20:48:47] \n",
      "               mean          sd  0.025quant   0.5quant 0.975quant       mode\n",
      "std.dev  0.00880895 0.002325610 0.005142740 0.00849355 0.01422570 0.00795567\n",
      "range    0.21345700 0.039533400 0.150154000 0.20871800 0.30446100 0.19580500\n",
      "nu       0.39737900 0.030220800 0.345121000 0.39467500 0.46282500 0.38599000\n",
      "std.dev1 0.00165499 0.000495992 0.000938808 0.00156444 0.00287402 0.00145504\n",
      "range1   0.20116000 0.039205400 0.128635000 0.19984800 0.28263100 0.19527000\n",
      "nu1      0.47036100 0.065279200 0.337736000 0.47358800 0.59002700 0.49034900\n"
     ]
    }
   ],
   "source": [
    "rspde_model1 <- rspde.matern(mesh = mesh,nu.upper.bound=1)\n",
    "\n",
    "rspde_model2 <- rspde.matern(mesh = mesh,nu.upper.bound=2)\n",
    "formula <- logreturn ~ -1 + Intercept(1) + rough(times, model = rspde_model1) + smooth(times, model = rspde_model2)+f(times,model=\"iid\")\n",
    "\n",
    "fit <- bru(formula, family=\"stochvol\", data = dataset)\n",
    "result_fit1<- rspde.result(fit, \"rough\", rspde_model1, parameterization=\"matern\")\n",
    "result_fit2<- rspde.result(fit, \"smooth\", rspde_model2, parameterization=\"matern\")\n",
    "print(fit$mlik[2])\n",
    "rbind(summary(result_fit1),summary(result_fit2))\n",
    "\n",
    "summary_df <- rbind(summary(result_fit1),summary(result_fit2))\n",
    "flog.info(\"Model: rough + smooth\",name=\"log\")\n",
    "flog.info(paste(\"likelihood: \", fit$mlik[2]),name=\"log\")\n",
    "flog.info(\n",
    "  paste0(\"\\n\", paste(capture.output(print(summary_df)), collapse = \"\\n\")),\n",
    "  name = \"log\"\n",
    ")\n"
   ]
  },
  {
   "cell_type": "code",
   "execution_count": 7,
   "id": "d834b442",
   "metadata": {
    "vscode": {
     "languageId": "r"
    }
   },
   "outputs": [
    {
     "name": "stdout",
     "output_type": "stream",
     "text": [
      "INFO [2025-09-10 20:48:47] Model: rough + smooth\n",
      "INFO [2025-09-10 20:48:47] likelihood:  -91579.9444449086\n",
      "INFO [2025-09-10 20:48:47] \n",
      "               mean          sd  0.025quant   0.5quant 0.975quant       mode\n",
      "std.dev  0.00880895 0.002325610 0.005142740 0.00849355 0.01422570 0.00795567\n",
      "range    0.21345700 0.039533400 0.150154000 0.20871800 0.30446100 0.19580500\n",
      "nu       0.39737900 0.030220800 0.345121000 0.39467500 0.46282500 0.38599000\n",
      "std.dev1 0.00165499 0.000495992 0.000938808 0.00156444 0.00287402 0.00145504\n",
      "range1   0.20116000 0.039205400 0.128635000 0.19984800 0.28263100 0.19527000\n",
      "nu1      0.47036100 0.065279200 0.337736000 0.47358800 0.59002700 0.49034900\n"
     ]
    }
   ],
   "source": [
    "summary_df <- rbind(summary(result_fit1),summary(result_fit2))\n",
    "flog.info(\"Model: rough + smooth\",name=\"log\")\n",
    "flog.info(paste(\"likelihood: \", fit$mlik[2]),name=\"log\")\n",
    "flog.info(\n",
    "  paste0(\"\\n\", paste(capture.output(print(summary_df)), collapse = \"\\n\")),\n",
    "  name = \"log\"\n",
    ")\n"
   ]
  },
  {
   "cell_type": "code",
   "execution_count": null,
   "id": "6191ade3",
   "metadata": {
    "vscode": {
     "languageId": "r"
    }
   },
   "outputs": [],
   "source": []
  }
 ],
 "metadata": {
  "kernelspec": {
   "display_name": "R",
   "language": "R",
   "name": "ir"
  },
  "language_info": {
   "codemirror_mode": "r",
   "file_extension": ".r",
   "mimetype": "text/x-r-source",
   "name": "R",
   "pygments_lexer": "r",
   "version": "4.4.3"
  }
 },
 "nbformat": 4,
 "nbformat_minor": 5
}
