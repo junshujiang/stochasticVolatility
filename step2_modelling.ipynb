{
 "cells": [
  {
   "cell_type": "code",
   "execution_count": 1,
   "id": "fde951de",
   "metadata": {
    "vscode": {
     "languageId": "r"
    }
   },
   "outputs": [
    {
     "name": "stderr",
     "output_type": "stream",
     "text": [
      "Warning message:\n",
      "“package ‘INLA’ was built under R version 4.5.1”\n",
      "Loading required package: Matrix\n",
      "\n"
     ]
    },
    {
     "name": "stderr",
     "output_type": "stream",
     "text": [
      "This is INLA_25.10.01 built 2025-10-01 17:17:12 UTC.\n",
      " - See www.r-inla.org/contact-us for how to get help.\n",
      " - List available models/likelihoods/etc with inla.list.models()\n",
      " - Use inla.doc(<NAME>) to access documentation\n",
      "\n",
      "\n",
      "Attaching package: ‘zoo’\n",
      "\n",
      "\n",
      "The following objects are masked from ‘package:base’:\n",
      "\n",
      "    as.Date, as.Date.numeric\n",
      "\n",
      "\n",
      "\n",
      "Attaching package: ‘dplyr’\n",
      "\n",
      "\n",
      "The following objects are masked from ‘package:stats’:\n",
      "\n",
      "    filter, lag\n",
      "\n",
      "\n",
      "The following objects are masked from ‘package:base’:\n",
      "\n",
      "    intersect, setdiff, setequal, union\n",
      "\n",
      "\n",
      "This is rSPDE 2.5.1\n",
      "- See https://davidbolin.github.io/rSPDE for vignettes and manuals.\n",
      "\n"
     ]
    },
    {
     "name": "stdout",
     "output_type": "stream",
     "text": [
      "INFO [2025-10-07 17:05:46] start experiment\n"
     ]
    },
    {
     "name": "stderr",
     "output_type": "stream",
     "text": [
      "\u001b[1mRows: \u001b[22m\u001b[34m3687\u001b[39m \u001b[1mColumns: \u001b[22m\u001b[34m7\u001b[39m\n",
      "\u001b[36m──\u001b[39m \u001b[1mColumn specification\u001b[22m \u001b[36m────────────────────────────────────────────────────────\u001b[39m\n",
      "\u001b[1mDelimiter:\u001b[22m \",\"\n",
      "\u001b[31mchr\u001b[39m  (1): act_symbol\n",
      "\u001b[32mdbl\u001b[39m  (5): open, high, low, close, volume\n",
      "\u001b[34mdate\u001b[39m (1): date\n",
      "\n",
      "\u001b[36mℹ\u001b[39m Use `spec()` to retrieve the full column specification for this data.\n",
      "\u001b[36mℹ\u001b[39m Specify the column types or set `show_col_types = FALSE` to quiet this message.\n"
     ]
    },
    {
     "data": {
      "text/html": [
       "<style>\n",
       ".list-inline {list-style: none; margin:0; padding: 0}\n",
       ".list-inline>li {display: inline-block}\n",
       ".list-inline>li:not(:last-child)::after {content: \"\\00b7\"; padding: 0 .5ex}\n",
       "</style>\n",
       "<ol class=list-inline><li>1000</li><li>4</li></ol>\n"
      ],
      "text/latex": [
       "\\begin{enumerate*}\n",
       "\\item 1000\n",
       "\\item 4\n",
       "\\end{enumerate*}\n"
      ],
      "text/markdown": [
       "1. 1000\n",
       "2. 4\n",
       "\n",
       "\n"
      ],
      "text/plain": [
       "[1] 1000    4"
      ]
     },
     "metadata": {},
     "output_type": "display_data"
    }
   ],
   "source": [
    "source(\"helper.R\")\n",
    "max_expid<-get_max(\"Log\")+1\n",
    "dataset_name=\"SPY\"\n",
    "exp_name<-glue(\"Modelling_{dataset_name}\")\n",
    "log_dir<-glue(\"Log/{max_expid}.{exp_name}\")\n",
    "logger=get_logger(log_dir, log_name = \"log\", debug = TRUE)\n",
    "futile.logger::flog.info(\"start experiment\", name = \"log\")\n",
    "\n",
    "\n",
    "\n",
    "\n",
    "\n",
    "\n",
    "\n",
    "if (dataset_name==\"China\"){\n",
    "dataset <- load_data(\"data/IFclose.csv\")\n",
    "\n",
    "}else if (dataset_name==\"Saudi\"){\n",
    "dataset <- load_data(\"data/1180_vol.csv\")\n",
    "\n",
    "}else if (dataset_name==\"SPY\"){\n",
    "\n",
    "dataset <- load_data(\"data/SPY.csv\")\n",
    "\n",
    "}else{\n",
    "\n",
    "    stop(\"Error: Invalid data set\")\n",
    "}\n",
    "\n",
    "mesh <- fm_mesh_1d(dataset$times)\n",
    "\n",
    "dataset=dataset[(length(dataset$logreturn)-999):length(dataset$logreturn),]\n",
    "\n",
    "par(bg = \"white\") \n",
    "dim(dataset)\n"
   ]
  },
  {
   "cell_type": "code",
   "execution_count": 2,
   "id": "c8808006",
   "metadata": {
    "vscode": {
     "languageId": "r"
    }
   },
   "outputs": [],
   "source": [
    "dataset$logreturn<-inla.mdata(dataset$logreturn)"
   ]
  },
  {
   "cell_type": "markdown",
   "id": "9659257d",
   "metadata": {},
   "source": [
    "\n",
    "# 5 models"
   ]
  },
  {
   "cell_type": "code",
   "execution_count": 3,
   "id": "10e68c8c",
   "metadata": {
    "vscode": {
     "languageId": "r"
    }
   },
   "outputs": [
    {
     "name": "stdout",
     "output_type": "stream",
     "text": [
      "[1] -43370.13\n"
     ]
    },
    {
     "data": {
      "text/html": [
       "<table class=\"dataframe\">\n",
       "<caption>A data.frame: 3 × 6</caption>\n",
       "<thead>\n",
       "\t<tr><th></th><th scope=col>mean</th><th scope=col>sd</th><th scope=col>0.025quant</th><th scope=col>0.5quant</th><th scope=col>0.975quant</th><th scope=col>mode</th></tr>\n",
       "\t<tr><th></th><th scope=col>&lt;dbl&gt;</th><th scope=col>&lt;dbl&gt;</th><th scope=col>&lt;dbl&gt;</th><th scope=col>&lt;dbl&gt;</th><th scope=col>&lt;dbl&gt;</th><th scope=col>&lt;dbl&gt;</th></tr>\n",
       "</thead>\n",
       "<tbody>\n",
       "\t<tr><th scope=row>std.dev</th><td>0.0223721</td><td>0.0253595</td><td>0.000996398</td><td>0.0141949</td><td>0.0915619</td><td>0.00235678</td></tr>\n",
       "\t<tr><th scope=row>range</th><td>0.2123620</td><td>0.1251660</td><td>0.043668400</td><td>0.1890700</td><td>0.5155270</td><td>0.12301300</td></tr>\n",
       "\t<tr><th scope=row>nu</th><td>1.0015200</td><td>0.5605470</td><td>0.079337500</td><td>1.0094900</td><td>1.9100700</td><td>1.70928000</td></tr>\n",
       "</tbody>\n",
       "</table>\n"
      ],
      "text/latex": [
       "A data.frame: 3 × 6\n",
       "\\begin{tabular}{r|llllll}\n",
       "  & mean & sd & 0.025quant & 0.5quant & 0.975quant & mode\\\\\n",
       "  & <dbl> & <dbl> & <dbl> & <dbl> & <dbl> & <dbl>\\\\\n",
       "\\hline\n",
       "\tstd.dev & 0.0223721 & 0.0253595 & 0.000996398 & 0.0141949 & 0.0915619 & 0.00235678\\\\\n",
       "\trange & 0.2123620 & 0.1251660 & 0.043668400 & 0.1890700 & 0.5155270 & 0.12301300\\\\\n",
       "\tnu & 1.0015200 & 0.5605470 & 0.079337500 & 1.0094900 & 1.9100700 & 1.70928000\\\\\n",
       "\\end{tabular}\n"
      ],
      "text/markdown": [
       "\n",
       "A data.frame: 3 × 6\n",
       "\n",
       "| <!--/--> | mean &lt;dbl&gt; | sd &lt;dbl&gt; | 0.025quant &lt;dbl&gt; | 0.5quant &lt;dbl&gt; | 0.975quant &lt;dbl&gt; | mode &lt;dbl&gt; |\n",
       "|---|---|---|---|---|---|---|\n",
       "| std.dev | 0.0223721 | 0.0253595 | 0.000996398 | 0.0141949 | 0.0915619 | 0.00235678 |\n",
       "| range | 0.2123620 | 0.1251660 | 0.043668400 | 0.1890700 | 0.5155270 | 0.12301300 |\n",
       "| nu | 1.0015200 | 0.5605470 | 0.079337500 | 1.0094900 | 1.9100700 | 1.70928000 |\n",
       "\n"
      ],
      "text/plain": [
       "        mean      sd        0.025quant  0.5quant  0.975quant mode      \n",
       "std.dev 0.0223721 0.0253595 0.000996398 0.0141949 0.0915619  0.00235678\n",
       "range   0.2123620 0.1251660 0.043668400 0.1890700 0.5155270  0.12301300\n",
       "nu      1.0015200 0.5605470 0.079337500 1.0094900 1.9100700  1.70928000"
      ]
     },
     "metadata": {},
     "output_type": "display_data"
    },
    {
     "name": "stdout",
     "output_type": "stream",
     "text": [
      "INFO [2025-10-07 17:05:55] Model: stochvol\n",
      "INFO [2025-10-07 17:05:55] likelihood:  -43370.1332709885\n",
      "INFO [2025-10-07 17:05:55] \n",
      "             mean        sd  0.025quant  0.5quant 0.975quant       mode\n",
      "std.dev 0.0223721 0.0253595 0.000996398 0.0141949  0.0915619 0.00235678\n",
      "range   0.2123620 0.1251660 0.043668400 0.1890700  0.5155270 0.12301300\n",
      "nu      1.0015200 0.5605470 0.079337500 1.0094900  1.9100700 1.70928000\n"
     ]
    }
   ],
   "source": [
    "\n",
    "OU_model <- rspde.matern(mesh = mesh,parameterization=\"matern\")\n",
    "formula_OU <-  logreturn ~ -1 + Intercept(1)+ field(times, model = OU_model)\n",
    "fit<-bru(formula_OU, family=\"stochvol\", data = dataset)\n",
    "result_fit<- rspde.result(fit, \"field\", OU_model, parameterization=\"matern\")\n",
    "print(fit$mlik[2])\n",
    "summary(result_fit)\n",
    "\n",
    "\n",
    "flog.info(\"Model: stochvol\",name=\"log\")\n",
    "summary_df <- as.data.frame(summary(result_fit))\n",
    "flog.info(paste(\"likelihood: \", fit$mlik[2]),name=\"log\")\n",
    "flog.info(\n",
    "  paste0(\"\\n\", paste(capture.output(print(summary_df)), collapse = \"\\n\")),\n",
    "  name = \"log\"\n",
    ")\n"
   ]
  },
  {
   "cell_type": "code",
   "execution_count": 5,
   "id": "7f9f2ebe",
   "metadata": {
    "vscode": {
     "languageId": "r"
    }
   },
   "outputs": [
    {
     "name": "stdout",
     "output_type": "stream",
     "text": [
      "[1] 3164.049\n"
     ]
    },
    {
     "data": {
      "text/html": [
       "<table class=\"dataframe\">\n",
       "<caption>A data.frame: 3 × 6</caption>\n",
       "<thead>\n",
       "\t<tr><th></th><th scope=col>mean</th><th scope=col>sd</th><th scope=col>0.025quant</th><th scope=col>0.5quant</th><th scope=col>0.975quant</th><th scope=col>mode</th></tr>\n",
       "\t<tr><th></th><th scope=col>&lt;dbl&gt;</th><th scope=col>&lt;dbl&gt;</th><th scope=col>&lt;dbl&gt;</th><th scope=col>&lt;dbl&gt;</th><th scope=col>&lt;dbl&gt;</th><th scope=col>&lt;dbl&gt;</th></tr>\n",
       "</thead>\n",
       "<tbody>\n",
       "\t<tr><th scope=row>std.dev</th><td>  1.608550</td><td> 0.04177060</td><td>  1.536710</td><td>  1.604670</td><td>  1.699470</td><td>  1.591950</td></tr>\n",
       "\t<tr><th scope=row>range</th><td>611.698000</td><td>24.69880000</td><td>561.288000</td><td>612.707000</td><td>657.827000</td><td>616.969000</td></tr>\n",
       "\t<tr><th scope=row>nu</th><td>  0.502648</td><td> 0.00356561</td><td>  0.497682</td><td>  0.502014</td><td>  0.511012</td><td>  0.499229</td></tr>\n",
       "</tbody>\n",
       "</table>\n"
      ],
      "text/latex": [
       "A data.frame: 3 × 6\n",
       "\\begin{tabular}{r|llllll}\n",
       "  & mean & sd & 0.025quant & 0.5quant & 0.975quant & mode\\\\\n",
       "  & <dbl> & <dbl> & <dbl> & <dbl> & <dbl> & <dbl>\\\\\n",
       "\\hline\n",
       "\tstd.dev &   1.608550 &  0.04177060 &   1.536710 &   1.604670 &   1.699470 &   1.591950\\\\\n",
       "\trange & 611.698000 & 24.69880000 & 561.288000 & 612.707000 & 657.827000 & 616.969000\\\\\n",
       "\tnu &   0.502648 &  0.00356561 &   0.497682 &   0.502014 &   0.511012 &   0.499229\\\\\n",
       "\\end{tabular}\n"
      ],
      "text/markdown": [
       "\n",
       "A data.frame: 3 × 6\n",
       "\n",
       "| <!--/--> | mean &lt;dbl&gt; | sd &lt;dbl&gt; | 0.025quant &lt;dbl&gt; | 0.5quant &lt;dbl&gt; | 0.975quant &lt;dbl&gt; | mode &lt;dbl&gt; |\n",
       "|---|---|---|---|---|---|---|\n",
       "| std.dev |   1.608550 |  0.04177060 |   1.536710 |   1.604670 |   1.699470 |   1.591950 |\n",
       "| range | 611.698000 | 24.69880000 | 561.288000 | 612.707000 | 657.827000 | 616.969000 |\n",
       "| nu |   0.502648 |  0.00356561 |   0.497682 |   0.502014 |   0.511012 |   0.499229 |\n",
       "\n"
      ],
      "text/plain": [
       "        mean       sd          0.025quant 0.5quant   0.975quant mode      \n",
       "std.dev   1.608550  0.04177060   1.536710   1.604670   1.699470   1.591950\n",
       "range   611.698000 24.69880000 561.288000 612.707000 657.827000 616.969000\n",
       "nu        0.502648  0.00356561   0.497682   0.502014   0.511012   0.499229"
      ]
     },
     "metadata": {},
     "output_type": "display_data"
    },
    {
     "name": "stdout",
     "output_type": "stream",
     "text": [
      "INFO [2025-10-07 17:07:33] Model: stochvol\n",
      "INFO [2025-10-07 17:07:33] likelihood:  3164.0486639261\n",
      "INFO [2025-10-07 17:07:33] \n",
      "              mean          sd 0.025quant   0.5quant 0.975quant       mode\n",
      "std.dev   1.608550  0.04177060   1.536710   1.604670   1.699470   1.591950\n",
      "range   611.698000 24.69880000 561.288000 612.707000 657.827000 616.969000\n",
      "nu        0.502648  0.00356561   0.497682   0.502014   0.511012   0.499229\n"
     ]
    }
   ],
   "source": [
    "cloglike <- inla.cloglike.define(model = \"inla_cloglike_stochvol\",\n",
    "shlib = \"./cloglikelihood/gaussiantest.so\",\n",
    "debug = FALSE)\n",
    "spde_model <- rspde.matern(mesh = mesh,parameterization=\"matern\")\n",
    "formula <-  logreturn ~ -1 + Intercept(1)+ field(times, model = spde_model)\n",
    "fit<-bru(formula, data = dataset,family = \"cloglike\", control.family = list(cloglike = cloglike))\n",
    "result_fit<- rspde.result(fit, \"field\", spde_model, parameterization=\"matern\")\n",
    "print(fit$mlik[2])\n",
    "summary(result_fit)\n",
    "\n",
    "\n",
    "flog.info(\"Model: stochvol\",name=\"log\")\n",
    "summary_df <- as.data.frame(summary(result_fit))\n",
    "flog.info(paste(\"likelihood: \", fit$mlik[2]),name=\"log\")\n",
    "flog.info(\n",
    "  paste0(\"\\n\", paste(capture.output(print(summary_df)), collapse = \"\\n\")),\n",
    "  name = \"log\"\n",
    ")\n"
   ]
  },
  {
   "cell_type": "code",
   "execution_count": null,
   "id": "a4115259",
   "metadata": {
    "vscode": {
     "languageId": "r"
    }
   },
   "outputs": [],
   "source": [
    "\n",
    "OU_model <- rspde.matern(mesh = mesh,parameterization=\"matern\")\n",
    "formula_OU <- logreturn ~ -1 + Intercept(1)+ field(times, model = OU_model)\n",
    "fit<-bru(formula_OU, family=\"stochvol.t\", data = dataset)\n",
    "result_fit<- rspde.result(fit, \"field\", OU_model, parameterization=\"matern\")\n",
    "print(fit$mlik[2])\n",
    "summary(result_fit)\n",
    "\n",
    "flog.info(\"Model: stochvol.t\",name=\"log\")\n",
    "summary_df <- as.data.frame(summary(result_fit))\n",
    "flog.info(paste(\"likelihood: \", fit$mlik[2]),name=\"log\")\n",
    "flog.info(\n",
    "  paste0(\"\\n\", paste(capture.output(print(summary_df)), collapse = \"\\n\")),\n",
    "  name = \"log\"\n",
    ")\n"
   ]
  },
  {
   "cell_type": "code",
   "execution_count": null,
   "id": "e4cd28ff",
   "metadata": {
    "vscode": {
     "languageId": "r"
    }
   },
   "outputs": [],
   "source": [
    "fit"
   ]
  },
  {
   "cell_type": "code",
   "execution_count": null,
   "id": "5bcb4967",
   "metadata": {
    "vscode": {
     "languageId": "r"
    }
   },
   "outputs": [],
   "source": []
  },
  {
   "cell_type": "code",
   "execution_count": null,
   "id": "1083ed10",
   "metadata": {
    "vscode": {
     "languageId": "r"
    }
   },
   "outputs": [],
   "source": [
    "\n",
    "OU_model <- rspde.matern(mesh = mesh,parameterization=\"matern\")\n",
    "formula_OU <- logreturn ~ -1 + Intercept(1)+ field(times, model = OU_model)\n",
    "fit<-bru(formula_OU, family=\"stochvol.nig\", data = dataset)\n",
    "result_fit<- rspde.result(fit, \"field\", OU_model, parameterization=\"matern\")\n",
    "print(fit$mlik[2])\n",
    "summary(result_fit)\n",
    "\n",
    "flog.info(\"Model: stochvol.nig\",name=\"log\")\n",
    "summary_df <- as.data.frame(summary(result_fit))\n",
    "flog.info(paste(\"likelihood: \", fit$mlik[2]),name=\"log\")\n",
    "flog.info(\n",
    "  paste0(\"\\n\", paste(capture.output(print(summary_df)), collapse = \"\\n\")),\n",
    "  name = \"log\"\n",
    ")\n"
   ]
  },
  {
   "cell_type": "code",
   "execution_count": null,
   "id": "9443cb36",
   "metadata": {
    "vscode": {
     "languageId": "r"
    }
   },
   "outputs": [],
   "source": [
    "\n",
    "OU_model <- rspde.matern(mesh = mesh,parameterization=\"matern\")\n",
    "formula_OU <- logreturn ~ -1 + Intercept(1)+ field(times, model = OU_model)\n",
    "fit<-bru(formula_OU, family=\"stochvolln\", data = dataset)\n",
    "result_fit<- rspde.result(fit, \"field\", OU_model, parameterization=\"matern\")\n",
    "print(fit$mlik[2])\n",
    "summary(result_fit)\n",
    "\n",
    "flog.info(\"Model: lognormal\",name=\"log\")\n",
    "summary_df <- as.data.frame(summary(result_fit))\n",
    "flog.info(paste(\"likelihood: \", fit$mlik[2]),name=\"log\")\n",
    "flog.info(\n",
    "  paste0(\"\\n\", paste(capture.output(print(summary_df)), collapse = \"\\n\")),\n",
    "  name = \"log\"\n",
    ")\n"
   ]
  },
  {
   "cell_type": "code",
   "execution_count": null,
   "id": "49adfc24",
   "metadata": {
    "vscode": {
     "languageId": "r"
    }
   },
   "outputs": [],
   "source": [
    "rspde_model1 <- rspde.matern(mesh = mesh,nu.upper.bound=1)\n",
    "\n",
    "rspde_model2 <- rspde.matern(mesh = mesh,nu.upper.bound=2)\n",
    "formula <- logreturn ~ -1 + Intercept(1) + rough(times, model = rspde_model1) + smooth(times, model = rspde_model2)+f(times,model=\"iid\")\n",
    "\n",
    "fit <- bru(formula, family=\"stochvol\", data = dataset)\n",
    "result_fit1<- rspde.result(fit, \"rough\", rspde_model1, parameterization=\"matern\")\n",
    "result_fit2<- rspde.result(fit, \"smooth\", rspde_model2, parameterization=\"matern\")\n",
    "print(fit$mlik[2])\n",
    "rbind(summary(result_fit1),summary(result_fit2))\n",
    "\n",
    "summary_df <- rbind(summary(result_fit1),summary(result_fit2))\n",
    "flog.info(\"Model: rough + smooth\",name=\"log\")\n",
    "flog.info(paste(\"likelihood: \", fit$mlik[2]),name=\"log\")\n",
    "flog.info(\n",
    "  paste0(\"\\n\", paste(capture.output(print(summary_df)), collapse = \"\\n\")),\n",
    "  name = \"log\"\n",
    ")\n"
   ]
  },
  {
   "cell_type": "code",
   "execution_count": null,
   "id": "d834b442",
   "metadata": {
    "vscode": {
     "languageId": "r"
    }
   },
   "outputs": [],
   "source": [
    "summary_df <- rbind(summary(result_fit1),summary(result_fit2))\n",
    "flog.info(\"Model: rough + smooth\",name=\"log\")\n",
    "flog.info(paste(\"likelihood: \", fit$mlik[2]),name=\"log\")\n",
    "flog.info(\n",
    "  paste0(\"\\n\", paste(capture.output(print(summary_df)), collapse = \"\\n\")),\n",
    "  name = \"log\"\n",
    ")\n"
   ]
  },
  {
   "cell_type": "code",
   "execution_count": null,
   "id": "6191ade3",
   "metadata": {
    "vscode": {
     "languageId": "r"
    }
   },
   "outputs": [],
   "source": []
  }
 ],
 "metadata": {
  "kernelspec": {
   "display_name": "R",
   "language": "R",
   "name": "ir"
  },
  "language_info": {
   "codemirror_mode": "r",
   "file_extension": ".r",
   "mimetype": "text/x-r-source",
   "name": "R",
   "pygments_lexer": "r",
   "version": "4.4.3"
  }
 },
 "nbformat": 4,
 "nbformat_minor": 5
}
