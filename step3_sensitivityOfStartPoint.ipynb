{
 "cells": [
  {
   "cell_type": "code",
   "execution_count": 2,
   "id": "6642e669",
   "metadata": {
    "vscode": {
     "languageId": "r"
    }
   },
   "outputs": [
    {
     "name": "stdout",
     "output_type": "stream",
     "text": [
      "INFO [2025-08-06 19:03:08] start experiment\n",
      "INFO [2025-08-06 19:03:08] use_saudi: FALSE\n"
     ]
    },
    {
     "name": "stdout",
     "output_type": "stream",
     "text": [
      "INFO [2025-08-06 19:03:08] use seed: 123\n",
      "INFO [2025-08-06 19:03:08] number of experiments: 30\n"
     ]
    },
    {
     "name": "stderr",
     "output_type": "stream",
     "text": [
      "\u001b[1mRows: \u001b[22m\u001b[34m1595\u001b[39m \u001b[1mColumns: \u001b[22m\u001b[34m3\u001b[39m\n",
      "\u001b[36m──\u001b[39m \u001b[1mColumn specification\u001b[22m \u001b[36m────────────────────────────────────────────────────────\u001b[39m\n",
      "\u001b[1mDelimiter:\u001b[22m \",\"\n",
      "\u001b[31mchr\u001b[39m (1): ins_id\n",
      "\u001b[32mdbl\u001b[39m (2): Date, close\n",
      "\n",
      "\u001b[36mℹ\u001b[39m Use `spec()` to retrieve the full column specification for this data.\n",
      "\u001b[36mℹ\u001b[39m Specify the column types or set `show_col_types = FALSE` to quiet this message.\n"
     ]
    }
   ],
   "source": [
    "source(\"helper.R\")\n",
    "\n",
    "max_expid<-get_max(\"Log\")+1\n",
    "exp_name<-\"sensitivityOfStartPoint\"\n",
    "log_dir<-glue(\"Log/{max_expid}.{exp_name}\")\n",
    "logger=get_logger(log_dir, log_name = \"log\", debug = TRUE)\n",
    "futile.logger::flog.info(\"start experiment\", name = \"log\")\n",
    "\n",
    "## get logger\n",
    "\n",
    "use_saudi<-FALSE\n",
    "seed_random<-123\n",
    "n=30\n",
    "\n",
    "futile.logger::flog.info(glue(\"use_saudi: {use_saudi}\"), name = \"log\")\n",
    "\n",
    "set.seed(seed_random)\n",
    "\n",
    "futile.logger::flog.info(glue(\"use seed: {seed_random}\"), name = \"log\")\n",
    "\n",
    "futile.logger::flog.info(glue(\"number of experiments: {n}\"), name = \"log\")\n",
    "\n",
    "if(!use_saudi){\n",
    "\n",
    "    data_ori <- as.data.frame(read_csv(\"data/IFclose.csv\"))\n",
    "    logpt<-log(data_ori$close)\n",
    "    logreturn <-logpt[2:length(logpt)]-logpt[1:(length(logpt)-1)]\n",
    "    date <- as.Date(as.character(data_ori$Date[1:(length(data_ori$Date)-1)]), format = \"%Y%m%d\")\n",
    "    date_timeindex<-as.numeric(as.POSIXct(date)) \n",
    "    date_timeindex <- (date_timeindex - min(date_timeindex))/86400 ## 1 day = 86400 seconds\n",
    "    mesh <- fm_mesh_1d(date_timeindex)\n",
    "    data = list(logreturn = logreturn, times = date_timeindex)\n",
    "}else{\n",
    "    data_ori <- as.data.frame(read_csv(\"data/1180_vol.csv\"))\n",
    "    logpt<-log(data_ori$Close)\n",
    "    logreturn <-logpt[2:length(logpt)]-logpt[1:(length(logpt)-1)] ## 1 day = 86400 seconds\n",
    "    date <- data_ori$Date[1:(length(data_ori$Date)-1)]\n",
    "    date_timeindex<-as.numeric(as.POSIXct(date)) \n",
    "    date_timeindex <- (date_timeindex - min(date_timeindex))/86400\n",
    "    mesh <- fm_mesh_1d(date_timeindex)\n",
    "    data = list(logreturn = logreturn, times = date_timeindex)\n",
    "}\n",
    "\n"
   ]
  },
  {
   "cell_type": "code",
   "execution_count": null,
   "id": "afff5967",
   "metadata": {
    "vscode": {
     "languageId": "r"
    }
   },
   "outputs": [
    {
     "name": "stdout",
     "output_type": "stream",
     "text": [
      "INFO [2025-08-06 19:03:08] Start fitting models:stochvol\n",
      "INFO [2025-08-06 19:03:08] 🔁 Fitting model 1 of 30 ...\n"
     ]
    },
    {
     "name": "stderr",
     "output_type": "stream",
     "text": [
      "Warning message in bru_log_warn(paste0(\"Non data-frame list-like data supplied; \", :\n",
      "“Non data-frame list-like data supplied; guessing allow_combine=TRUE.\n",
      "  Specify allow_combine explicitly to avoid this warning.”\n",
      "Warning message in rspde.result(fit, \"field\", OU_model, parameterization = \"matern\"):\n",
      "“the mean or mode of nu is very close to nu.upper.bound, please consider increasing nu.upper.bound, and refitting the model.”\n"
     ]
    },
    {
     "name": "stdout",
     "output_type": "stream",
     "text": [
      "INFO [2025-08-06 19:03:18] 🔁 Fitting model 2 of 30 ...\n"
     ]
    },
    {
     "name": "stderr",
     "output_type": "stream",
     "text": [
      "Warning message in bru_log_warn(paste0(\"Non data-frame list-like data supplied; \", :\n",
      "“Non data-frame list-like data supplied; guessing allow_combine=TRUE.\n",
      "  Specify allow_combine explicitly to avoid this warning.”\n",
      "Warning message in rspde.result(fit, \"field\", OU_model, parameterization = \"matern\"):\n",
      "“the mean or mode of nu is very close to nu.upper.bound, please consider increasing nu.upper.bound, and refitting the model.”\n"
     ]
    },
    {
     "name": "stdout",
     "output_type": "stream",
     "text": [
      "INFO [2025-08-06 19:03:27] 🔁 Fitting model 3 of 30 ...\n"
     ]
    },
    {
     "name": "stderr",
     "output_type": "stream",
     "text": [
      "Warning message in bru_log_warn(paste0(\"Non data-frame list-like data supplied; \", :\n",
      "“Non data-frame list-like data supplied; guessing allow_combine=TRUE.\n",
      "  Specify allow_combine explicitly to avoid this warning.”\n",
      "Warning message in rspde.result(fit, \"field\", OU_model, parameterization = \"matern\"):\n",
      "“the mean or mode of nu is very close to nu.upper.bound, please consider increasing nu.upper.bound, and refitting the model.”\n"
     ]
    },
    {
     "name": "stdout",
     "output_type": "stream",
     "text": [
      "INFO [2025-08-06 19:03:35] 🔁 Fitting model 4 of 30 ...\n"
     ]
    },
    {
     "name": "stderr",
     "output_type": "stream",
     "text": [
      "Warning message in bru_log_warn(paste0(\"Non data-frame list-like data supplied; \", :\n",
      "“Non data-frame list-like data supplied; guessing allow_combine=TRUE.\n",
      "  Specify allow_combine explicitly to avoid this warning.”\n",
      "Warning message in rspde.result(fit, \"field\", OU_model, parameterization = \"matern\"):\n",
      "“the mean or mode of nu is very close to nu.upper.bound, please consider increasing nu.upper.bound, and refitting the model.”\n"
     ]
    },
    {
     "name": "stdout",
     "output_type": "stream",
     "text": [
      "INFO [2025-08-06 19:03:43] 🔁 Fitting model 5 of 30 ...\n"
     ]
    },
    {
     "name": "stderr",
     "output_type": "stream",
     "text": [
      "Warning message in bru_log_warn(paste0(\"Non data-frame list-like data supplied; \", :\n",
      "“Non data-frame list-like data supplied; guessing allow_combine=TRUE.\n",
      "  Specify allow_combine explicitly to avoid this warning.”\n",
      "Warning message in rspde.result(fit, \"field\", OU_model, parameterization = \"matern\"):\n",
      "“the mean or mode of nu is very close to nu.upper.bound, please consider increasing nu.upper.bound, and refitting the model.”\n"
     ]
    },
    {
     "name": "stdout",
     "output_type": "stream",
     "text": [
      "INFO [2025-08-06 19:03:52] 🔁 Fitting model 6 of 30 ...\n"
     ]
    },
    {
     "name": "stderr",
     "output_type": "stream",
     "text": [
      "Warning message in bru_log_warn(paste0(\"Non data-frame list-like data supplied; \", :\n",
      "“Non data-frame list-like data supplied; guessing allow_combine=TRUE.\n",
      "  Specify allow_combine explicitly to avoid this warning.”\n",
      "Warning message in rspde.result(fit, \"field\", OU_model, parameterization = \"matern\"):\n",
      "“the mean or mode of nu is very close to nu.upper.bound, please consider increasing nu.upper.bound, and refitting the model.”\n"
     ]
    },
    {
     "name": "stdout",
     "output_type": "stream",
     "text": [
      "INFO [2025-08-06 19:04:07] 🔁 Fitting model 7 of 30 ...\n"
     ]
    },
    {
     "name": "stderr",
     "output_type": "stream",
     "text": [
      "Warning message in bru_log_warn(paste0(\"Non data-frame list-like data supplied; \", :\n",
      "“Non data-frame list-like data supplied; guessing allow_combine=TRUE.\n",
      "  Specify allow_combine explicitly to avoid this warning.”\n",
      "Warning message in rspde.result(fit, \"field\", OU_model, parameterization = \"matern\"):\n",
      "“the mean or mode of nu is very close to nu.upper.bound, please consider increasing nu.upper.bound, and refitting the model.”\n"
     ]
    },
    {
     "name": "stdout",
     "output_type": "stream",
     "text": [
      "INFO [2025-08-06 19:04:20] 🔁 Fitting model 8 of 30 ...\n"
     ]
    },
    {
     "name": "stderr",
     "output_type": "stream",
     "text": [
      "Warning message in bru_log_warn(paste0(\"Non data-frame list-like data supplied; \", :\n",
      "“Non data-frame list-like data supplied; guessing allow_combine=TRUE.\n",
      "  Specify allow_combine explicitly to avoid this warning.”\n",
      "Warning message in rspde.result(fit, \"field\", OU_model, parameterization = \"matern\"):\n",
      "“the mean or mode of nu is very close to nu.upper.bound, please consider increasing nu.upper.bound, and refitting the model.”\n"
     ]
    },
    {
     "name": "stdout",
     "output_type": "stream",
     "text": [
      "INFO [2025-08-06 19:04:25] 🔁 Fitting model 9 of 30 ...\n"
     ]
    },
    {
     "name": "stderr",
     "output_type": "stream",
     "text": [
      "Warning message in bru_log_warn(paste0(\"Non data-frame list-like data supplied; \", :\n",
      "“Non data-frame list-like data supplied; guessing allow_combine=TRUE.\n",
      "  Specify allow_combine explicitly to avoid this warning.”\n",
      "Warning message in rspde.result(fit, \"field\", OU_model, parameterization = \"matern\"):\n",
      "“the mean or mode of nu is very close to nu.upper.bound, please consider increasing nu.upper.bound, and refitting the model.”\n"
     ]
    },
    {
     "name": "stdout",
     "output_type": "stream",
     "text": [
      "INFO [2025-08-06 19:04:33] 🔁 Fitting model 10 of 30 ...\n"
     ]
    },
    {
     "name": "stderr",
     "output_type": "stream",
     "text": [
      "Warning message in bru_log_warn(paste0(\"Non data-frame list-like data supplied; \", :\n",
      "“Non data-frame list-like data supplied; guessing allow_combine=TRUE.\n",
      "  Specify allow_combine explicitly to avoid this warning.”\n",
      "Warning message in rspde.result(fit, \"field\", OU_model, parameterization = \"matern\"):\n",
      "“the mean or mode of nu is very close to nu.upper.bound, please consider increasing nu.upper.bound, and refitting the model.”\n"
     ]
    },
    {
     "name": "stdout",
     "output_type": "stream",
     "text": [
      "INFO [2025-08-06 19:04:42] 🔁 Fitting model 11 of 30 ...\n"
     ]
    },
    {
     "name": "stderr",
     "output_type": "stream",
     "text": [
      "Warning message in bru_log_warn(paste0(\"Non data-frame list-like data supplied; \", :\n",
      "“Non data-frame list-like data supplied; guessing allow_combine=TRUE.\n",
      "  Specify allow_combine explicitly to avoid this warning.”\n",
      "Warning message in rspde.result(fit, \"field\", OU_model, parameterization = \"matern\"):\n",
      "“the mean or mode of nu is very close to nu.upper.bound, please consider increasing nu.upper.bound, and refitting the model.”\n"
     ]
    },
    {
     "name": "stdout",
     "output_type": "stream",
     "text": [
      "INFO [2025-08-06 19:04:57] 🔁 Fitting model 12 of 30 ...\n"
     ]
    },
    {
     "name": "stderr",
     "output_type": "stream",
     "text": [
      "Warning message in bru_log_warn(paste0(\"Non data-frame list-like data supplied; \", :\n",
      "“Non data-frame list-like data supplied; guessing allow_combine=TRUE.\n",
      "  Specify allow_combine explicitly to avoid this warning.”\n",
      "Warning message in rspde.result(fit, \"field\", OU_model, parameterization = \"matern\"):\n",
      "“the mean or mode of nu is very close to nu.upper.bound, please consider increasing nu.upper.bound, and refitting the model.”\n"
     ]
    },
    {
     "name": "stdout",
     "output_type": "stream",
     "text": [
      "INFO [2025-08-06 19:05:07] 🔁 Fitting model 13 of 30 ...\n"
     ]
    },
    {
     "name": "stderr",
     "output_type": "stream",
     "text": [
      "Warning message in bru_log_warn(paste0(\"Non data-frame list-like data supplied; \", :\n",
      "“Non data-frame list-like data supplied; guessing allow_combine=TRUE.\n",
      "  Specify allow_combine explicitly to avoid this warning.”\n",
      "Warning message in rspde.result(fit, \"field\", OU_model, parameterization = \"matern\"):\n",
      "“the mean or mode of nu is very close to nu.upper.bound, please consider increasing nu.upper.bound, and refitting the model.”\n"
     ]
    },
    {
     "name": "stdout",
     "output_type": "stream",
     "text": [
      "INFO [2025-08-06 19:05:16] 🔁 Fitting model 14 of 30 ...\n"
     ]
    },
    {
     "name": "stderr",
     "output_type": "stream",
     "text": [
      "Warning message in bru_log_warn(paste0(\"Non data-frame list-like data supplied; \", :\n",
      "“Non data-frame list-like data supplied; guessing allow_combine=TRUE.\n",
      "  Specify allow_combine explicitly to avoid this warning.”\n",
      "Warning message in rspde.result(fit, \"field\", OU_model, parameterization = \"matern\"):\n",
      "“the mean or mode of nu is very close to nu.upper.bound, please consider increasing nu.upper.bound, and refitting the model.”\n"
     ]
    },
    {
     "name": "stdout",
     "output_type": "stream",
     "text": [
      "INFO [2025-08-06 19:05:22] 🔁 Fitting model 15 of 30 ...\n"
     ]
    },
    {
     "name": "stderr",
     "output_type": "stream",
     "text": [
      "Warning message in bru_log_warn(paste0(\"Non data-frame list-like data supplied; \", :\n",
      "“Non data-frame list-like data supplied; guessing allow_combine=TRUE.\n",
      "  Specify allow_combine explicitly to avoid this warning.”\n",
      "Warning message in rspde.result(fit, \"field\", OU_model, parameterization = \"matern\"):\n",
      "“the mean or mode of nu is very close to nu.upper.bound, please consider increasing nu.upper.bound, and refitting the model.”\n"
     ]
    },
    {
     "name": "stdout",
     "output_type": "stream",
     "text": [
      "INFO [2025-08-06 19:05:35] 🔁 Fitting model 16 of 30 ...\n"
     ]
    },
    {
     "name": "stderr",
     "output_type": "stream",
     "text": [
      "Warning message in bru_log_warn(paste0(\"Non data-frame list-like data supplied; \", :\n",
      "“Non data-frame list-like data supplied; guessing allow_combine=TRUE.\n",
      "  Specify allow_combine explicitly to avoid this warning.”\n",
      "Warning message in rspde.result(fit, \"field\", OU_model, parameterization = \"matern\"):\n",
      "“the mean or mode of nu is very close to nu.upper.bound, please consider increasing nu.upper.bound, and refitting the model.”\n"
     ]
    },
    {
     "name": "stdout",
     "output_type": "stream",
     "text": [
      "INFO [2025-08-06 19:05:40] 🔁 Fitting model 17 of 30 ...\n"
     ]
    },
    {
     "name": "stderr",
     "output_type": "stream",
     "text": [
      "Warning message in bru_log_warn(paste0(\"Non data-frame list-like data supplied; \", :\n",
      "“Non data-frame list-like data supplied; guessing allow_combine=TRUE.\n",
      "  Specify allow_combine explicitly to avoid this warning.”\n",
      "Warning message in rspde.result(fit, \"field\", OU_model, parameterization = \"matern\"):\n",
      "“the mean or mode of nu is very close to nu.upper.bound, please consider increasing nu.upper.bound, and refitting the model.”\n"
     ]
    },
    {
     "name": "stdout",
     "output_type": "stream",
     "text": [
      "INFO [2025-08-06 19:05:46] 🔁 Fitting model 18 of 30 ...\n"
     ]
    },
    {
     "name": "stderr",
     "output_type": "stream",
     "text": [
      "Warning message in bru_log_warn(paste0(\"Non data-frame list-like data supplied; \", :\n",
      "“Non data-frame list-like data supplied; guessing allow_combine=TRUE.\n",
      "  Specify allow_combine explicitly to avoid this warning.”\n"
     ]
    },
    {
     "name": "stdout",
     "output_type": "stream",
     "text": [
      "INFO [2025-08-06 19:06:00] 🔁 Fitting model 19 of 30 ...\n"
     ]
    },
    {
     "name": "stderr",
     "output_type": "stream",
     "text": [
      "Warning message in bru_log_warn(paste0(\"Non data-frame list-like data supplied; \", :\n",
      "“Non data-frame list-like data supplied; guessing allow_combine=TRUE.\n",
      "  Specify allow_combine explicitly to avoid this warning.”\n",
      "Warning message in rspde.result(fit, \"field\", OU_model, parameterization = \"matern\"):\n",
      "“the mean or mode of nu is very close to nu.upper.bound, please consider increasing nu.upper.bound, and refitting the model.”\n"
     ]
    },
    {
     "name": "stdout",
     "output_type": "stream",
     "text": [
      "INFO [2025-08-06 19:06:10] 🔁 Fitting model 20 of 30 ...\n"
     ]
    },
    {
     "name": "stderr",
     "output_type": "stream",
     "text": [
      "Warning message in bru_log_warn(paste0(\"Non data-frame list-like data supplied; \", :\n",
      "“Non data-frame list-like data supplied; guessing allow_combine=TRUE.\n",
      "  Specify allow_combine explicitly to avoid this warning.”\n",
      "Warning message in rspde.result(fit, \"field\", OU_model, parameterization = \"matern\"):\n",
      "“the mean or mode of nu is very close to nu.upper.bound, please consider increasing nu.upper.bound, and refitting the model.”\n"
     ]
    },
    {
     "name": "stdout",
     "output_type": "stream",
     "text": [
      "INFO [2025-08-06 19:06:18] 🔁 Fitting model 21 of 30 ...\n"
     ]
    },
    {
     "name": "stderr",
     "output_type": "stream",
     "text": [
      "Warning message in bru_log_warn(paste0(\"Non data-frame list-like data supplied; \", :\n",
      "“Non data-frame list-like data supplied; guessing allow_combine=TRUE.\n",
      "  Specify allow_combine explicitly to avoid this warning.”\n",
      "Warning message in rspde.result(fit, \"field\", OU_model, parameterization = \"matern\"):\n",
      "“the mean or mode of nu is very close to nu.upper.bound, please consider increasing nu.upper.bound, and refitting the model.”\n"
     ]
    },
    {
     "name": "stdout",
     "output_type": "stream",
     "text": [
      "INFO [2025-08-06 19:06:26] 🔁 Fitting model 22 of 30 ...\n"
     ]
    },
    {
     "name": "stderr",
     "output_type": "stream",
     "text": [
      "Warning message in bru_log_warn(paste0(\"Non data-frame list-like data supplied; \", :\n",
      "“Non data-frame list-like data supplied; guessing allow_combine=TRUE.\n",
      "  Specify allow_combine explicitly to avoid this warning.”\n",
      "Warning message in rspde.result(fit, \"field\", OU_model, parameterization = \"matern\"):\n",
      "“the mean or mode of nu is very close to nu.upper.bound, please consider increasing nu.upper.bound, and refitting the model.”\n"
     ]
    },
    {
     "name": "stdout",
     "output_type": "stream",
     "text": [
      "INFO [2025-08-06 19:06:32] 🔁 Fitting model 23 of 30 ...\n"
     ]
    },
    {
     "name": "stderr",
     "output_type": "stream",
     "text": [
      "Warning message in bru_log_warn(paste0(\"Non data-frame list-like data supplied; \", :\n",
      "“Non data-frame list-like data supplied; guessing allow_combine=TRUE.\n",
      "  Specify allow_combine explicitly to avoid this warning.”\n",
      "Warning message in rspde.result(fit, \"field\", OU_model, parameterization = \"matern\"):\n",
      "“the mean or mode of nu is very close to nu.upper.bound, please consider increasing nu.upper.bound, and refitting the model.”\n"
     ]
    },
    {
     "name": "stdout",
     "output_type": "stream",
     "text": [
      "INFO [2025-08-06 19:06:42] 🔁 Fitting model 24 of 30 ...\n"
     ]
    },
    {
     "name": "stderr",
     "output_type": "stream",
     "text": [
      "Warning message in bru_log_warn(paste0(\"Non data-frame list-like data supplied; \", :\n",
      "“Non data-frame list-like data supplied; guessing allow_combine=TRUE.\n",
      "  Specify allow_combine explicitly to avoid this warning.”\n",
      "Warning message in rspde.result(fit, \"field\", OU_model, parameterization = \"matern\"):\n",
      "“the mean or mode of nu is very close to nu.upper.bound, please consider increasing nu.upper.bound, and refitting the model.”\n"
     ]
    },
    {
     "name": "stdout",
     "output_type": "stream",
     "text": [
      "INFO [2025-08-06 19:06:54] 🔁 Fitting model 25 of 30 ...\n"
     ]
    },
    {
     "name": "stderr",
     "output_type": "stream",
     "text": [
      "Warning message in bru_log_warn(paste0(\"Non data-frame list-like data supplied; \", :\n",
      "“Non data-frame list-like data supplied; guessing allow_combine=TRUE.\n",
      "  Specify allow_combine explicitly to avoid this warning.”\n",
      "Warning message in rspde.result(fit, \"field\", OU_model, parameterization = \"matern\"):\n",
      "“the mean or mode of nu is very close to nu.upper.bound, please consider increasing nu.upper.bound, and refitting the model.”\n"
     ]
    },
    {
     "name": "stdout",
     "output_type": "stream",
     "text": [
      "INFO [2025-08-06 19:06:59] 🔁 Fitting model 26 of 30 ...\n"
     ]
    },
    {
     "name": "stderr",
     "output_type": "stream",
     "text": [
      "Warning message in bru_log_warn(paste0(\"Non data-frame list-like data supplied; \", :\n",
      "“Non data-frame list-like data supplied; guessing allow_combine=TRUE.\n",
      "  Specify allow_combine explicitly to avoid this warning.”\n",
      "Warning message in rspde.result(fit, \"field\", OU_model, parameterization = \"matern\"):\n",
      "“the mean or mode of nu is very close to nu.upper.bound, please consider increasing nu.upper.bound, and refitting the model.”\n"
     ]
    },
    {
     "name": "stdout",
     "output_type": "stream",
     "text": [
      "INFO [2025-08-06 19:07:09] 🔁 Fitting model 27 of 30 ...\n"
     ]
    },
    {
     "name": "stderr",
     "output_type": "stream",
     "text": [
      "Warning message in bru_log_warn(paste0(\"Non data-frame list-like data supplied; \", :\n",
      "“Non data-frame list-like data supplied; guessing allow_combine=TRUE.\n",
      "  Specify allow_combine explicitly to avoid this warning.”\n",
      "Warning message in rspde.result(fit, \"field\", OU_model, parameterization = \"matern\"):\n",
      "“the mean or mode of nu is very close to nu.upper.bound, please consider increasing nu.upper.bound, and refitting the model.”\n"
     ]
    },
    {
     "name": "stdout",
     "output_type": "stream",
     "text": [
      "INFO [2025-08-06 19:07:24] 🔁 Fitting model 28 of 30 ...\n"
     ]
    },
    {
     "name": "stderr",
     "output_type": "stream",
     "text": [
      "Warning message in bru_log_warn(paste0(\"Non data-frame list-like data supplied; \", :\n",
      "“Non data-frame list-like data supplied; guessing allow_combine=TRUE.\n",
      "  Specify allow_combine explicitly to avoid this warning.”\n",
      "Warning message in rspde.result(fit, \"field\", OU_model, parameterization = \"matern\"):\n",
      "“the mean or mode of nu is very close to nu.upper.bound, please consider increasing nu.upper.bound, and refitting the model.”\n"
     ]
    },
    {
     "name": "stdout",
     "output_type": "stream",
     "text": [
      "INFO [2025-08-06 19:07:37] 🔁 Fitting model 29 of 30 ...\n"
     ]
    },
    {
     "name": "stderr",
     "output_type": "stream",
     "text": [
      "Warning message in bru_log_warn(paste0(\"Non data-frame list-like data supplied; \", :\n",
      "“Non data-frame list-like data supplied; guessing allow_combine=TRUE.\n",
      "  Specify allow_combine explicitly to avoid this warning.”\n",
      "Warning message in rspde.result(fit, \"field\", OU_model, parameterization = \"matern\"):\n",
      "“the mean or mode of nu is very close to nu.upper.bound, please consider increasing nu.upper.bound, and refitting the model.”\n"
     ]
    },
    {
     "name": "stdout",
     "output_type": "stream",
     "text": [
      "INFO [2025-08-06 19:07:46] 🔁 Fitting model 30 of 30 ...\n"
     ]
    },
    {
     "name": "stderr",
     "output_type": "stream",
     "text": [
      "Warning message in bru_log_warn(paste0(\"Non data-frame list-like data supplied; \", :\n",
      "“Non data-frame list-like data supplied; guessing allow_combine=TRUE.\n",
      "  Specify allow_combine explicitly to avoid this warning.”\n",
      "Warning message in rspde.result(fit, \"field\", OU_model, parameterization = \"matern\"):\n",
      "“the mean or mode of nu is very close to nu.upper.bound, please consider increasing nu.upper.bound, and refitting the model.”\n"
     ]
    },
    {
     "name": "stdout",
     "output_type": "stream",
     "text": [
      "INFO [2025-08-06 19:08:01] Start fitting models:stochvol.t\n",
      "INFO [2025-08-06 19:08:01] 🔁 Fitting model 1 of 30 ...\n"
     ]
    },
    {
     "name": "stderr",
     "output_type": "stream",
     "text": [
      "Warning message in bru_log_warn(paste0(\"Non data-frame list-like data supplied; \", :\n",
      "“Non data-frame list-like data supplied; guessing allow_combine=TRUE.\n",
      "  Specify allow_combine explicitly to avoid this warning.”\n",
      "Warning message in rspde.result(fit, \"field\", OU_model, parameterization = \"matern\"):\n",
      "“the mean or mode of nu is very close to nu.upper.bound, please consider increasing nu.upper.bound, and refitting the model.”\n"
     ]
    },
    {
     "name": "stdout",
     "output_type": "stream",
     "text": [
      "INFO [2025-08-06 19:08:11] 🔁 Fitting model 2 of 30 ...\n"
     ]
    },
    {
     "name": "stderr",
     "output_type": "stream",
     "text": [
      "Warning message in bru_log_warn(paste0(\"Non data-frame list-like data supplied; \", :\n",
      "“Non data-frame list-like data supplied; guessing allow_combine=TRUE.\n",
      "  Specify allow_combine explicitly to avoid this warning.”\n"
     ]
    }
   ],
   "source": [
    "\n",
    "\n",
    "params <- data.frame(\n",
    "  rspde.order = sample(2:6, n, replace = TRUE),\n",
    "  prior.range.nominal = runif(n, 5, 300),\n",
    "  prior.std.dev.nominal = runif(n, 0.3, 1.7)\n",
    ")\n",
    "\n",
    "\n",
    "\n",
    "\n",
    "# \n",
    "\n",
    "for(model_family in c(\"stochvol\",\"stochvol.t\",\"stochvol.nig\")){\n",
    "  results_list <- list()\n",
    "  mlik_vec <- numeric(n)\n",
    "\n",
    "\n",
    "  futile.logger::flog.info(glue(\"Start fitting models:{model_family}\"), name = \"log\")\n",
    "  for (i in 1:n) {\n",
    "    futile.logger::flog.info(glue(\"🔁 Fitting model {i} of {n} ...\"), name = \"log\")\n",
    "    \n",
    "    # 提取参数\n",
    "    rspde.order <- params$rspde.order[i]\n",
    "    prior.range.nominal <- params$prior.range.nominal[i]\n",
    "    prior.std.dev.nominal <- params$prior.std.dev.nominal[i]\n",
    "    \n",
    "    # 构建模型\n",
    "    OU_model <- rspde.matern(\n",
    "      mesh = mesh,\n",
    "      parameterization = \"matern\",\n",
    "      rspde.order = rspde.order,\n",
    "      prior.range.nominal = prior.range.nominal,\n",
    "      prior.std.dev.nominal = prior.std.dev.nominal\n",
    "    )\n",
    "    \n",
    "    formula_OU <- logreturn ~ field(times, model = OU_model)\n",
    "    \n",
    "    fit <- tryCatch(\n",
    "      bru(\n",
    "        formula_OU,\n",
    "        family = \"stochvol.t\",\n",
    "        data = data\n",
    "      ),\n",
    "      error = function(e) {\n",
    "        futile.logger::flog.warn(glue(\"⚠️ Fit failed at i = {i} : {e$message}\"), name = \"log\")\n",
    "        return(NULL)\n",
    "      }\n",
    "    )\n",
    "    \n",
    "    # 如果成功拟合\n",
    "    if (!is.null(fit)) {\n",
    "      result_fit <- rspde.result(fit, \"field\", OU_model, parameterization = \"matern\")\n",
    "      mlik_vec[i] <- fit$mlik[2]  # marginal log-likelihood\n",
    "      results_list[[i]] <- list(\n",
    "        param = params[i, ],\n",
    "        mlik = fit$mlik[2],\n",
    "        result = result_fit\n",
    "      )\n",
    "    } else {\n",
    "      mlik_vec[i] <- NA\n",
    "      results_list[[i]] <- list(param = params[i, ], mlik = NA, result = NULL)\n",
    "    }\n",
    "  }\n",
    "  sorted_idx <- order(mlik_vec, decreasing = TRUE)\n",
    "\n",
    "\n",
    "  results_list_sorted <- results_list[sorted_idx]\n",
    "\n",
    "\n",
    "  table_out <- data.frame(\n",
    "    param = character(),\n",
    "    std.dev = numeric(),\n",
    "    range = numeric(),\n",
    "    nu = numeric(),\n",
    "    likelihood = numeric(),\n",
    "    stringsAsFactors = FALSE\n",
    "  )\n",
    "  results_list_sorted <- results_list[sorted_idx]\n",
    "  for (i in seq_along(results_list_sorted)) {\n",
    "    res <- results_list_sorted[[i]]\n",
    "    \n",
    "    if (is.null(res$result)) next \n",
    "    \n",
    "    param_str <- with(res$param, glue::glue(\"({rspde.order}/{round(prior.range.nominal, 4)}/{round(prior.std.dev.nominal, 4)})\"))\n",
    "    \n",
    "    summary_res <- summary(res$result)\n",
    "    \n",
    "    table_out[i, ] <- list(\n",
    "      param = param_str,\n",
    "      std.dev = round(summary_res$mean[1], 3),\n",
    "      range   = round(summary_res$mean[2], 3),\n",
    "      nu      = round(summary_res$mean[3], 3),\n",
    "      likelihood = round(res$mlik, 3)\n",
    "    )\n",
    "  }\n",
    "\n",
    "  table_out <- na.omit(table_out)\n",
    "\n",
    "\n",
    "  table_string<-knitr::kable(\n",
    "    table_out,\n",
    "    format = \"latex\",\n",
    "    booktabs = TRUE,\n",
    "    linesep = \"\"\n",
    "  )\n",
    "\n",
    "  file_name <- glue(\"{log_dir}/model_with_{model_family}.tex\")\n",
    "  writeLines(table_string,  file_name)\n",
    "\n",
    "}"
   ]
  },
  {
   "cell_type": "code",
   "execution_count": null,
   "id": "48b0e35a",
   "metadata": {
    "vscode": {
     "languageId": "r"
    }
   },
   "outputs": [],
   "source": []
  }
 ],
 "metadata": {
  "kernelspec": {
   "display_name": "R",
   "language": "R",
   "name": "ir"
  },
  "language_info": {
   "codemirror_mode": "r",
   "file_extension": ".r",
   "mimetype": "text/x-r-source",
   "name": "R",
   "pygments_lexer": "r",
   "version": "4.5.0"
  }
 },
 "nbformat": 4,
 "nbformat_minor": 5
}
