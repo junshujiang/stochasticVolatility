{
 "cells": [
  {
   "cell_type": "code",
   "execution_count": 2,
   "id": "1d7acd1e",
   "metadata": {
    "vscode": {
     "languageId": "r"
    }
   },
   "outputs": [
    {
     "name": "stdout",
     "output_type": "stream",
     "text": [
      "INFO [2025-09-10 21:40:25] start experiment\n",
      "INFO [2025-09-10 21:40:25] risk-free rate: 0.02\n"
     ]
    },
    {
     "name": "stdout",
     "output_type": "stream",
     "text": [
      "INFO [2025-09-10 21:40:25] use seed: 123\n",
      "INFO [2025-09-10 21:40:25] number of experiments: 30\n"
     ]
    },
    {
     "name": "stderr",
     "output_type": "stream",
     "text": [
      "\u001b[1mRows: \u001b[22m\u001b[34m1595\u001b[39m \u001b[1mColumns: \u001b[22m\u001b[34m3\u001b[39m\n",
      "\u001b[36m──\u001b[39m \u001b[1mColumn specification\u001b[22m \u001b[36m────────────────────────────────────────────────────────\u001b[39m\n",
      "\u001b[1mDelimiter:\u001b[22m \",\"\n",
      "\u001b[31mchr\u001b[39m  (1): ins_id\n",
      "\u001b[32mdbl\u001b[39m  (1): close\n",
      "\u001b[34mdate\u001b[39m (1): date\n",
      "\n",
      "\u001b[36mℹ\u001b[39m Use `spec()` to retrieve the full column specification for this data.\n",
      "\u001b[36mℹ\u001b[39m Specify the column types or set `show_col_types = FALSE` to quiet this message.\n"
     ]
    }
   ],
   "source": [
    "source(\"helper.R\")\n",
    "library(lubridate)\n",
    "max_expid<-get_max(\"Log\")+1\n",
    "dataset_name=\"China\"\n",
    "\n",
    "family_name=\"stochvol\"\n",
    "model_name=\"matern\"\n",
    "exp_name<-glue(\"Pricing_{dataset_name}_Model_{family_name}_{model_name}\")\n",
    "log_dir<-glue(\"Log/{max_expid}.{exp_name}\")\n",
    "logger=get_logger(log_dir, log_name = \"log\", debug = TRUE)\n",
    "futile.logger::flog.info(\"start experiment\", name = \"log\")\n",
    "\n",
    "## get logger\n",
    "\n",
    "seed_random<-123\n",
    "n=30\n",
    "risk_free_rate<-0.02\n",
    "\n",
    "future_days_needed_for_pricing<-31\n",
    "futile.logger::flog.info(glue(\"risk-free rate: {risk_free_rate}\"), name = \"log\")\n",
    "set.seed(seed_random)\n",
    "\n",
    "futile.logger::flog.info(glue(\"use seed: {seed_random}\"), name = \"log\")\n",
    "\n",
    "futile.logger::flog.info(glue(\"number of experiments: {n}\"), name = \"log\")\n",
    "if (dataset_name==\"China\"){\n",
    "dataset <- load_data(\"data/IFclose.csv\")\n",
    "\n",
    "}else if (dataset_name==\"Saudi\"){\n",
    "dataset <- load_data(\"data/1180_vol.csv\")\n",
    "\n",
    "}else if (dataset_name==\"SPY\"){\n",
    "\n",
    "dataset <- load_data(\"data/SPY.csv\")\n",
    "\n",
    "}else{\n",
    "\n",
    "    stop(\"Error: Invalid data set\")\n",
    "}\n",
    "\n",
    "last_date <- max(dataset$date)\n",
    "all_days <- seq.Date(from = last_date + 1, by = \"day\", length.out = future_days_needed_for_pricing)\n",
    "biz_days <- all_days[!weekdays(all_days) %in% c(\"Saturday\", \"Sunday\")]\n",
    "index<-seq_len(future_days_needed_for_pricing)[!weekdays(all_days) %in% c(\"Saturday\", \"Sunday\")]\n",
    "\n"
   ]
  },
  {
   "cell_type": "code",
   "execution_count": 3,
   "id": "7f51605d",
   "metadata": {
    "vscode": {
     "languageId": "r"
    }
   },
   "outputs": [],
   "source": [
    "new_data <- data.frame(\n",
    "  logreturn = NA,\n",
    "  times = max(dataset$times) + index,\n",
    "  date = biz_days,\n",
    "  close = NA\n",
    ")\n",
    "\n",
    "dataset <- rbind(dataset, new_data)"
   ]
  },
  {
   "cell_type": "code",
   "execution_count": 4,
   "id": "c3ed80c3",
   "metadata": {
    "vscode": {
     "languageId": "r"
    }
   },
   "outputs": [],
   "source": [
    "\n",
    "\n",
    "## best fit stochvol IF,2/137.3123/0.5628\n",
    "## best fit stochvol SR,4/118.271/0.7802\n",
    "\n",
    "\n",
    "\n",
    "best.rspde.order<-2\n",
    "best.prior.range.nominal<-137.3123\n",
    "best.prior.std.dev.nominal<-0.5628\n",
    "\n",
    "\n",
    "\n",
    "\n",
    "\n",
    "\n",
    "\n",
    "\n",
    "\n",
    "## best fit IF,2/137.3123/0.5628"
   ]
  },
  {
   "cell_type": "code",
   "execution_count": 5,
   "id": "3ba45035",
   "metadata": {
    "vscode": {
     "languageId": "r"
    }
   },
   "outputs": [
    {
     "data": {
      "text/html": [
       "<table class=\"dataframe\">\n",
       "<caption>A data.frame: 3 × 6</caption>\n",
       "<thead>\n",
       "\t<tr><th></th><th scope=col>mean</th><th scope=col>sd</th><th scope=col>0.025quant</th><th scope=col>0.5quant</th><th scope=col>0.975quant</th><th scope=col>mode</th></tr>\n",
       "\t<tr><th></th><th scope=col>&lt;dbl&gt;</th><th scope=col>&lt;dbl&gt;</th><th scope=col>&lt;dbl&gt;</th><th scope=col>&lt;dbl&gt;</th><th scope=col>&lt;dbl&gt;</th><th scope=col>&lt;dbl&gt;</th></tr>\n",
       "</thead>\n",
       "<tbody>\n",
       "\t<tr><th scope=row>std.dev</th><td>0.0233999</td><td>0.00279145</td><td>0.018078</td><td>0.0233781</td><td>0.0289883</td><td>0.0234997</td></tr>\n",
       "\t<tr><th scope=row>range</th><td>0.2708880</td><td>0.02418890</td><td>0.220685</td><td>0.2724910</td><td>0.3140090</td><td>0.2800980</td></tr>\n",
       "\t<tr><th scope=row>nu</th><td>0.4731670</td><td>0.04467370</td><td>0.379324</td><td>0.4765130</td><td>0.5518060</td><td>0.4913450</td></tr>\n",
       "</tbody>\n",
       "</table>\n"
      ],
      "text/latex": [
       "A data.frame: 3 × 6\n",
       "\\begin{tabular}{r|llllll}\n",
       "  & mean & sd & 0.025quant & 0.5quant & 0.975quant & mode\\\\\n",
       "  & <dbl> & <dbl> & <dbl> & <dbl> & <dbl> & <dbl>\\\\\n",
       "\\hline\n",
       "\tstd.dev & 0.0233999 & 0.00279145 & 0.018078 & 0.0233781 & 0.0289883 & 0.0234997\\\\\n",
       "\trange & 0.2708880 & 0.02418890 & 0.220685 & 0.2724910 & 0.3140090 & 0.2800980\\\\\n",
       "\tnu & 0.4731670 & 0.04467370 & 0.379324 & 0.4765130 & 0.5518060 & 0.4913450\\\\\n",
       "\\end{tabular}\n"
      ],
      "text/markdown": [
       "\n",
       "A data.frame: 3 × 6\n",
       "\n",
       "| <!--/--> | mean &lt;dbl&gt; | sd &lt;dbl&gt; | 0.025quant &lt;dbl&gt; | 0.5quant &lt;dbl&gt; | 0.975quant &lt;dbl&gt; | mode &lt;dbl&gt; |\n",
       "|---|---|---|---|---|---|---|\n",
       "| std.dev | 0.0233999 | 0.00279145 | 0.018078 | 0.0233781 | 0.0289883 | 0.0234997 |\n",
       "| range | 0.2708880 | 0.02418890 | 0.220685 | 0.2724910 | 0.3140090 | 0.2800980 |\n",
       "| nu | 0.4731670 | 0.04467370 | 0.379324 | 0.4765130 | 0.5518060 | 0.4913450 |\n",
       "\n"
      ],
      "text/plain": [
       "        mean      sd         0.025quant 0.5quant  0.975quant mode     \n",
       "std.dev 0.0233999 0.00279145 0.018078   0.0233781 0.0289883  0.0234997\n",
       "range   0.2708880 0.02418890 0.220685   0.2724910 0.3140090  0.2800980\n",
       "nu      0.4731670 0.04467370 0.379324   0.4765130 0.5518060  0.4913450"
      ]
     },
     "metadata": {},
     "output_type": "display_data"
    }
   ],
   "source": [
    "if (model_name==\"matern\"){\n",
    "latent_model <- rspde.matern(\n",
    "    mesh = fm_mesh_1d(dataset$times),\n",
    "    parameterization = \"matern\",\n",
    "    rspde.order = best.rspde.order,\n",
    "    prior.range.nominal = best.prior.range.nominal,\n",
    "    prior.std.dev.nominal = best.prior.std.dev.nominal\n",
    "  )\n",
    "    \n",
    "    formula_latent <- logreturn ~ -1 + Intercept(1)+ field(times, model = latent_model)\n",
    "}\n",
    "    \n",
    "fit<-bru(formula_latent, family=family_name, data = dataset)\n",
    "result_fit<- rspde.result(fit, \"field\", latent_model, parameterization=\"matern\")\n",
    "summary(result_fit)"
   ]
  },
  {
   "cell_type": "code",
   "execution_count": 7,
   "id": "2bf76367",
   "metadata": {
    "vscode": {
     "languageId": "r"
    }
   },
   "outputs": [],
   "source": [
    "new_data <- dataset[is.na(dataset$logreturn), ]"
   ]
  },
  {
   "cell_type": "code",
   "execution_count": 8,
   "id": "bc48bc33",
   "metadata": {
    "vscode": {
     "languageId": "r"
    }
   },
   "outputs": [],
   "source": [
    "discount_factor<- (1+risk_free_rate)**(-dim(new_data)[1]/252)"
   ]
  },
  {
   "cell_type": "code",
   "execution_count": 9,
   "id": "37ea966e",
   "metadata": {
    "vscode": {
     "languageId": "r"
    }
   },
   "outputs": [],
   "source": [
    "delta_S_T<-generate(fit, new_data, ~ exp((field+Intercept)/2), n.samples = 100000)"
   ]
  },
  {
   "cell_type": "code",
   "execution_count": null,
   "id": "954bec5d",
   "metadata": {
    "vscode": {
     "languageId": "r"
    }
   },
   "outputs": [],
   "source": []
  },
  {
   "cell_type": "code",
   "execution_count": 12,
   "id": "be53b90d",
   "metadata": {
    "vscode": {
     "languageId": "r"
    }
   },
   "outputs": [],
   "source": [
    "\n",
    "\n",
    "if(family_name==\"stochvol.t\"){\n",
    "  dof <- fit$summary.hyperpar$mean[1]\n",
    "  random_return_rate<-simulate_T(dof,delta_S_T)\n",
    "}else if (family_name==\"stochvol\"){\n",
    "  random_return_rate<-matrix(\n",
    "        rnorm(length(delta_S_T),0,1),\n",
    "        nrow = nrow(delta_S_T),\n",
    "        ncol = ncol(delta_S_T)\n",
    "    )\n",
    "}"
   ]
  },
  {
   "cell_type": "code",
   "execution_count": 13,
   "id": "94dfc2e5",
   "metadata": {
    "vscode": {
     "languageId": "r"
    }
   },
   "outputs": [],
   "source": [
    "the_index_of_last_day<-sum(!is.na(dataset$logreturn))"
   ]
  },
  {
   "cell_type": "code",
   "execution_count": 14,
   "id": "a6213f19",
   "metadata": {
    "vscode": {
     "languageId": "r"
    }
   },
   "outputs": [],
   "source": [
    "return_rate_to_end<-exp(colSums(random_return_rate))\n",
    "simulated_final_prices <- dataset$close[the_index_of_last_day]* return_rate_to_end"
   ]
  },
  {
   "cell_type": "code",
   "execution_count": 15,
   "id": "3d6d86dc",
   "metadata": {
    "vscode": {
     "languageId": "r"
    }
   },
   "outputs": [
    {
     "data": {
      "image/png": "[encoded data removed]",
      "text/plain": [
       "Plot with title “Distribution of Final Prices”"
      ]
     },
     "metadata": {
      "image/png": {
       "height": 420,
       "width": 420
      }
     },
     "output_type": "display_data"
    }
   ],
   "source": [
    "par(bg = \"white\")\n",
    "hist(simulated_final_prices, \n",
    "     breaks = 50, col = \"skyblue\", border = \"white\",\n",
    "     main = \"Distribution of Final Prices\", xlab = \"Final Price\")"
   ]
  },
  {
   "cell_type": "code",
   "execution_count": null,
   "id": "a6543f88",
   "metadata": {
    "vscode": {
     "languageId": "r"
    }
   },
   "outputs": [
    {
     "name": "stderr",
     "output_type": "stream",
     "text": [
      "\u001b[1mRows: \u001b[22m\u001b[34m20\u001b[39m \u001b[1mColumns: \u001b[22m\u001b[34m2\u001b[39m\n",
      "\u001b[36m──\u001b[39m \u001b[1mColumn specification\u001b[22m \u001b[36m────────────────────────────────────────────────────────\u001b[39m\n",
      "\u001b[1mDelimiter:\u001b[22m \",\"\n",
      "\u001b[32mdbl\u001b[39m (2): price, strike\n"
     ]
    },
    {
     "name": "stderr",
     "output_type": "stream",
     "text": [
      "\n",
      "\u001b[36mℹ\u001b[39m Use `spec()` to retrieve the full column specification for this data.\n",
      "\u001b[36mℹ\u001b[39m Specify the column types or set `show_col_types = FALSE` to quiet this message.\n",
      "\u001b[1mRows: \u001b[22m\u001b[34m20\u001b[39m \u001b[1mColumns: \u001b[22m\u001b[34m2\u001b[39m\n",
      "\u001b[36m──\u001b[39m \u001b[1mColumn specification\u001b[22m \u001b[36m────────────────────────────────────────────────────────\u001b[39m\n",
      "\u001b[1mDelimiter:\u001b[22m \",\"\n",
      "\u001b[32mdbl\u001b[39m (2): price, strike\n",
      "\n",
      "\u001b[36mℹ\u001b[39m Use `spec()` to retrieve the full column specification for this data.\n",
      "\u001b[36mℹ\u001b[39m Specify the column types or set `show_col_types = FALSE` to quiet this message.\n"
     ]
    }
   ],
   "source": [
    "pricing_values<-list()\n",
    "\n",
    "\n",
    "\n",
    "call_records<-as.data.frame(read_csv(\"data/calls_records.csv\"))\n",
    "put_records<-as.data.frame(read_csv(\"data/put_records.csv\"))\n",
    "\n",
    "\n",
    "\n",
    "for (i in 1:nrow(call_records)){\n",
    "    strike<-call_records$strike[i]\n",
    "    call_price<-expected_payoff_for_European_option(simulated_final_prices, K = strike, type = \"call\", discount_factor = discount_factor)\n",
    "    pricing_values$call_records[i]<-call_price\n",
    "}\n",
    "\n",
    "for (i in 1:nrow(put_records)){\n",
    "    strike<-put_records$strike[i]\n",
    "    put_price<-expected_payoff_for_European_option(simulated_final_prices, K = strike, type = \"put\", discount_factor = discount_factor)\n",
    "    pricing_values$put_records[i]<-put_price\n",
    "}\n",
    "\n",
    "\n",
    "call_records$theoretical_price<-pricing_values$call_records\n",
    "put_records$theoretical_price<-pricing_values$put_records\n",
    "\n",
    "\n",
    "\n",
    "write.csv(call_records, glue(\"{log_dir}/calls_records_with_theoretical_price.csv\"))\n",
    "write.csv(put_records, glue(\"{log_dir}/put_records_with_theoretical_price.csv\"))\n",
    "\n",
    "\n",
    "\n",
    "\n"
   ]
  },
  {
   "cell_type": "code",
   "execution_count": 44,
   "id": "191f6468",
   "metadata": {
    "vscode": {
     "languageId": "r"
    }
   },
   "outputs": [
    {
     "data": {
      "text/html": [
       "<strong>agg_record_140303005:</strong> 2"
      ],
      "text/latex": [
       "\\textbf{agg\\textbackslash{}\\_record\\textbackslash{}\\_140303005:} 2"
      ],
      "text/markdown": [
       "**agg_record_140303005:** 2"
      ],
      "text/plain": [
       "agg_record_140303005 \n",
       "                   2 "
      ]
     },
     "metadata": {},
     "output_type": "display_data"
    }
   ],
   "source": [
    "find_market_col <- function(df) {\n",
    "  cand <- c(\"market_price\", \"price\", \"close\", \"mid\")\n",
    "  hit <- cand[cand %in% names(df)]\n",
    "  if (length(hit) == 0) stop(\"未找到市场价格列，请在 cand 中加入正确列名。已有列：\", paste(names(df), collapse=\", \"))\n",
    "  hit[1]\n",
    "}\n",
    "plot_prices <- function(df, title = \"Calls\", xlab = \"Strike\", ylab = \"Price\", underlying = NULL) {\n",
    "  # 选择市场价格列\n",
    "  mcol <- find_market_col(df)\n",
    "\n",
    "  # 仅保留需要列并去 NA\n",
    "  keep <- c(\"strike\", mcol, \"theoretical_price\")\n",
    "  df2 <- df[keep]\n",
    "  df2 <- df2[complete.cases(df2), ]\n",
    "\n",
    "  # 按 strike 排序\n",
    "  ord <- order(df2$strike)\n",
    "  x  <- df2$strike[ord]\n",
    "  yM <- df2[[mcol]][ord]              # 市场价格\n",
    "  yT <- df2$theoretical_price[ord]    # 理论价格\n",
    "\n",
    "  # 确定坐标范围\n",
    "  yr <- range(c(yM, yT), finite = TRUE)\n",
    "\n",
    "  # 画图（白底）\n",
    "  par(bg = \"white\")\n",
    "  plot(x, yM, type = \"l\", lwd = 2,\n",
    "       col = rgb(0,0,1,0.6),             # 半透明蓝色\n",
    "       xlab = xlab, ylab = ylab,\n",
    "       main = title, ylim = yr, cex.axis=1.2, cex.lab=1.2, cex.main=1.3)\n",
    "  lines(x, yT, lwd = 2, lty = 2,\n",
    "        col = rgb(1,0,0,0.6))            # 半透明红色\n",
    "\n",
    "  # 如果提供了 underlying，就画一条竖线\n",
    "  if (!is.null(underlying)) {\n",
    "    abline(v = underlying, col = \"black\", lty = 3, lwd = 2)\n",
    "  }\n",
    "\n",
    "  legend(\"topleft\",\n",
    "         legend = c(\"Market\", \"Theoretical\", if (!is.null(underlying)) \"Underlying\" else NULL),\n",
    "         lwd = c(2, 2, if (!is.null(underlying)) 2 else NULL),\n",
    "         lty = c(1, 2, if (!is.null(underlying)) 3 else NULL),\n",
    "         col = c(rgb(0,0,1,0.6), rgb(1,0,0,0.6), if (!is.null(underlying)) \"black\" else NULL),\n",
    "         bty = \"n\")\n",
    "}\n",
    "\n",
    "\n",
    "# --- 分两幅图显示：左边 Call，右边 Put ---\n",
    "png(glue( \"{log_dir}/calls_puts.png\"), width=2000, height=1000, res=200)  # 像素宽高\n",
    "op <- par(mfrow = c(1, 2), mar = c(4, 4, 3, 1), cex=1.2)\n",
    "plot_prices(call_records, title = \"Call: Market vs Theoretical\", xlab = \"Strike\", ylab = \"Price\",underlying=dataset$close[the_index_of_last_day])\n",
    "plot_prices(put_records,  title = \"Put: Market vs Theoretical\",  xlab = \"Strike\", ylab = \"Price\",underlying=dataset$close[the_index_of_last_day])\n",
    "par(op)\n",
    "dev.off()"
   ]
  }
 ],
 "metadata": {
  "kernelspec": {
   "display_name": "R",
   "language": "R",
   "name": "ir"
  },
  "language_info": {
   "codemirror_mode": "r",
   "file_extension": ".r",
   "mimetype": "text/x-r-source",
   "name": "R",
   "pygments_lexer": "r",
   "version": "4.4.3"
  }
 },
 "nbformat": 4,
 "nbformat_minor": 5
}
