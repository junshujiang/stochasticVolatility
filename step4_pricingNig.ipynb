{
 "cells": [
  {
   "cell_type": "code",
   "execution_count": null,
   "id": "1d7acd1e",
   "metadata": {
    "vscode": {
     "languageId": "r"
    }
   },
   "outputs": [
    {
     "name": "stderr",
     "output_type": "stream",
     "text": [
      "Warning message:\n",
      "“package ‘INLA’ was built under R version 4.5.0”\n",
      "Loading required package: Matrix\n",
      "\n"
     ]
    },
    {
     "name": "stderr",
     "output_type": "stream",
     "text": [
      "This is INLA_25.06.07 built 2025-06-11 18:54:45 UTC.\n",
      " - See www.r-inla.org/contact-us for how to get help.\n",
      " - List available models/likelihoods/etc with inla.list.models()\n",
      " - Use inla.doc(<NAME>) to access documentation\n",
      "\n",
      "\n",
      "Attaching package: ‘zoo’\n",
      "\n",
      "\n",
      "The following objects are masked from ‘package:base’:\n",
      "\n",
      "    as.Date, as.Date.numeric\n",
      "\n",
      "\n",
      "\n",
      "Attaching package: ‘dplyr’\n",
      "\n",
      "\n",
      "The following objects are masked from ‘package:stats’:\n",
      "\n",
      "    filter, lag\n",
      "\n",
      "\n",
      "The following objects are masked from ‘package:base’:\n",
      "\n",
      "    intersect, setdiff, setequal, union\n",
      "\n",
      "\n",
      "This is rSPDE 2.5.1\n",
      "- See https://davidbolin.github.io/rSPDE for vignettes and manuals.\n",
      "\n"
     ]
    },
    {
     "name": "stdout",
     "output_type": "stream",
     "text": [
      "INFO [2025-09-10 11:24:17] start experiment\n",
      "INFO [2025-09-10 11:24:17] use_saudi: FALSE\n",
      "INFO [2025-09-10 11:24:17] use seed: 123\n",
      "INFO [2025-09-10 11:24:17] number of experiments: 30\n"
     ]
    },
    {
     "name": "stderr",
     "output_type": "stream",
     "text": [
      "\u001b[1mRows: \u001b[22m\u001b[34m1595\u001b[39m \u001b[1mColumns: \u001b[22m\u001b[34m3\u001b[39m\n",
      "\u001b[36m──\u001b[39m \u001b[1mColumn specification\u001b[22m \u001b[36m────────────────────────────────────────────────────────\u001b[39m\n",
      "\u001b[1mDelimiter:\u001b[22m \",\"\n",
      "\u001b[31mchr\u001b[39m (1): ins_id\n",
      "\u001b[32mdbl\u001b[39m (2): Date, close\n",
      "\n",
      "\u001b[36mℹ\u001b[39m Use `spec()` to retrieve the full column specification for this data.\n",
      "\u001b[36mℹ\u001b[39m Specify the column types or set `show_col_types = FALSE` to quiet this message.\n"
     ]
    }
   ],
   "source": [
    "source(\"helper.R\")\n",
    "library(ngme2)\n",
    "max_expid<-get_max(\"Log\")+1\n",
    "exp_name<-\"Pricing\"\n",
    "log_dir<-glue(\"Log/{max_expid}.{exp_name}\")\n",
    "logger=get_logger(log_dir, log_name = \"log\", debug = TRUE)\n",
    "futile.logger::flog.info(\"start experiment\", name = \"log\")\n",
    "\n",
    "## get logger\n",
    "\n",
    "use_saudi<-FALSE\n",
    "seed_random<-123\n",
    "n=30\n",
    "\n",
    "futile.logger::flog.info(glue(\"use_saudi: {use_saudi}\"), name = \"log\")\n",
    "\n",
    "set.seed(seed_random)\n",
    "\n",
    "futile.logger::flog.info(glue(\"use seed: {seed_random}\"), name = \"log\")\n",
    "\n",
    "futile.logger::flog.info(glue(\"number of experiments: {n}\"), name = \"log\")\n",
    "\n",
    "if(!use_saudi){\n",
    "\n",
    "    data_ori <- as.data.frame(read_csv(\"data/IFclose.csv\"))\n",
    "    logpt<-log(data_ori$close)\n",
    "    logreturn <-logpt[2:length(logpt)]-logpt[1:(length(logpt)-1)]\n",
    "    date <- as.Date(as.character(data_ori$Date[1:(length(data_ori$Date)-1)]), format = \"%Y%m%d\")\n",
    "    date_timeindex_ori<-as.numeric(as.POSIXct(date)) \n",
    "    date_timeindex <- (date_timeindex_ori - min(date_timeindex_ori))/86400 ## 1 day = 86400 seconds\n",
    "    data = data.frame(logreturn = logreturn, times = date_timeindex)\n",
    "    data <- rbind(data, data.frame(logreturn = NA, times = max(date_timeindex):(max(date_timeindex)+31)))\n",
    "    mesh <- fm_mesh_1d(data$times)\n",
    "}else{\n",
    "    data_ori <- as.data.frame(read_csv(\"data/1180_vol.csv\"))\n",
    "    logpt<-log(data_ori$Close)\n",
    "    logreturn <-logpt[2:length(logpt)]-logpt[1:(length(logpt)-1)] ## 1 day = 86400 seconds\n",
    "    date <- data_ori$Date[1:(length(data_ori$Date)-1)]\n",
    "    date_timeindex_ori<-as.numeric(as.POSIXct(date)) \n",
    "    date_timeindex <- (date_timeindex_ori - min(date_timeindex_ori))/86400\n",
    "    data = data.frame(logreturn = logreturn, times = date_timeindex)\n",
    "    data <- rbind(data, data.frame(logreturn = NA, times = max(date_timeindex):(max(date_timeindex)+31)))\n",
    "    mesh <- fm_mesh_1d(data$times)\n",
    "}\n",
    "\n"
   ]
  },
  {
   "cell_type": "code",
   "execution_count": 2,
   "id": "c3ed80c3",
   "metadata": {
    "vscode": {
     "languageId": "r"
    }
   },
   "outputs": [],
   "source": [
    "set.seed(123)\n",
    "\n",
    "## best fit stochvol IF,2/137.3123/0.5628\n",
    "## best fit stochvol SR,4/118.271/0.7802\n",
    "\n",
    "best.rspde.order<-3\n",
    "best.prior.range.nominal<-85.9432\n",
    "best.prior.std.dev.nominal<-1.2195\n",
    "\n",
    "\n",
    "\n",
    "\n",
    "\n",
    "\n",
    "\n",
    "\n",
    "\n",
    "## best fit IF,2/137.3123/0.5628"
   ]
  },
  {
   "cell_type": "code",
   "execution_count": 3,
   "id": "3ba45035",
   "metadata": {
    "vscode": {
     "languageId": "r"
    }
   },
   "outputs": [
    {
     "name": "stderr",
     "output_type": "stream",
     "text": [
      "Warning message in rspde.result(fit, \"field\", OU_model, parameterization = \"matern\"):\n",
      "“the mean or mode of nu is very close to nu.upper.bound, please consider increasing nu.upper.bound, and refitting the model.”\n"
     ]
    },
    {
     "data": {
      "text/html": [
       "<table class=\"dataframe\">\n",
       "<caption>A data.frame: 3 × 6</caption>\n",
       "<thead>\n",
       "\t<tr><th></th><th scope=col>mean</th><th scope=col>sd</th><th scope=col>0.025quant</th><th scope=col>0.5quant</th><th scope=col>0.975quant</th><th scope=col>mode</th></tr>\n",
       "\t<tr><th></th><th scope=col>&lt;dbl&gt;</th><th scope=col>&lt;dbl&gt;</th><th scope=col>&lt;dbl&gt;</th><th scope=col>&lt;dbl&gt;</th><th scope=col>&lt;dbl&gt;</th><th scope=col>&lt;dbl&gt;</th></tr>\n",
       "</thead>\n",
       "<tbody>\n",
       "\t<tr><th scope=row>std.dev</th><td> 0.633152</td><td> 0.0871077</td><td> 0.478630</td><td> 0.627525</td><td>  0.820184</td><td> 0.617075</td></tr>\n",
       "\t<tr><th scope=row>range</th><td>91.369900</td><td>24.3958000</td><td>52.685400</td><td>88.261300</td><td>147.937000</td><td>82.397900</td></tr>\n",
       "\t<tr><th scope=row>nu</th><td> 1.437830</td><td> 0.4223520</td><td> 0.486295</td><td> 1.529320</td><td>  1.971120</td><td> 1.939400</td></tr>\n",
       "</tbody>\n",
       "</table>\n"
      ],
      "text/latex": [
       "A data.frame: 3 × 6\n",
       "\\begin{tabular}{r|llllll}\n",
       "  & mean & sd & 0.025quant & 0.5quant & 0.975quant & mode\\\\\n",
       "  & <dbl> & <dbl> & <dbl> & <dbl> & <dbl> & <dbl>\\\\\n",
       "\\hline\n",
       "\tstd.dev &  0.633152 &  0.0871077 &  0.478630 &  0.627525 &   0.820184 &  0.617075\\\\\n",
       "\trange & 91.369900 & 24.3958000 & 52.685400 & 88.261300 & 147.937000 & 82.397900\\\\\n",
       "\tnu &  1.437830 &  0.4223520 &  0.486295 &  1.529320 &   1.971120 &  1.939400\\\\\n",
       "\\end{tabular}\n"
      ],
      "text/markdown": [
       "\n",
       "A data.frame: 3 × 6\n",
       "\n",
       "| <!--/--> | mean &lt;dbl&gt; | sd &lt;dbl&gt; | 0.025quant &lt;dbl&gt; | 0.5quant &lt;dbl&gt; | 0.975quant &lt;dbl&gt; | mode &lt;dbl&gt; |\n",
       "|---|---|---|---|---|---|---|\n",
       "| std.dev |  0.633152 |  0.0871077 |  0.478630 |  0.627525 |   0.820184 |  0.617075 |\n",
       "| range | 91.369900 | 24.3958000 | 52.685400 | 88.261300 | 147.937000 | 82.397900 |\n",
       "| nu |  1.437830 |  0.4223520 |  0.486295 |  1.529320 |   1.971120 |  1.939400 |\n",
       "\n"
      ],
      "text/plain": [
       "        mean      sd         0.025quant 0.5quant  0.975quant mode     \n",
       "std.dev  0.633152  0.0871077  0.478630   0.627525   0.820184  0.617075\n",
       "range   91.369900 24.3958000 52.685400  88.261300 147.937000 82.397900\n",
       "nu       1.437830  0.4223520  0.486295   1.529320   1.971120  1.939400"
      ]
     },
     "metadata": {},
     "output_type": "display_data"
    }
   ],
   "source": [
    "\n",
    "OU_model <- rspde.matern(\n",
    "    mesh = mesh,\n",
    "    parameterization = \"matern\",\n",
    "    rspde.order = best.rspde.order,\n",
    "    prior.range.nominal = best.prior.range.nominal,\n",
    "    prior.std.dev.nominal = best.prior.std.dev.nominal\n",
    "  )\n",
    "    \n",
    "    formula_OU <- logreturn ~ -1 + Intercept(1)+ field(times, model = OU_model)\n",
    "fit<-bru(formula_OU, family=\"stochvol.nig\", data = data)\n",
    "result_fit<- rspde.result(fit, \"field\", OU_model, parameterization=\"matern\")\n",
    "summary(result_fit)"
   ]
  },
  {
   "cell_type": "code",
   "execution_count": 8,
   "id": "7527d863",
   "metadata": {
    "vscode": {
     "languageId": "r"
    }
   },
   "outputs": [
    {
     "data": {
      "text/plain": [
       "inlabru version: 2.13.0\n",
       "INLA version: 25.06.07\n",
       "Components:\n",
       "Intercept: main = linear(1), group = exchangeable(1L), replicate = iid(1L), NULL\n",
       "field: main = cgeneric(times), group = exchangeable(1L), replicate = iid(1L), NULL\n",
       "Observation models:\n",
       "  Family: 'stochvol.nig'\n",
       "    Tag: <No tag>\n",
       "    Data class: 'data.frame'\n",
       "    Response class: 'numeric'\n",
       "    Predictor: logreturn ~ .\n",
       "    Additive/Linear: TRUE/TRUE\n",
       "    Used components: effects[Intercept, field], latent[]\n",
       "Time used:\n",
       "    Pre = 0.616, Running = 6.14, Post = 0.441, Total = 7.2 \n",
       "Fixed effects:\n",
       "            mean    sd 0.025quant 0.5quant 0.975quant   mode kld\n",
       "Intercept -8.918 0.142     -9.199   -8.918     -8.635 -8.918   0\n",
       "\n",
       "Random effects:\n",
       "  Name\t  Model\n",
       "    field CGeneric\n",
       "\n",
       "Model hyperparameters:\n",
       "                                      mean    sd 0.025quant 0.5quant 0.975quant\n",
       "skewness parameter for stochvol-nig  0.017 0.067     -0.116    0.017      0.147\n",
       "shape parameter for stochvol-nig     1.357 0.153      1.133    1.332      1.725\n",
       "Theta1 for field                    -0.466 0.138     -0.739   -0.466     -0.196\n",
       "Theta2 for field                     4.480 0.264      3.960    4.480      5.001\n",
       "Theta3 for field                     1.289 1.383     -1.153    1.207      4.255\n",
       "                                      mode\n",
       "skewness parameter for stochvol-nig  0.018\n",
       "shape parameter for stochvol-nig     1.283\n",
       "Theta1 for field                    -0.464\n",
       "Theta2 for field                     4.480\n",
       "Theta3 for field                     0.804\n",
       "\n",
       "Marginal log-Likelihood:  4839.43 \n",
       " is computed \n",
       "Posterior summaries for the linear predictor and the fitted values are computed\n",
       "(Posterior marginals needs also 'control.compute=list(return.marginals.predictor=TRUE)')\n"
      ]
     },
     "metadata": {},
     "output_type": "display_data"
    }
   ],
   "source": [
    "fit"
   ]
  },
  {
   "cell_type": "code",
   "execution_count": 11,
   "id": "64459575",
   "metadata": {
    "vscode": {
     "languageId": "r"
    }
   },
   "outputs": [
    {
     "data": {
      "text/html": [
       "<dl>\n",
       "\t<dt>$names</dt>\n",
       "\t\t<dd><style>\n",
       ".list-inline {list-style: none; margin:0; padding: 0}\n",
       ".list-inline>li {display: inline-block}\n",
       ".list-inline>li:not(:last-child)::after {content: \"\\00b7\"; padding: 0 .5ex}\n",
       "</style>\n",
       "<ol class=list-inline><li>'names.fixed'</li><li>'summary.fixed'</li><li>'marginals.fixed'</li><li>'summary.lincomb'</li><li>'marginals.lincomb'</li><li>'size.lincomb'</li><li>'summary.lincomb.derived'</li><li>'marginals.lincomb.derived'</li><li>'size.lincomb.derived'</li><li>'mlik'</li><li>'cpo'</li><li>'gcpo'</li><li>'po'</li><li>'waic'</li><li>'residuals'</li><li>'model.random'</li><li>'summary.random'</li><li>'marginals.random'</li><li>'size.random'</li><li>'summary.linear.predictor'</li><li>'marginals.linear.predictor'</li><li>'summary.fitted.values'</li><li>'marginals.fitted.values'</li><li>'size.linear.predictor'</li><li>'summary.hyperpar'</li><li>'marginals.hyperpar'</li><li>'internal.summary.hyperpar'</li><li>'internal.marginals.hyperpar'</li><li>'offset.linear.predictor'</li><li>'model.spde2.blc'</li><li>'summary.spde2.blc'</li><li>'marginals.spde2.blc'</li><li>'size.spde2.blc'</li><li>'model.spde3.blc'</li><li>'summary.spde3.blc'</li><li>'marginals.spde3.blc'</li><li>'size.spde3.blc'</li><li>'logfile'</li><li>'misc'</li><li>'dic'</li><li>'mode'</li><li>'joint.hyper'</li><li>'nhyper'</li><li>'version'</li><li>'Q'</li><li>'graph'</li><li>'ok'</li><li>'cpu.intern'</li><li>'cpu.used'</li><li>'all.hyper'</li><li>'.args'</li><li>'call'</li><li>'model.matrix'</li><li>'bru_iinla'</li><li>'bru_timings'</li><li>'bru_info'</li></ol>\n",
       "</dd>\n",
       "\t<dt>$class</dt>\n",
       "\t\t<dd><style>\n",
       ".list-inline {list-style: none; margin:0; padding: 0}\n",
       ".list-inline>li {display: inline-block}\n",
       ".list-inline>li:not(:last-child)::after {content: \"\\00b7\"; padding: 0 .5ex}\n",
       "</style>\n",
       "<ol class=list-inline><li>'bru'</li><li>'iinla'</li><li>'inla'</li></ol>\n",
       "</dd>\n",
       "</dl>\n"
      ],
      "text/latex": [
       "\\begin{description}\n",
       "\\item[\\$names] \\begin{enumerate*}\n",
       "\\item 'names.fixed'\n",
       "\\item 'summary.fixed'\n",
       "\\item 'marginals.fixed'\n",
       "\\item 'summary.lincomb'\n",
       "\\item 'marginals.lincomb'\n",
       "\\item 'size.lincomb'\n",
       "\\item 'summary.lincomb.derived'\n",
       "\\item 'marginals.lincomb.derived'\n",
       "\\item 'size.lincomb.derived'\n",
       "\\item 'mlik'\n",
       "\\item 'cpo'\n",
       "\\item 'gcpo'\n",
       "\\item 'po'\n",
       "\\item 'waic'\n",
       "\\item 'residuals'\n",
       "\\item 'model.random'\n",
       "\\item 'summary.random'\n",
       "\\item 'marginals.random'\n",
       "\\item 'size.random'\n",
       "\\item 'summary.linear.predictor'\n",
       "\\item 'marginals.linear.predictor'\n",
       "\\item 'summary.fitted.values'\n",
       "\\item 'marginals.fitted.values'\n",
       "\\item 'size.linear.predictor'\n",
       "\\item 'summary.hyperpar'\n",
       "\\item 'marginals.hyperpar'\n",
       "\\item 'internal.summary.hyperpar'\n",
       "\\item 'internal.marginals.hyperpar'\n",
       "\\item 'offset.linear.predictor'\n",
       "\\item 'model.spde2.blc'\n",
       "\\item 'summary.spde2.blc'\n",
       "\\item 'marginals.spde2.blc'\n",
       "\\item 'size.spde2.blc'\n",
       "\\item 'model.spde3.blc'\n",
       "\\item 'summary.spde3.blc'\n",
       "\\item 'marginals.spde3.blc'\n",
       "\\item 'size.spde3.blc'\n",
       "\\item 'logfile'\n",
       "\\item 'misc'\n",
       "\\item 'dic'\n",
       "\\item 'mode'\n",
       "\\item 'joint.hyper'\n",
       "\\item 'nhyper'\n",
       "\\item 'version'\n",
       "\\item 'Q'\n",
       "\\item 'graph'\n",
       "\\item 'ok'\n",
       "\\item 'cpu.intern'\n",
       "\\item 'cpu.used'\n",
       "\\item 'all.hyper'\n",
       "\\item '.args'\n",
       "\\item 'call'\n",
       "\\item 'model.matrix'\n",
       "\\item 'bru\\_iinla'\n",
       "\\item 'bru\\_timings'\n",
       "\\item 'bru\\_info'\n",
       "\\end{enumerate*}\n",
       "\n",
       "\\item[\\$class] \\begin{enumerate*}\n",
       "\\item 'bru'\n",
       "\\item 'iinla'\n",
       "\\item 'inla'\n",
       "\\end{enumerate*}\n",
       "\n",
       "\\end{description}\n"
      ],
      "text/markdown": [
       "$names\n",
       ":   1. 'names.fixed'\n",
       "2. 'summary.fixed'\n",
       "3. 'marginals.fixed'\n",
       "4. 'summary.lincomb'\n",
       "5. 'marginals.lincomb'\n",
       "6. 'size.lincomb'\n",
       "7. 'summary.lincomb.derived'\n",
       "8. 'marginals.lincomb.derived'\n",
       "9. 'size.lincomb.derived'\n",
       "10. 'mlik'\n",
       "11. 'cpo'\n",
       "12. 'gcpo'\n",
       "13. 'po'\n",
       "14. 'waic'\n",
       "15. 'residuals'\n",
       "16. 'model.random'\n",
       "17. 'summary.random'\n",
       "18. 'marginals.random'\n",
       "19. 'size.random'\n",
       "20. 'summary.linear.predictor'\n",
       "21. 'marginals.linear.predictor'\n",
       "22. 'summary.fitted.values'\n",
       "23. 'marginals.fitted.values'\n",
       "24. 'size.linear.predictor'\n",
       "25. 'summary.hyperpar'\n",
       "26. 'marginals.hyperpar'\n",
       "27. 'internal.summary.hyperpar'\n",
       "28. 'internal.marginals.hyperpar'\n",
       "29. 'offset.linear.predictor'\n",
       "30. 'model.spde2.blc'\n",
       "31. 'summary.spde2.blc'\n",
       "32. 'marginals.spde2.blc'\n",
       "33. 'size.spde2.blc'\n",
       "34. 'model.spde3.blc'\n",
       "35. 'summary.spde3.blc'\n",
       "36. 'marginals.spde3.blc'\n",
       "37. 'size.spde3.blc'\n",
       "38. 'logfile'\n",
       "39. 'misc'\n",
       "40. 'dic'\n",
       "41. 'mode'\n",
       "42. 'joint.hyper'\n",
       "43. 'nhyper'\n",
       "44. 'version'\n",
       "45. 'Q'\n",
       "46. 'graph'\n",
       "47. 'ok'\n",
       "48. 'cpu.intern'\n",
       "49. 'cpu.used'\n",
       "50. 'all.hyper'\n",
       "51. '.args'\n",
       "52. 'call'\n",
       "53. 'model.matrix'\n",
       "54. 'bru_iinla'\n",
       "55. 'bru_timings'\n",
       "56. 'bru_info'\n",
       "\n",
       "\n",
       "\n",
       "$class\n",
       ":   1. 'bru'\n",
       "2. 'iinla'\n",
       "3. 'inla'\n",
       "\n",
       "\n",
       "\n",
       "\n",
       "\n"
      ],
      "text/plain": [
       "$names\n",
       " [1] \"names.fixed\"                 \"summary.fixed\"              \n",
       " [3] \"marginals.fixed\"             \"summary.lincomb\"            \n",
       " [5] \"marginals.lincomb\"           \"size.lincomb\"               \n",
       " [7] \"summary.lincomb.derived\"     \"marginals.lincomb.derived\"  \n",
       " [9] \"size.lincomb.derived\"        \"mlik\"                       \n",
       "[11] \"cpo\"                         \"gcpo\"                       \n",
       "[13] \"po\"                          \"waic\"                       \n",
       "[15] \"residuals\"                   \"model.random\"               \n",
       "[17] \"summary.random\"              \"marginals.random\"           \n",
       "[19] \"size.random\"                 \"summary.linear.predictor\"   \n",
       "[21] \"marginals.linear.predictor\"  \"summary.fitted.values\"      \n",
       "[23] \"marginals.fitted.values\"     \"size.linear.predictor\"      \n",
       "[25] \"summary.hyperpar\"            \"marginals.hyperpar\"         \n",
       "[27] \"internal.summary.hyperpar\"   \"internal.marginals.hyperpar\"\n",
       "[29] \"offset.linear.predictor\"     \"model.spde2.blc\"            \n",
       "[31] \"summary.spde2.blc\"           \"marginals.spde2.blc\"        \n",
       "[33] \"size.spde2.blc\"              \"model.spde3.blc\"            \n",
       "[35] \"summary.spde3.blc\"           \"marginals.spde3.blc\"        \n",
       "[37] \"size.spde3.blc\"              \"logfile\"                    \n",
       "[39] \"misc\"                        \"dic\"                        \n",
       "[41] \"mode\"                        \"joint.hyper\"                \n",
       "[43] \"nhyper\"                      \"version\"                    \n",
       "[45] \"Q\"                           \"graph\"                      \n",
       "[47] \"ok\"                          \"cpu.intern\"                 \n",
       "[49] \"cpu.used\"                    \"all.hyper\"                  \n",
       "[51] \".args\"                       \"call\"                       \n",
       "[53] \"model.matrix\"                \"bru_iinla\"                  \n",
       "[55] \"bru_timings\"                 \"bru_info\"                   \n",
       "\n",
       "$class\n",
       "[1] \"bru\"   \"iinla\" \"inla\" \n"
      ]
     },
     "metadata": {},
     "output_type": "display_data"
    }
   ],
   "source": [
    "attributes(fit)"
   ]
  },
  {
   "cell_type": "code",
   "execution_count": 13,
   "id": "ec22f99b",
   "metadata": {
    "vscode": {
     "languageId": "r"
    }
   },
   "outputs": [
    {
     "data": {
      "text/html": [
       "<table class=\"dataframe\">\n",
       "<caption>A data.frame: 5 × 6</caption>\n",
       "<thead>\n",
       "\t<tr><th></th><th scope=col>mean</th><th scope=col>sd</th><th scope=col>0.025quant</th><th scope=col>0.5quant</th><th scope=col>0.975quant</th><th scope=col>mode</th></tr>\n",
       "\t<tr><th></th><th scope=col>&lt;dbl&gt;</th><th scope=col>&lt;dbl&gt;</th><th scope=col>&lt;dbl&gt;</th><th scope=col>&lt;dbl&gt;</th><th scope=col>&lt;dbl&gt;</th><th scope=col>&lt;dbl&gt;</th></tr>\n",
       "</thead>\n",
       "<tbody>\n",
       "\t<tr><th scope=row>skewness parameter for stochvol-nig</th><td> 0.0166741</td><td>0.0668323</td><td>-0.1157567</td><td> 0.01696835</td><td> 0.1473856</td><td> 0.01819578</td></tr>\n",
       "\t<tr><th scope=row>shape parameter for stochvol-nig</th><td> 1.3572487</td><td>0.1532709</td><td> 1.1333431</td><td> 1.33184426</td><td> 1.7245150</td><td> 1.28342592</td></tr>\n",
       "\t<tr><th scope=row>Theta1 for field</th><td>-0.4664527</td><td>0.1379647</td><td>-0.7392042</td><td>-0.46606047</td><td>-0.1959873</td><td>-0.46443009</td></tr>\n",
       "\t<tr><th scope=row>Theta2 for field</th><td> 4.4803698</td><td>0.2644526</td><td> 3.9599069</td><td> 4.48031125</td><td> 5.0011722</td><td> 4.48006872</td></tr>\n",
       "\t<tr><th scope=row>Theta3 for field</th><td> 1.2891343</td><td>1.3831149</td><td>-1.1529973</td><td> 1.20706649</td><td> 4.2554670</td><td> 0.80392622</td></tr>\n",
       "</tbody>\n",
       "</table>\n"
      ],
      "text/latex": [
       "A data.frame: 5 × 6\n",
       "\\begin{tabular}{r|llllll}\n",
       "  & mean & sd & 0.025quant & 0.5quant & 0.975quant & mode\\\\\n",
       "  & <dbl> & <dbl> & <dbl> & <dbl> & <dbl> & <dbl>\\\\\n",
       "\\hline\n",
       "\tskewness parameter for stochvol-nig &  0.0166741 & 0.0668323 & -0.1157567 &  0.01696835 &  0.1473856 &  0.01819578\\\\\n",
       "\tshape parameter for stochvol-nig &  1.3572487 & 0.1532709 &  1.1333431 &  1.33184426 &  1.7245150 &  1.28342592\\\\\n",
       "\tTheta1 for field & -0.4664527 & 0.1379647 & -0.7392042 & -0.46606047 & -0.1959873 & -0.46443009\\\\\n",
       "\tTheta2 for field &  4.4803698 & 0.2644526 &  3.9599069 &  4.48031125 &  5.0011722 &  4.48006872\\\\\n",
       "\tTheta3 for field &  1.2891343 & 1.3831149 & -1.1529973 &  1.20706649 &  4.2554670 &  0.80392622\\\\\n",
       "\\end{tabular}\n"
      ],
      "text/markdown": [
       "\n",
       "A data.frame: 5 × 6\n",
       "\n",
       "| <!--/--> | mean &lt;dbl&gt; | sd &lt;dbl&gt; | 0.025quant &lt;dbl&gt; | 0.5quant &lt;dbl&gt; | 0.975quant &lt;dbl&gt; | mode &lt;dbl&gt; |\n",
       "|---|---|---|---|---|---|---|\n",
       "| skewness parameter for stochvol-nig |  0.0166741 | 0.0668323 | -0.1157567 |  0.01696835 |  0.1473856 |  0.01819578 |\n",
       "| shape parameter for stochvol-nig |  1.3572487 | 0.1532709 |  1.1333431 |  1.33184426 |  1.7245150 |  1.28342592 |\n",
       "| Theta1 for field | -0.4664527 | 0.1379647 | -0.7392042 | -0.46606047 | -0.1959873 | -0.46443009 |\n",
       "| Theta2 for field |  4.4803698 | 0.2644526 |  3.9599069 |  4.48031125 |  5.0011722 |  4.48006872 |\n",
       "| Theta3 for field |  1.2891343 | 1.3831149 | -1.1529973 |  1.20706649 |  4.2554670 |  0.80392622 |\n",
       "\n"
      ],
      "text/plain": [
       "                                    mean       sd        0.025quant 0.5quant   \n",
       "skewness parameter for stochvol-nig  0.0166741 0.0668323 -0.1157567  0.01696835\n",
       "shape parameter for stochvol-nig     1.3572487 0.1532709  1.1333431  1.33184426\n",
       "Theta1 for field                    -0.4664527 0.1379647 -0.7392042 -0.46606047\n",
       "Theta2 for field                     4.4803698 0.2644526  3.9599069  4.48031125\n",
       "Theta3 for field                     1.2891343 1.3831149 -1.1529973  1.20706649\n",
       "                                    0.975quant mode       \n",
       "skewness parameter for stochvol-nig  0.1473856  0.01819578\n",
       "shape parameter for stochvol-nig     1.7245150  1.28342592\n",
       "Theta1 for field                    -0.1959873 -0.46443009\n",
       "Theta2 for field                     5.0011722  4.48006872\n",
       "Theta3 for field                     4.2554670  0.80392622"
      ]
     },
     "metadata": {},
     "output_type": "display_data"
    }
   ],
   "source": [
    "fit$summary.hyperpar\n"
   ]
  },
  {
   "cell_type": "code",
   "execution_count": 14,
   "id": "271f88ce",
   "metadata": {
    "vscode": {
     "languageId": "r"
    }
   },
   "outputs": [],
   "source": [
    "inla.doc(\"stochvol.nig\")"
   ]
  },
  {
   "cell_type": "code",
   "execution_count": null,
   "id": "0216b5b9",
   "metadata": {
    "vscode": {
     "languageId": "r"
    }
   },
   "outputs": [],
   "source": [
    "delta, mu, nu, sigma"
   ]
  },
  {
   "cell_type": "code",
   "execution_count": 9,
   "id": "3d1208a8",
   "metadata": {
    "vscode": {
     "languageId": "r"
    }
   },
   "outputs": [
    {
     "ename": "ERROR",
     "evalue": "Error in attr(fit): either 2 or 3 arguments are required\n",
     "output_type": "error",
     "traceback": [
      "Error in attr(fit): either 2 or 3 arguments are required\nTraceback:\n"
     ]
    }
   ],
   "source": [
    "attr(fit)"
   ]
  },
  {
   "cell_type": "code",
   "execution_count": 4,
   "id": "479efa7a",
   "metadata": {
    "vscode": {
     "languageId": "r"
    }
   },
   "outputs": [
    {
     "name": "stderr",
     "output_type": "stream",
     "text": [
      "\n",
      "Attaching package: ‘lubridate’\n",
      "\n",
      "\n",
      "The following objects are masked from ‘package:base’:\n",
      "\n",
      "    date, intersect, setdiff, union\n",
      "\n",
      "\n"
     ]
    }
   ],
   "source": [
    "library(lubridate)\n",
    "# 假设 date 是一个 Date 向量\n",
    "#date <- as.Date(c(\"2025-07-10\", \"2025-07-15\", \"2025-07-20\"))  # 示例数据\n",
    "\n",
    "# 获取最后一天\n",
    "last_day <- max(date)\n",
    "# 生成从 next_day 开始到下个月同一天之前的所有日期\n",
    "next_day <- last_day + 1\n",
    "end_day <- as.Date(\"2024-05-17\")\n",
    "\n",
    "# 生成完整序列\n",
    "all_days <- seq.Date(from = next_day, to = end_day, by = \"day\")\n",
    "\n",
    "# 只保留非周末（即工作日）\n",
    "biz_days <- all_days[!weekdays(all_days) %in% c(\"Saturday\", \"Sunday\")]\n",
    "date_timeindex_new<-as.numeric(as.POSIXct(biz_days)) \n",
    "date_timeindex_new <- (date_timeindex_new - min(date_timeindex_ori))/86400 ## 1 day = 86400 seconds\n",
    "# 保存到数据框\n",
    "new_data <- data.frame(times = date_timeindex_new)\n"
   ]
  },
  {
   "cell_type": "code",
   "execution_count": 5,
   "id": "bc48bc33",
   "metadata": {
    "vscode": {
     "languageId": "r"
    }
   },
   "outputs": [],
   "source": [
    "discount_factor<- 1.02**(-21/252)"
   ]
  },
  {
   "cell_type": "code",
   "execution_count": null,
   "id": "868803e8",
   "metadata": {
    "vscode": {
     "languageId": "r"
    }
   },
   "outputs": [
    {
     "name": "stderr",
     "output_type": "stream",
     "text": [
      "This is ngme2 of version 0.7.0\n",
      "- See our homepage: https://davidbolin.github.io/ngme2 for more details.\n",
      "\n",
      "\n",
      "Attaching package: ‘ngme2’\n",
      "\n",
      "\n",
      "The following object is masked from ‘package:rSPDE’:\n",
      "\n",
      "    cross_validation\n",
      "\n",
      "\n",
      "The following object is masked from ‘package:INLA’:\n",
      "\n",
      "    f\n",
      "\n",
      "\n",
      "The following object is masked from ‘package:stats’:\n",
      "\n",
      "    ar\n",
      "\n",
      "\n"
     ]
    }
   ],
   "source": []
  },
  {
   "cell_type": "code",
   "execution_count": 7,
   "id": "4a97e9b7",
   "metadata": {
    "vscode": {
     "languageId": "r"
    }
   },
   "outputs": [
    {
     "name": "stdout",
     "output_type": "stream",
     "text": [
      "nig                   package:ngme2                    R Documentation\n",
      "\n",
      "_\bT_\bh_\be _\bN_\bo_\br_\bm_\ba_\bl _\bI_\bn_\bv_\be_\br_\bs_\be-_\bG_\ba_\bu_\bs_\bs_\bi_\ba_\bn (_\bN_\bI_\bG) _\bD_\bi_\bs_\bt_\br_\bi_\bb_\bu_\bt_\bi_\bo_\bn\n",
      "\n",
      "_\bD_\be_\bs_\bc_\br_\bi_\bp_\bt_\bi_\bo_\bn:\n",
      "\n",
      "     Density, distribution function, quantile function and random\n",
      "     generation for the normal inverse-Gaussian distribution with\n",
      "     parameters ‘p’, ‘a’ and ‘b’.\n",
      "\n",
      "_\bU_\bs_\ba_\bg_\be:\n",
      "\n",
      "     dnig(x, delta, mu, nu, sigma, h = NULL, log = FALSE)\n",
      "     \n",
      "     rnig(n, delta, mu, nu, sigma, h = NULL, seed = 0)\n",
      "     \n",
      "     pnig(q, delta, mu, nu, sigma, h = NULL, lower.tail = TRUE, log.p = FALSE)\n",
      "     \n",
      "     qnig(p, delta, mu, nu, sigma, h = NULL, lower.tail = TRUE, log.p = FALSE)\n",
      "     \n",
      "_\bA_\br_\bg_\bu_\bm_\be_\bn_\bt_\bs:\n",
      "\n",
      "    x, q: vector of quantiles.\n",
      "\n",
      "   delta: A numeric value for the location parameter.\n",
      "\n",
      "      mu: A numeric value for the shift parameter.\n",
      "\n",
      "      nu: A numeric value for the shape parameter.\n",
      "\n",
      "   sigma: A numeric value for the scaling parameter.\n",
      "\n",
      "       h: A numeric value for the additional parameter, see details.\n",
      "\n",
      "log, log.p: logical; if ‘TRUE’, probabilities/densities p are returned\n",
      "          as log(p).\n",
      "\n",
      "       n: number of observations.\n",
      "\n",
      "    seed: Seed for the random generation.\n",
      "\n",
      "lower.tail: logical; if ‘TRUE’, probabilities are P[X<=q x], otherwise,\n",
      "          P[X>x].\n",
      "\n",
      "       p: vector of probabilities.\n",
      "\n",
      "_\bD_\be_\bt_\ba_\bi_\bl_\bs:\n",
      "\n",
      "     The normal inverse-Gaussian distribution has density given by\n",
      "\n",
      "     f(x; delta, mu, sigma, nu) =\n",
      "      \\frac{e^{nu+mu(x-delta)/sigma^2}sqrt{numu^2/sigma^2+nu^2}}{pisqrt{nusigma^2+(x-delta)^2}}\n",
      "      K_1(sqrt{(nusigma^2+(x-delta)^2)(mu^2/sigma^4+nu/sigma^2)}),\n",
      "     \n",
      "     where K_p is modified Bessel function of the second kind of order\n",
      "     p, x>0, nu>0 and mu,delta, sigma\\in\\mathbb{R}.  See\n",
      "     Barndorff-Nielsen (1977, 1978 and 1997) for further details.\n",
      "\n",
      "     The additional parameter h is used when\n",
      "\n",
      "                            V\\sim IG(nu,nu h^{2})                       \n",
      "     \n",
      "     . By the infinite divisibility,\n",
      "\n",
      "                      \\frac{1}{h} V \\sim IG(nu h, nu h)                 \n",
      "     \n",
      "     . Then\n",
      "\n",
      "                        delta+mu V + sigma sqrt{V} Z                    \n",
      "     \n",
      "     has the distribution of\n",
      "\n",
      "          NIG(delta=-mu h,mu= mu h, sigma=sigma sqrt{h}, nu=nu h).      \n",
      "     \n",
      "_\bV_\ba_\bl_\bu_\be:\n",
      "\n",
      "     dnig gives the density, pnig gives the distribution function, qnig\n",
      "     gives the quantile function, and rnig generates random deviates.\n",
      "\n",
      "     Invalid arguments will result in return value NaN, with a warning.\n",
      "\n",
      "     The length of the result is determined by ‘n’ for rnig.\n",
      "\n",
      "_\bR_\be_\bf_\be_\br_\be_\bn_\bc_\be_\bs:\n",
      "\n",
      "     Barndorff-Nielsen, O. (1977) Exponentially decreasing\n",
      "     distributions for the logarithm of particle size. Proceedings of\n",
      "     the Royal Society of London.\n",
      "\n",
      "     Series A, Mathematical and Physical Sciences. The Royal Society.\n",
      "     353, 401–409. doi:10.1098/rspa.1977.0041\n",
      "     <https://doi.org/10.1098/rspa.1977.0041>\n",
      "\n",
      "     Barndorff-Nielsen, O. (1978) Hyperbolic Distributions and\n",
      "     Distributions on Hyperbolae, Scandinavian Journal of Statistics.\n",
      "     5, 151–157.\n",
      "\n",
      "     Barndorff-Nielsen, O. (1997) Normal Inverse Gaussian Distributions\n",
      "     and Stochastic Volatility Modelling, Scandinavian Journal of\n",
      "     Statistics. 24, 1-13. doi:10.1111/1467-9469.00045\n",
      "     <https://doi.org/10.1111/1467-9469.00045>\n",
      "\n",
      "_\bS_\be_\be _\bA_\bl_\bs_\bo:\n",
      "\n",
      "     ‘dgig’, ‘dig’, ‘digam’\n",
      "\n",
      "_\bE_\bx_\ba_\bm_\bp_\bl_\be_\bs:\n",
      "\n",
      "     rnig(100, delta = 0, mu = 5, sigma = 1, nu = 1)\n",
      "     pnig(0.4, delta = 0, mu = 5, sigma = 1, nu = 1)\n",
      "     qnig(0.8, delta = 0, mu = 5, sigma = 1, nu = 1)\n",
      "     plot(function(x){dnig(x, delta = 0, mu = 5, sigma = 1, nu = 1)}, main =\n",
      "     \"Normal inverse-Gaussian density\", ylab = \"Probability density\",\n",
      "     xlim = c(0,10))\n",
      "     "
     ]
    }
   ],
   "source": [
    "?rnig"
   ]
  },
  {
   "cell_type": "code",
   "execution_count": null,
   "id": "37ea966e",
   "metadata": {
    "vscode": {
     "languageId": "r"
    }
   },
   "outputs": [],
   "source": [
    "delta_S_T<-generate(fit, new_data, ~ exp((field+Intercept)/2), n.samples = 100000)"
   ]
  },
  {
   "cell_type": "code",
   "execution_count": null,
   "id": "03f446e8",
   "metadata": {
    "vscode": {
     "languageId": "r"
    }
   },
   "outputs": [
    {
     "ename": "ERROR",
     "evalue": "Error in library(\"ngme\"): there is no package called ‘ngme’\n",
     "output_type": "error",
     "traceback": [
      "Error in library(\"ngme\"): there is no package called ‘ngme’\nTraceback:\n",
      "1. stop(packageNotFoundError(package, lib.loc, sys.call()))"
     ]
    }
   ],
   "source": [
    "library(\"ngme2\")"
   ]
  },
  {
   "cell_type": "code",
   "execution_count": null,
   "id": "c66183b9",
   "metadata": {
    "vscode": {
     "languageId": "r"
    }
   },
   "outputs": [
    {
     "name": "stderr",
     "output_type": "stream",
     "text": [
      "Downloading GitHub repo davidbolin/ngme2@devel\n",
      "\n"
     ]
    },
    {
     "name": "stdout",
     "output_type": "stream",
     "text": [
      "\n"
     ]
    },
    {
     "name": "stderr",
     "output_type": "stream",
     "text": [
      "Skipping 7 packages not available: RcppEigen, Rcpp, testthat, gridExtra, fmesher, ggplot2, rlang\n",
      "\n"
     ]
    },
    {
     "name": "stdout",
     "output_type": "stream",
     "text": [
      "\u001b[36m──\u001b[39m \u001b[36mR CMD build\u001b[39m \u001b[36m─────────────────────────────────────────────────────────────────\u001b[39m\n",
      "* checking for file ‘/tmp/RtmpWXeUsV/remotes15a22e1fa9c0cc/davidbolin-ngme2-d70c4eb/DESCRIPTION’ ... OK\n",
      "* preparing ‘ngme2’:\n",
      "* checking DESCRIPTION meta-information ... OK\n",
      "* cleaning src\n",
      "Warning: /tmp/RtmpWGJYRc/Rbuild15e3436c118658/ngme2/man/cross_validation.Rd:70: unknown macro '\\item'\n",
      "Warning: /tmp/RtmpWGJYRc/Rbuild15e3436c118658/ngme2/man/cross_validation.Rd:72: unknown macro '\\item'\n",
      "Warning: /tmp/RtmpWGJYRc/Rbuild15e3436c118658/ngme2/man/cross_validation.Rd:74: unknown macro '\\item'\n",
      "Warning: /tmp/RtmpWGJYRc/Rbuild15e3436c118658/ngme2/man/cross_validation.Rd:77: unknown macro '\\item'\n",
      "Warning: /tmp/RtmpWGJYRc/Rbuild15e3436c118658/ngme2/man/cross_validation.Rd:80: unexpected section header '\\value'\n",
      "Warning: /tmp/RtmpWGJYRc/Rbuild15e3436c118658/ngme2/man/cross_validation.Rd:87: unexpected section header '\\description'\n",
      "Warning: /tmp/RtmpWGJYRc/Rbuild15e3436c118658/ngme2/man/cross_validation.Rd:92: unexpected END_OF_INPUT '\n",
      "'\n",
      "Warning: /tmp/RtmpWGJYRc/Rbuild15e3436c118658/ngme2/man/name2fun.Rd:22: unknown macro '\\exp'\n",
      "Warning: /tmp/RtmpWGJYRc/Rbuild15e3436c118658/ngme2/man/name2fun.Rd:22: unknown macro '\\log'\n",
      "Warning: /tmp/RtmpWGJYRc/Rbuild15e3436c118658/ngme2/man/name2fun.Rd:23: unknown macro '\\exp'\n",
      "Warning: /tmp/RtmpWGJYRc/Rbuild15e3436c118658/ngme2/man/name2fun.Rd:23: unknown macro '\\log'\n",
      "Warning: /tmp/RtmpWGJYRc/Rbuild15e3436c118658/ngme2/man/name2fun.Rd:26: unknown macro '\\exp'\n",
      "Warning: /tmp/RtmpWGJYRc/Rbuild15e3436c118658/ngme2/man/name2fun.Rd:26: unknown macro '\\log'\n",
      "Warning: /tmp/RtmpWGJYRc/Rbuild15e3436c118658/ngme2/man/name2fun.Rd:27: unknown macro '\\sqrt'\n",
      "Warning: /tmp/RtmpWGJYRc/Rbuild15e3436c118658/ngme2/man/name2fun.Rd:28: unknown macro '\\sqrt'\n",
      "Warning: /tmp/RtmpWGJYRc/Rbuild15e3436c118658/ngme2/man/name2fun.Rd:29: unknown macro '\\log'\n",
      "Warning: /tmp/RtmpWGJYRc/Rbuild15e3436c118658/ngme2/man/name2fun.Rd:29: unknown macro '\\exp'\n",
      "Warning: /tmp/RtmpWGJYRc/Rbuild15e3436c118658/ngme2/man/spacetime.Rd:44: unknown macro '\\item'\n",
      "Warning: /tmp/RtmpWGJYRc/Rbuild15e3436c118658/ngme2/man/spacetime.Rd:46: unknown macro '\\item'\n",
      "Warning: /tmp/RtmpWGJYRc/Rbuild15e3436c118658/ngme2/man/spacetime.Rd:48: unknown macro '\\item'\n",
      "Warning: /tmp/RtmpWGJYRc/Rbuild15e3436c118658/ngme2/man/spacetime.Rd:50: unknown macro '\\item'\n",
      "Warning: /tmp/RtmpWGJYRc/Rbuild15e3436c118658/ngme2/man/spacetime.Rd:52: unknown macro '\\item'\n",
      "Warning: /tmp/RtmpWGJYRc/Rbuild15e3436c118658/ngme2/man/spacetime.Rd:54: unknown macro '\\item'\n",
      "Warning: /tmp/RtmpWGJYRc/Rbuild15e3436c118658/ngme2/man/spacetime.Rd:56: unknown macro '\\item'\n",
      "Warning: /tmp/RtmpWGJYRc/Rbuild15e3436c118658/ngme2/man/spacetime.Rd:58: unknown macro '\\item'\n",
      "Warning: /tmp/RtmpWGJYRc/Rbuild15e3436c118658/ngme2/man/spacetime.Rd:60: unexpected section header '\\value'\n",
      "Warning: /tmp/RtmpWGJYRc/Rbuild15e3436c118658/ngme2/man/spacetime.Rd:63: unexpected section header '\\description'\n",
      "Warning: /tmp/RtmpWGJYRc/Rbuild15e3436c118658/ngme2/man/spacetime.Rd:69: unexpected section header '\\details'\n",
      "Warning: /tmp/RtmpWGJYRc/Rbuild15e3436c118658/ngme2/man/spacetime.Rd:75: unexpected END_OF_INPUT '\n",
      "'\n",
      "* checking for LF line-endings in source and make files and shell scripts\n",
      "* checking for empty or unneeded directories\n",
      "Warning: /tmp/RtmpWGJYRc/Rbuild15e3436c118658/ngme2/man/cross_validation.Rd:70: unknown macro '\\item'\n",
      "Warning: /tmp/RtmpWGJYRc/Rbuild15e3436c118658/ngme2/man/cross_validation.Rd:72: unknown macro '\\item'\n",
      "Warning: /tmp/RtmpWGJYRc/Rbuild15e3436c118658/ngme2/man/cross_validation.Rd:74: unknown macro '\\item'\n",
      "Warning: /tmp/RtmpWGJYRc/Rbuild15e3436c118658/ngme2/man/cross_validation.Rd:77: unknown macro '\\item'\n",
      "Warning: /tmp/RtmpWGJYRc/Rbuild15e3436c118658/ngme2/man/cross_validation.Rd:80: unexpected section header '\\value'\n",
      "Warning: /tmp/RtmpWGJYRc/Rbuild15e3436c118658/ngme2/man/cross_validation.Rd:87: unexpected section header '\\description'\n",
      "Warning: /tmp/RtmpWGJYRc/Rbuild15e3436c118658/ngme2/man/cross_validation.Rd:92: unexpected END_OF_INPUT '\n",
      "'\n",
      "Warning: /tmp/RtmpWGJYRc/Rbuild15e3436c118658/ngme2/man/name2fun.Rd:22: unknown macro '\\exp'\n",
      "Warning: /tmp/RtmpWGJYRc/Rbuild15e3436c118658/ngme2/man/name2fun.Rd:22: unknown macro '\\log'\n",
      "Warning: /tmp/RtmpWGJYRc/Rbuild15e3436c118658/ngme2/man/name2fun.Rd:23: unknown macro '\\exp'\n",
      "Warning: /tmp/RtmpWGJYRc/Rbuild15e3436c118658/ngme2/man/name2fun.Rd:23: unknown macro '\\log'\n",
      "Warning: /tmp/RtmpWGJYRc/Rbuild15e3436c118658/ngme2/man/name2fun.Rd:26: unknown macro '\\exp'\n",
      "Warning: /tmp/RtmpWGJYRc/Rbuild15e3436c118658/ngme2/man/name2fun.Rd:26: unknown macro '\\log'\n",
      "Warning: /tmp/RtmpWGJYRc/Rbuild15e3436c118658/ngme2/man/name2fun.Rd:27: unknown macro '\\sqrt'\n",
      "Warning: /tmp/RtmpWGJYRc/Rbuild15e3436c118658/ngme2/man/name2fun.Rd:28: unknown macro '\\sqrt'\n",
      "Warning: /tmp/RtmpWGJYRc/Rbuild15e3436c118658/ngme2/man/name2fun.Rd:29: unknown macro '\\log'\n",
      "Warning: /tmp/RtmpWGJYRc/Rbuild15e3436c118658/ngme2/man/name2fun.Rd:29: unknown macro '\\exp'\n",
      "Warning: /tmp/RtmpWGJYRc/Rbuild15e3436c118658/ngme2/man/spacetime.Rd:44: unknown macro '\\item'\n",
      "Warning: /tmp/RtmpWGJYRc/Rbuild15e3436c118658/ngme2/man/spacetime.Rd:46: unknown macro '\\item'\n",
      "Warning: /tmp/RtmpWGJYRc/Rbuild15e3436c118658/ngme2/man/spacetime.Rd:48: unknown macro '\\item'\n",
      "Warning: /tmp/RtmpWGJYRc/Rbuild15e3436c118658/ngme2/man/spacetime.Rd:50: unknown macro '\\item'\n",
      "Warning: /tmp/RtmpWGJYRc/Rbuild15e3436c118658/ngme2/man/spacetime.Rd:52: unknown macro '\\item'\n",
      "Warning: /tmp/RtmpWGJYRc/Rbuild15e3436c118658/ngme2/man/spacetime.Rd:54: unknown macro '\\item'\n",
      "Warning: /tmp/RtmpWGJYRc/Rbuild15e3436c118658/ngme2/man/spacetime.Rd:56: unknown macro '\\item'\n",
      "Warning: /tmp/RtmpWGJYRc/Rbuild15e3436c118658/ngme2/man/spacetime.Rd:58: unknown macro '\\item'\n",
      "Warning: /tmp/RtmpWGJYRc/Rbuild15e3436c118658/ngme2/man/spacetime.Rd:60: unexpected section header '\\value'\n",
      "Warning: /tmp/RtmpWGJYRc/Rbuild15e3436c118658/ngme2/man/spacetime.Rd:63: unexpected section header '\\description'\n",
      "Warning: /tmp/RtmpWGJYRc/Rbuild15e3436c118658/ngme2/man/spacetime.Rd:69: unexpected section header '\\details'\n",
      "Warning: /tmp/RtmpWGJYRc/Rbuild15e3436c118658/ngme2/man/spacetime.Rd:75: unexpected END_OF_INPUT '\n",
      "'\n",
      "* building ‘ngme2_0.7.0.tar.gz’\n",
      "\n"
     ]
    },
    {
     "name": "stderr",
     "output_type": "stream",
     "text": [
      "Installing package into ‘/home/jianj0c/R/x86_64-pc-linux-gnu-library/4.5’\n",
      "(as ‘lib’ is unspecified)\n",
      "\n",
      "Warning message in i.p(...):\n",
      "“installation of package ‘/tmp/RtmpWXeUsV/file15a22e70fc7316/ngme2_0.7.0.tar.gz’ had non-zero exit status”\n"
     ]
    }
   ],
   "source": [
    "remotes::install_github(\"davidbolin/ngme2\", ref = \"devel\")"
   ]
  },
  {
   "cell_type": "code",
   "execution_count": null,
   "id": "2025b6ab",
   "metadata": {
    "vscode": {
     "languageId": "r"
    }
   },
   "outputs": [
    {
     "ename": "ERROR",
     "evalue": "Error in library(GeneralizedHyperbolic): there is no package called ‘GeneralizedHyperbolic’\n",
     "output_type": "error",
     "traceback": [
      "Error in library(GeneralizedHyperbolic): there is no package called ‘GeneralizedHyperbolic’\nTraceback:\n",
      "1. stop(packageNotFoundError(package, lib.loc, sys.call()))"
     ]
    }
   ],
   "source": [
    "library(GeneralizedHyperbolic)\n",
    "\n",
    "alpha <- 1.357   # shape\n",
    "beta  <- 0.017   # skewness\n",
    "mu    <- 0       # 可以设为0（对称 around 0）\n",
    "delta <- as.vector(delta_S_T)   # 每个点的尺度参数\n",
    "\n",
    "rand_mat <- matrix(\n",
    "  rnig(length(delta), mu = mu, delta = delta, alpha = alpha, beta = beta),\n",
    "  nrow = nrow(delta_S_T), ncol = ncol(delta_S_T)\n",
    ")\n"
   ]
  },
  {
   "cell_type": "code",
   "execution_count": null,
   "id": "be53b90d",
   "metadata": {
    "vscode": {
     "languageId": "r"
    }
   },
   "outputs": [],
   "source": [
    "\n",
    "dof <- fit$summary.hyperpar$mean[1]\n",
    "\n",
    "# t分布缩放因子 (保持期望标准差 = delta_S_T)\n",
    "scale <- as.vector(delta_S_T) / sqrt(dof / (dof - 2))\n",
    "\n",
    "# 生成随机矩阵\n",
    "random_return_rate <- matrix(\n",
    "  rt(length(delta_S_T), df = dof) * scale,\n",
    "  nrow = nrow(delta_S_T),\n",
    "  ncol = ncol(delta_S_T)\n",
    ")"
   ]
  },
  {
   "cell_type": "code",
   "execution_count": null,
   "id": "a6213f19",
   "metadata": {
    "vscode": {
     "languageId": "r"
    }
   },
   "outputs": [],
   "source": [
    "return_rate_to_end<-exp(colSums(random_return_rate))\n",
    "simulated_final_prices <- data_ori$close[length(data_ori$close)] * return_rate_to_end"
   ]
  },
  {
   "cell_type": "code",
   "execution_count": null,
   "id": "2e872070",
   "metadata": {
    "vscode": {
     "languageId": "r"
    }
   },
   "outputs": [
    {
     "data": {
      "text/html": [
       "3540.54678899083"
      ],
      "text/latex": [
       "3540.54678899083"
      ],
      "text/markdown": [
       "3540.54678899083"
      ],
      "text/plain": [
       "[1] 3540.547"
      ]
     },
     "metadata": {},
     "output_type": "display_data"
    }
   ],
   "source": [
    "data_ori$close[length(data_ori$close)]"
   ]
  },
  {
   "cell_type": "code",
   "execution_count": null,
   "id": "3d6d86dc",
   "metadata": {
    "vscode": {
     "languageId": "r"
    }
   },
   "outputs": [
    {
     "data": {
      "image/png": "[encoded data removed]",
      "text/plain": [
       "Plot with title “Distribution of Final Prices”"
      ]
     },
     "metadata": {
      "image/png": {
       "height": 420,
       "width": 420
      }
     },
     "output_type": "display_data"
    }
   ],
   "source": [
    "par(bg = \"white\")\n",
    "hist(simulated_final_prices, \n",
    "     breaks = 50, col = \"skyblue\", border = \"white\",\n",
    "     main = \"Distribution of Final Prices\", xlab = \"Final Price\")"
   ]
  },
  {
   "cell_type": "code",
   "execution_count": null,
   "id": "a1e3cac6",
   "metadata": {
    "vscode": {
     "languageId": "r"
    }
   },
   "outputs": [],
   "source": [
    "expected_payoff <- function(sim_prices, K, type = c(\"call\", \"put\"), discount_factor = 1) {\n",
    "  # sim_prices: simulated prices\n",
    "  # K: strike price\n",
    "  # type: \"call\" or \"put\"\n",
    "  # discount_factor: discount factor, default=1 (if you need e^{-rT} outside)\n",
    "  \n",
    "  type <- match.arg(type)\n",
    "  \n",
    "  if (type == \"call\") {\n",
    "    payoff <- pmax(sim_prices - K, 0)\n",
    "  } else {\n",
    "    payoff <- pmax(K - sim_prices, 0)\n",
    "  }\n",
    "  \n",
    "  return(mean(payoff) * discount_factor)\n",
    "}"
   ]
  },
  {
   "cell_type": "code",
   "execution_count": null,
   "id": "a6543f88",
   "metadata": {
    "vscode": {
     "languageId": "r"
    }
   },
   "outputs": [
    {
     "name": "stderr",
     "output_type": "stream",
     "text": [
      "\u001b[1mRows: \u001b[22m\u001b[34m20\u001b[39m \u001b[1mColumns: \u001b[22m\u001b[34m2\u001b[39m\n",
      "\u001b[36m──\u001b[39m \u001b[1mColumn specification\u001b[22m \u001b[36m────────────────────────────────────────────────────────\u001b[39m\n",
      "\u001b[1mDelimiter:\u001b[22m \",\"\n",
      "\u001b[32mdbl\u001b[39m (2): price, strike\n",
      "\n",
      "\u001b[36mℹ\u001b[39m Use `spec()` to retrieve the full column specification for this data.\n",
      "\u001b[36mℹ\u001b[39m Specify the column types or set `show_col_types = FALSE` to quiet this message.\n",
      "\u001b[1mRows: \u001b[22m\u001b[34m20\u001b[39m \u001b[1mColumns: \u001b[22m\u001b[34m2\u001b[39m\n",
      "\u001b[36m──\u001b[39m \u001b[1mColumn specification\u001b[22m \u001b[36m────────────────────────────────────────────────────────\u001b[39m\n",
      "\u001b[1mDelimiter:\u001b[22m \",\"\n",
      "\u001b[32mdbl\u001b[39m (2): price, strike\n",
      "\n",
      "\u001b[36mℹ\u001b[39m Use `spec()` to retrieve the full column specification for this data.\n",
      "\u001b[36mℹ\u001b[39m Specify the column types or set `show_col_types = FALSE` to quiet this message.\n"
     ]
    }
   ],
   "source": [
    "pricing_values<-list()\n",
    "\n",
    "\n",
    "\n",
    "call_records<-as.data.frame(read_csv(\"data/calls_records.csv\"))\n",
    "put_records<-as.data.frame(read_csv(\"data/put_records.csv\"))\n",
    "\n",
    "\n",
    "\n",
    "for (i in 1:nrow(call_records)){\n",
    "    strike<-call_records$strike[i]\n",
    "    call_price<-expected_payoff(simulated_final_prices, K = strike, type = \"call\", discount_factor = discount_factor)\n",
    "    pricing_values$call_records[i]<-call_price\n",
    "}\n",
    "\n",
    "for (i in 1:nrow(put_records)){\n",
    "    strike<-put_records$strike[i]\n",
    "    put_price<-expected_payoff(simulated_final_prices, K = strike, type = \"put\", discount_factor = discount_factor)\n",
    "    pricing_values$put_records[i]<-put_price\n",
    "}\n",
    "\n",
    "\n",
    "call_records$theoretical_price<-pricing_values$call_records\n",
    "put_records$theoretical_price<-pricing_values$put_records\n",
    "\n",
    "\n",
    "\n",
    "write.csv(call_records, glue(\"{log_dir}/calls_records_with_theoretical_price.csv\"))\n",
    "write.csv(put_records, glue(\"{log_dir}/put_records_with_theoretical_price.csv\"))\n",
    "\n",
    "\n",
    "\n",
    "\n"
   ]
  },
  {
   "cell_type": "code",
   "execution_count": null,
   "id": "191f6468",
   "metadata": {
    "vscode": {
     "languageId": "r"
    }
   },
   "outputs": [
    {
     "data": {
      "text/html": [
       "<strong>pdf:</strong> 2"
      ],
      "text/latex": [
       "\\textbf{pdf:} 2"
      ],
      "text/markdown": [
       "**pdf:** 2"
      ],
      "text/plain": [
       "pdf \n",
       "  2 "
      ]
     },
     "metadata": {},
     "output_type": "display_data"
    }
   ],
   "source": [
    "find_market_col <- function(df) {\n",
    "  cand <- c(\"market_price\", \"price\", \"close\", \"mid\")\n",
    "  hit <- cand[cand %in% names(df)]\n",
    "  if (length(hit) == 0) stop(\"未找到市场价格列，请在 cand 中加入正确列名。已有列：\", paste(names(df), collapse=\", \"))\n",
    "  hit[1]\n",
    "}\n",
    "plot_prices <- function(df, title = \"Calls\", xlab = \"Strike\", ylab = \"Price\", underlying = NULL) {\n",
    "  # 选择市场价格列\n",
    "  mcol <- find_market_col(df)\n",
    "\n",
    "  # 仅保留需要列并去 NA\n",
    "  keep <- c(\"strike\", mcol, \"theoretical_price\")\n",
    "  df2 <- df[keep]\n",
    "  df2 <- df2[complete.cases(df2), ]\n",
    "\n",
    "  # 按 strike 排序\n",
    "  ord <- order(df2$strike)\n",
    "  x  <- df2$strike[ord]\n",
    "  yM <- df2[[mcol]][ord]              # 市场价格\n",
    "  yT <- df2$theoretical_price[ord]    # 理论价格\n",
    "\n",
    "  # 确定坐标范围\n",
    "  yr <- range(c(yM, yT), finite = TRUE)\n",
    "\n",
    "  # 画图（白底）\n",
    "  par(bg = \"white\")\n",
    "  plot(x, yM, type = \"l\", lwd = 2,\n",
    "       col = rgb(0,0,1,0.6),             # 半透明蓝色\n",
    "       xlab = xlab, ylab = ylab,\n",
    "       main = title, ylim = yr, cex.axis=1.2, cex.lab=1.2, cex.main=1.3)\n",
    "  lines(x, yT, lwd = 2, lty = 2,\n",
    "        col = rgb(1,0,0,0.6))            # 半透明红色\n",
    "\n",
    "  # 如果提供了 underlying，就画一条竖线\n",
    "  if (!is.null(underlying)) {\n",
    "    abline(v = underlying, col = \"black\", lty = 3, lwd = 2)\n",
    "  }\n",
    "\n",
    "  legend(\"topleft\",\n",
    "         legend = c(\"Market\", \"Theoretical\", if (!is.null(underlying)) \"Underlying\" else NULL),\n",
    "         lwd = c(2, 2, if (!is.null(underlying)) 2 else NULL),\n",
    "         lty = c(1, 2, if (!is.null(underlying)) 3 else NULL),\n",
    "         col = c(rgb(0,0,1,0.6), rgb(1,0,0,0.6), if (!is.null(underlying)) \"black\" else NULL),\n",
    "         bty = \"n\")\n",
    "}\n",
    "\n",
    "\n",
    "# --- 分两幅图显示：左边 Call，右边 Put ---\n",
    "png(glue( \"{log_dir}/calls_puts.png\"), width=2000, height=1000, res=200)  # 像素宽高\n",
    "op <- par(mfrow = c(1, 2), mar = c(4, 4, 3, 1), cex=1.2)\n",
    "plot_prices(call_records, title = \"Call: Market vs Theoretical\", xlab = \"Strike\", ylab = \"Price\",underlying=data_ori$close[length(data_ori$close)])\n",
    "plot_prices(put_records,  title = \"Put: Market vs Theoretical\",  xlab = \"Strike\", ylab = \"Price\",underlying=data_ori$close[length(data_ori$close)])\n",
    "par(op)\n",
    "dev.off()"
   ]
  },
  {
   "cell_type": "code",
   "execution_count": null,
   "id": "b094025a",
   "metadata": {
    "vscode": {
     "languageId": "r"
    }
   },
   "outputs": [],
   "source": []
  }
 ],
 "metadata": {
  "kernelspec": {
   "display_name": "R",
   "language": "R",
   "name": "ir"
  },
  "language_info": {
   "codemirror_mode": "r",
   "file_extension": ".r",
   "mimetype": "text/x-r-source",
   "name": "R",
   "pygments_lexer": "r",
   "version": "4.4.3"
  }
 },
 "nbformat": 4,
 "nbformat_minor": 5
}
