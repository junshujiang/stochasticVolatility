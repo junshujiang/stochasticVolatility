{
 "cells": [
  {
   "cell_type": "code",
   "execution_count": 1,
   "id": "1d7acd1e",
   "metadata": {
    "vscode": {
     "languageId": "r"
    }
   },
   "outputs": [
    {
     "name": "stderr",
     "output_type": "stream",
     "text": [
      "Warning message:\n",
      "“package ‘INLA’ was built under R version 4.5.0”\n",
      "Loading required package: Matrix\n",
      "\n"
     ]
    },
    {
     "name": "stderr",
     "output_type": "stream",
     "text": [
      "This is INLA_25.06.07 built 2025-06-11 18:54:45 UTC.\n",
      " - See www.r-inla.org/contact-us for how to get help.\n",
      " - List available models/likelihoods/etc with inla.list.models()\n",
      " - Use inla.doc(<NAME>) to access documentation\n",
      "\n",
      "\n",
      "Attaching package: ‘zoo’\n",
      "\n",
      "\n",
      "The following objects are masked from ‘package:base’:\n",
      "\n",
      "    as.Date, as.Date.numeric\n",
      "\n",
      "\n",
      "\n",
      "Attaching package: ‘dplyr’\n",
      "\n",
      "\n",
      "The following objects are masked from ‘package:stats’:\n",
      "\n",
      "    filter, lag\n",
      "\n",
      "\n",
      "The following objects are masked from ‘package:base’:\n",
      "\n",
      "    intersect, setdiff, setequal, union\n",
      "\n",
      "\n",
      "This is rSPDE 2.5.1\n",
      "- See https://davidbolin.github.io/rSPDE for vignettes and manuals.\n",
      "\n"
     ]
    },
    {
     "name": "stdout",
     "output_type": "stream",
     "text": [
      "INFO [2025-09-10 10:53:12] start experiment\n",
      "INFO [2025-09-10 10:53:12] use_saudi: FALSE\n",
      "INFO [2025-09-10 10:53:12] use seed: 123\n",
      "INFO [2025-09-10 10:53:12] number of experiments: 30\n"
     ]
    },
    {
     "name": "stderr",
     "output_type": "stream",
     "text": [
      "\u001b[1mRows: \u001b[22m\u001b[34m1595\u001b[39m \u001b[1mColumns: \u001b[22m\u001b[34m3\u001b[39m\n",
      "\u001b[36m──\u001b[39m \u001b[1mColumn specification\u001b[22m \u001b[36m────────────────────────────────────────────────────────\u001b[39m\n",
      "\u001b[1mDelimiter:\u001b[22m \",\"\n",
      "\u001b[31mchr\u001b[39m (1): ins_id\n",
      "\u001b[32mdbl\u001b[39m (2): Date, close\n",
      "\n",
      "\u001b[36mℹ\u001b[39m Use `spec()` to retrieve the full column specification for this data.\n",
      "\u001b[36mℹ\u001b[39m Specify the column types or set `show_col_types = FALSE` to quiet this message.\n"
     ]
    }
   ],
   "source": [
    "source(\"helper.R\")\n",
    "\n",
    "max_expid<-get_max(\"Log\")+1\n",
    "exp_name<-\"PricingT\"\n",
    "log_dir<-glue(\"Log/{max_expid}.{exp_name}\")\n",
    "logger=get_logger(log_dir, log_name = \"log\", debug = TRUE)\n",
    "futile.logger::flog.info(\"start experiment\", name = \"log\")\n",
    "\n",
    "## get logger\n",
    "\n",
    "use_saudi<-FALSE\n",
    "seed_random<-123\n",
    "n=30\n",
    "\n",
    "futile.logger::flog.info(glue(\"use_saudi: {use_saudi}\"), name = \"log\")\n",
    "\n",
    "set.seed(seed_random)\n",
    "\n",
    "futile.logger::flog.info(glue(\"use seed: {seed_random}\"), name = \"log\")\n",
    "\n",
    "futile.logger::flog.info(glue(\"number of experiments: {n}\"), name = \"log\")\n",
    "\n",
    "if(!use_saudi){\n",
    "\n",
    "    data_ori <- as.data.frame(read_csv(\"data/IFclose.csv\"))\n",
    "    logpt<-log(data_ori$close)\n",
    "    logreturn <-logpt[2:length(logpt)]-logpt[1:(length(logpt)-1)]\n",
    "    date <- as.Date(as.character(data_ori$Date[1:(length(data_ori$Date)-1)]), format = \"%Y%m%d\")\n",
    "    date_timeindex_ori<-as.numeric(as.POSIXct(date)) \n",
    "    date_timeindex <- (date_timeindex_ori - min(date_timeindex_ori))/86400 ## 1 day = 86400 seconds\n",
    "    data = data.frame(logreturn = logreturn, times = date_timeindex)\n",
    "    data <- rbind(data, data.frame(logreturn = NA, times = max(date_timeindex):(max(date_timeindex)+31)))\n",
    "    mesh <- fm_mesh_1d(data$times)\n",
    "}else{\n",
    "    data_ori <- as.data.frame(read_csv(\"data/1180_vol.csv\"))\n",
    "    logpt<-log(data_ori$Close)\n",
    "    logreturn <-logpt[2:length(logpt)]-logpt[1:(length(logpt)-1)] ## 1 day = 86400 seconds\n",
    "    date <- data_ori$Date[1:(length(data_ori$Date)-1)]\n",
    "    date_timeindex_ori<-as.numeric(as.POSIXct(date)) \n",
    "    date_timeindex <- (date_timeindex_ori - min(date_timeindex_ori))/86400\n",
    "    data = data.frame(logreturn = logreturn, times = date_timeindex)\n",
    "    data <- rbind(data, data.frame(logreturn = NA, times = max(date_timeindex):(max(date_timeindex)+31)))\n",
    "    mesh <- fm_mesh_1d(data$times)\n",
    "}\n",
    "\n"
   ]
  },
  {
   "cell_type": "code",
   "execution_count": 2,
   "id": "c3ed80c3",
   "metadata": {
    "vscode": {
     "languageId": "r"
    }
   },
   "outputs": [],
   "source": [
    "set.seed(123)\n",
    "\n",
    "## best fit stochvol IF,2/137.3123/0.5628\n",
    "## best fit stochvol SR,4/118.271/0.7802\n",
    "best.rspde.order<-2\n",
    "best.prior.range.nominal<-137.3123\n",
    "best.prior.std.dev.nominal<-0.5628\n",
    "\n",
    "\n",
    "\n",
    "\n",
    "\n",
    "\n",
    "\n",
    "\n",
    "\n",
    "## best fit IF,2/137.3123/0.5628"
   ]
  },
  {
   "cell_type": "code",
   "execution_count": 3,
   "id": "3ba45035",
   "metadata": {
    "vscode": {
     "languageId": "r"
    }
   },
   "outputs": [
    {
     "name": "stderr",
     "output_type": "stream",
     "text": [
      "Warning message in rspde.result(fit, \"field\", OU_model, parameterization = \"matern\"):\n",
      "“the mean or mode of nu is very close to nu.upper.bound, please consider increasing nu.upper.bound, and refitting the model.”\n"
     ]
    },
    {
     "data": {
      "text/html": [
       "<table class=\"dataframe\">\n",
       "<caption>A data.frame: 3 × 6</caption>\n",
       "<thead>\n",
       "\t<tr><th></th><th scope=col>mean</th><th scope=col>sd</th><th scope=col>0.025quant</th><th scope=col>0.5quant</th><th scope=col>0.975quant</th><th scope=col>mode</th></tr>\n",
       "\t<tr><th></th><th scope=col>&lt;dbl&gt;</th><th scope=col>&lt;dbl&gt;</th><th scope=col>&lt;dbl&gt;</th><th scope=col>&lt;dbl&gt;</th><th scope=col>&lt;dbl&gt;</th><th scope=col>&lt;dbl&gt;</th></tr>\n",
       "</thead>\n",
       "<tbody>\n",
       "\t<tr><th scope=row>std.dev</th><td> 0.623031</td><td> 0.0881128</td><td> 0.466713</td><td> 0.61739</td><td>  0.812164</td><td> 0.606918</td></tr>\n",
       "\t<tr><th scope=row>range</th><td>94.906000</td><td>25.1170000</td><td>54.507200</td><td>91.93670</td><td>152.553000</td><td>86.313200</td></tr>\n",
       "\t<tr><th scope=row>nu</th><td> 1.459660</td><td> 0.4009320</td><td> 0.555599</td><td> 1.54350</td><td>  1.970750</td><td> 1.935350</td></tr>\n",
       "</tbody>\n",
       "</table>\n"
      ],
      "text/latex": [
       "A data.frame: 3 × 6\n",
       "\\begin{tabular}{r|llllll}\n",
       "  & mean & sd & 0.025quant & 0.5quant & 0.975quant & mode\\\\\n",
       "  & <dbl> & <dbl> & <dbl> & <dbl> & <dbl> & <dbl>\\\\\n",
       "\\hline\n",
       "\tstd.dev &  0.623031 &  0.0881128 &  0.466713 &  0.61739 &   0.812164 &  0.606918\\\\\n",
       "\trange & 94.906000 & 25.1170000 & 54.507200 & 91.93670 & 152.553000 & 86.313200\\\\\n",
       "\tnu &  1.459660 &  0.4009320 &  0.555599 &  1.54350 &   1.970750 &  1.935350\\\\\n",
       "\\end{tabular}\n"
      ],
      "text/markdown": [
       "\n",
       "A data.frame: 3 × 6\n",
       "\n",
       "| <!--/--> | mean &lt;dbl&gt; | sd &lt;dbl&gt; | 0.025quant &lt;dbl&gt; | 0.5quant &lt;dbl&gt; | 0.975quant &lt;dbl&gt; | mode &lt;dbl&gt; |\n",
       "|---|---|---|---|---|---|---|\n",
       "| std.dev |  0.623031 |  0.0881128 |  0.466713 |  0.61739 |   0.812164 |  0.606918 |\n",
       "| range | 94.906000 | 25.1170000 | 54.507200 | 91.93670 | 152.553000 | 86.313200 |\n",
       "| nu |  1.459660 |  0.4009320 |  0.555599 |  1.54350 |   1.970750 |  1.935350 |\n",
       "\n"
      ],
      "text/plain": [
       "        mean      sd         0.025quant 0.5quant 0.975quant mode     \n",
       "std.dev  0.623031  0.0881128  0.466713   0.61739   0.812164  0.606918\n",
       "range   94.906000 25.1170000 54.507200  91.93670 152.553000 86.313200\n",
       "nu       1.459660  0.4009320  0.555599   1.54350   1.970750  1.935350"
      ]
     },
     "metadata": {},
     "output_type": "display_data"
    }
   ],
   "source": [
    "\n",
    "OU_model <- rspde.matern(\n",
    "    mesh = mesh,\n",
    "    parameterization = \"matern\",\n",
    "    rspde.order = best.rspde.order,\n",
    "    prior.range.nominal = best.prior.range.nominal,\n",
    "    prior.std.dev.nominal = best.prior.std.dev.nominal\n",
    "  )\n",
    "    \n",
    "    formula_OU <- logreturn ~ -1 + Intercept(1)+ field(times, model = OU_model)\n",
    "fit<-bru(formula_OU, family=\"stochvol.t\", data = data)\n",
    "result_fit<- rspde.result(fit, \"field\", OU_model, parameterization=\"matern\")\n",
    "summary(result_fit)"
   ]
  },
  {
   "cell_type": "code",
   "execution_count": 4,
   "id": "479efa7a",
   "metadata": {
    "vscode": {
     "languageId": "r"
    }
   },
   "outputs": [
    {
     "name": "stderr",
     "output_type": "stream",
     "text": [
      "\n",
      "Attaching package: ‘lubridate’\n",
      "\n",
      "\n",
      "The following objects are masked from ‘package:base’:\n",
      "\n",
      "    date, intersect, setdiff, union\n",
      "\n",
      "\n"
     ]
    }
   ],
   "source": [
    "library(lubridate)\n",
    "# 假设 date 是一个 Date 向量\n",
    "#date <- as.Date(c(\"2025-07-10\", \"2025-07-15\", \"2025-07-20\"))  # 示例数据\n",
    "\n",
    "# 获取最后一天\n",
    "last_day <- max(date)\n",
    "# 生成从 next_day 开始到下个月同一天之前的所有日期\n",
    "next_day <- last_day + 1\n",
    "end_day <- as.Date(\"2024-05-17\")\n",
    "\n",
    "# 生成完整序列\n",
    "all_days <- seq.Date(from = next_day, to = end_day, by = \"day\")\n",
    "\n",
    "# 只保留非周末（即工作日）\n",
    "biz_days <- all_days[!weekdays(all_days) %in% c(\"Saturday\", \"Sunday\")]\n",
    "date_timeindex_new<-as.numeric(as.POSIXct(biz_days)) \n",
    "date_timeindex_new <- (date_timeindex_new - min(date_timeindex_ori))/86400 ## 1 day = 86400 seconds\n",
    "# 保存到数据框\n",
    "new_data <- data.frame(times = date_timeindex_new)\n"
   ]
  },
  {
   "cell_type": "code",
   "execution_count": 5,
   "id": "bc48bc33",
   "metadata": {
    "vscode": {
     "languageId": "r"
    }
   },
   "outputs": [],
   "source": [
    "discount_factor<- 1.02**(-21/252)"
   ]
  },
  {
   "cell_type": "code",
   "execution_count": 8,
   "id": "37ea966e",
   "metadata": {
    "vscode": {
     "languageId": "r"
    }
   },
   "outputs": [],
   "source": [
    "delta_S_T<-generate(fit, new_data, ~ exp((field+Intercept)/2), n.samples = 100000)"
   ]
  },
  {
   "cell_type": "code",
   "execution_count": 9,
   "id": "be53b90d",
   "metadata": {
    "vscode": {
     "languageId": "r"
    }
   },
   "outputs": [],
   "source": [
    "\n",
    "dof <- fit$summary.hyperpar$mean[1]\n",
    "\n",
    "# t分布缩放因子 (保持期望标准差 = delta_S_T)\n",
    "scale <- as.vector(delta_S_T) / sqrt(dof / (dof - 2))\n",
    "\n",
    "# 生成随机矩阵\n",
    "random_return_rate <- matrix(\n",
    "  rt(length(delta_S_T), df = dof) * scale,\n",
    "  nrow = nrow(delta_S_T),\n",
    "  ncol = ncol(delta_S_T)\n",
    ")"
   ]
  },
  {
   "cell_type": "code",
   "execution_count": 10,
   "id": "a6213f19",
   "metadata": {
    "vscode": {
     "languageId": "r"
    }
   },
   "outputs": [],
   "source": [
    "return_rate_to_end<-exp(colSums(random_return_rate))\n",
    "simulated_final_prices <- data_ori$close[length(data_ori$close)] * return_rate_to_end"
   ]
  },
  {
   "cell_type": "code",
   "execution_count": 11,
   "id": "2e872070",
   "metadata": {
    "vscode": {
     "languageId": "r"
    }
   },
   "outputs": [
    {
     "data": {
      "text/html": [
       "3540.54678899083"
      ],
      "text/latex": [
       "3540.54678899083"
      ],
      "text/markdown": [
       "3540.54678899083"
      ],
      "text/plain": [
       "[1] 3540.547"
      ]
     },
     "metadata": {},
     "output_type": "display_data"
    }
   ],
   "source": [
    "data_ori$close[length(data_ori$close)]"
   ]
  },
  {
   "cell_type": "code",
   "execution_count": 12,
   "id": "3d6d86dc",
   "metadata": {
    "vscode": {
     "languageId": "r"
    }
   },
   "outputs": [
    {
     "data": {
      "image/png": "[encoded data removed]",
      "text/plain": [
       "Plot with title “Distribution of Final Prices”"
      ]
     },
     "metadata": {
      "image/png": {
       "height": 420,
       "width": 420
      }
     },
     "output_type": "display_data"
    }
   ],
   "source": [
    "par(bg = \"white\")\n",
    "hist(simulated_final_prices, \n",
    "     breaks = 50, col = \"skyblue\", border = \"white\",\n",
    "     main = \"Distribution of Final Prices\", xlab = \"Final Price\")"
   ]
  },
  {
   "cell_type": "code",
   "execution_count": 13,
   "id": "a1e3cac6",
   "metadata": {
    "vscode": {
     "languageId": "r"
    }
   },
   "outputs": [],
   "source": [
    "expected_payoff <- function(sim_prices, K, type = c(\"call\", \"put\"), discount_factor = 1) {\n",
    "  # sim_prices: simulated prices\n",
    "  # K: strike price\n",
    "  # type: \"call\" or \"put\"\n",
    "  # discount_factor: discount factor, default=1 (if you need e^{-rT} outside)\n",
    "  \n",
    "  type <- match.arg(type)\n",
    "  \n",
    "  if (type == \"call\") {\n",
    "    payoff <- pmax(sim_prices - K, 0)\n",
    "  } else {\n",
    "    payoff <- pmax(K - sim_prices, 0)\n",
    "  }\n",
    "  \n",
    "  return(mean(payoff) * discount_factor)\n",
    "}"
   ]
  },
  {
   "cell_type": "code",
   "execution_count": 14,
   "id": "a6543f88",
   "metadata": {
    "vscode": {
     "languageId": "r"
    }
   },
   "outputs": [
    {
     "name": "stderr",
     "output_type": "stream",
     "text": [
      "\u001b[1mRows: \u001b[22m\u001b[34m20\u001b[39m \u001b[1mColumns: \u001b[22m\u001b[34m2\u001b[39m\n",
      "\u001b[36m──\u001b[39m \u001b[1mColumn specification\u001b[22m \u001b[36m────────────────────────────────────────────────────────\u001b[39m\n",
      "\u001b[1mDelimiter:\u001b[22m \",\"\n",
      "\u001b[32mdbl\u001b[39m (2): price, strike\n",
      "\n",
      "\u001b[36mℹ\u001b[39m Use `spec()` to retrieve the full column specification for this data.\n",
      "\u001b[36mℹ\u001b[39m Specify the column types or set `show_col_types = FALSE` to quiet this message.\n",
      "\u001b[1mRows: \u001b[22m\u001b[34m20\u001b[39m \u001b[1mColumns: \u001b[22m\u001b[34m2\u001b[39m\n",
      "\u001b[36m──\u001b[39m \u001b[1mColumn specification\u001b[22m \u001b[36m────────────────────────────────────────────────────────\u001b[39m\n",
      "\u001b[1mDelimiter:\u001b[22m \",\"\n",
      "\u001b[32mdbl\u001b[39m (2): price, strike\n",
      "\n",
      "\u001b[36mℹ\u001b[39m Use `spec()` to retrieve the full column specification for this data.\n",
      "\u001b[36mℹ\u001b[39m Specify the column types or set `show_col_types = FALSE` to quiet this message.\n"
     ]
    }
   ],
   "source": [
    "pricing_values<-list()\n",
    "\n",
    "\n",
    "\n",
    "call_records<-as.data.frame(read_csv(\"data/calls_records.csv\"))\n",
    "put_records<-as.data.frame(read_csv(\"data/put_records.csv\"))\n",
    "\n",
    "\n",
    "\n",
    "for (i in 1:nrow(call_records)){\n",
    "    strike<-call_records$strike[i]\n",
    "    call_price<-expected_payoff(simulated_final_prices, K = strike, type = \"call\", discount_factor = discount_factor)\n",
    "    pricing_values$call_records[i]<-call_price\n",
    "}\n",
    "\n",
    "for (i in 1:nrow(put_records)){\n",
    "    strike<-put_records$strike[i]\n",
    "    put_price<-expected_payoff(simulated_final_prices, K = strike, type = \"put\", discount_factor = discount_factor)\n",
    "    pricing_values$put_records[i]<-put_price\n",
    "}\n",
    "\n",
    "\n",
    "call_records$theoretical_price<-pricing_values$call_records\n",
    "put_records$theoretical_price<-pricing_values$put_records\n",
    "\n",
    "\n",
    "\n",
    "write.csv(call_records, glue(\"{log_dir}/calls_records_with_theoretical_price.csv\"))\n",
    "write.csv(put_records, glue(\"{log_dir}/put_records_with_theoretical_price.csv\"))\n",
    "\n",
    "\n",
    "\n",
    "\n"
   ]
  },
  {
   "cell_type": "code",
   "execution_count": 15,
   "id": "191f6468",
   "metadata": {
    "vscode": {
     "languageId": "r"
    }
   },
   "outputs": [
    {
     "data": {
      "text/html": [
       "<strong>agg_record_103217711:</strong> 2"
      ],
      "text/latex": [
       "\\textbf{agg\\textbackslash{}\\_record\\textbackslash{}\\_103217711:} 2"
      ],
      "text/markdown": [
       "**agg_record_103217711:** 2"
      ],
      "text/plain": [
       "agg_record_103217711 \n",
       "                   2 "
      ]
     },
     "metadata": {},
     "output_type": "display_data"
    }
   ],
   "source": [
    "find_market_col <- function(df) {\n",
    "  cand <- c(\"market_price\", \"price\", \"close\", \"mid\")\n",
    "  hit <- cand[cand %in% names(df)]\n",
    "  if (length(hit) == 0) stop(\"未找到市场价格列，请在 cand 中加入正确列名。已有列：\", paste(names(df), collapse=\", \"))\n",
    "  hit[1]\n",
    "}\n",
    "plot_prices <- function(df, title = \"Calls\", xlab = \"Strike\", ylab = \"Price\", underlying = NULL) {\n",
    "  # 选择市场价格列\n",
    "  mcol <- find_market_col(df)\n",
    "\n",
    "  # 仅保留需要列并去 NA\n",
    "  keep <- c(\"strike\", mcol, \"theoretical_price\")\n",
    "  df2 <- df[keep]\n",
    "  df2 <- df2[complete.cases(df2), ]\n",
    "\n",
    "  # 按 strike 排序\n",
    "  ord <- order(df2$strike)\n",
    "  x  <- df2$strike[ord]\n",
    "  yM <- df2[[mcol]][ord]              # 市场价格\n",
    "  yT <- df2$theoretical_price[ord]    # 理论价格\n",
    "\n",
    "  # 确定坐标范围\n",
    "  yr <- range(c(yM, yT), finite = TRUE)\n",
    "\n",
    "  # 画图（白底）\n",
    "  par(bg = \"white\")\n",
    "  plot(x, yM, type = \"l\", lwd = 2,\n",
    "       col = rgb(0,0,1,0.6),             # 半透明蓝色\n",
    "       xlab = xlab, ylab = ylab,\n",
    "       main = title, ylim = yr, cex.axis=1.2, cex.lab=1.2, cex.main=1.3)\n",
    "  lines(x, yT, lwd = 2, lty = 2,\n",
    "        col = rgb(1,0,0,0.6))            # 半透明红色\n",
    "\n",
    "  # 如果提供了 underlying，就画一条竖线\n",
    "  if (!is.null(underlying)) {\n",
    "    abline(v = underlying, col = \"black\", lty = 3, lwd = 2)\n",
    "  }\n",
    "\n",
    "  legend(\"topleft\",\n",
    "         legend = c(\"Market\", \"Theoretical\", if (!is.null(underlying)) \"Underlying\" else NULL),\n",
    "         lwd = c(2, 2, if (!is.null(underlying)) 2 else NULL),\n",
    "         lty = c(1, 2, if (!is.null(underlying)) 3 else NULL),\n",
    "         col = c(rgb(0,0,1,0.6), rgb(1,0,0,0.6), if (!is.null(underlying)) \"black\" else NULL),\n",
    "         bty = \"n\")\n",
    "}\n",
    "\n",
    "\n",
    "# --- 分两幅图显示：左边 Call，右边 Put ---\n",
    "png(glue( \"{log_dir}/calls_puts.png\"), width=2000, height=1000, res=200)  # 像素宽高\n",
    "op <- par(mfrow = c(1, 2), mar = c(4, 4, 3, 1), cex=1.2)\n",
    "plot_prices(call_records, title = \"Call: Market vs Theoretical\", xlab = \"Strike\", ylab = \"Price\",underlying=data_ori$close[length(data_ori$close)])\n",
    "plot_prices(put_records,  title = \"Put: Market vs Theoretical\",  xlab = \"Strike\", ylab = \"Price\",underlying=data_ori$close[length(data_ori$close)])\n",
    "par(op)\n",
    "dev.off()"
   ]
  },
  {
   "cell_type": "code",
   "execution_count": null,
   "id": "b094025a",
   "metadata": {
    "vscode": {
     "languageId": "r"
    }
   },
   "outputs": [],
   "source": []
  }
 ],
 "metadata": {
  "kernelspec": {
   "display_name": "R",
   "language": "R",
   "name": "ir"
  },
  "language_info": {
   "codemirror_mode": "r",
   "file_extension": ".r",
   "mimetype": "text/x-r-source",
   "name": "R",
   "pygments_lexer": "r",
   "version": "4.4.3"
  }
 },
 "nbformat": 4,
 "nbformat_minor": 5
}
