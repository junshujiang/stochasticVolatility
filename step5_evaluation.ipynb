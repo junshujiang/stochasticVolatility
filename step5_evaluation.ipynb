{
 "cells": [
  {
   "cell_type": "code",
   "execution_count": null,
   "id": "469947dc",
   "metadata": {
    "vscode": {
     "languageId": "r"
    }
   },
   "outputs": [],
   "source": [
    "source(\"helper.R\")\n",
    "library(lubridate)\n",
    "max_expid<-get_max(\"Log\")+1\n",
    "dataset_name=\"China\"\n",
    "\n",
    "family_name=\"stochvol\"\n",
    "model_name=\"matern\"\n",
    "exp_name<-glue(\"Pricing_{dataset_name}_Model_{family_name}_{model_name}\")\n",
    "log_dir<-glue(\"Log/{max_expid}.{exp_name}\")\n",
    "logger=get_logger(log_dir, log_name = \"log\", debug = TRUE)\n",
    "futile.logger::flog.info(\"start experiment\", name = \"log\")\n",
    "\n",
    "## get logger\n",
    "\n",
    "seed_random<-123\n",
    "n=30\n",
    "risk_free_rate<-0.02\n",
    "\n",
    "future_days_needed_for_pricing<-31\n",
    "futile.logger::flog.info(glue(\"risk-free rate: {risk_free_rate}\"), name = \"log\")\n",
    "set.seed(seed_random)\n",
    "\n",
    "futile.logger::flog.info(glue(\"use seed: {seed_random}\"), name = \"log\")\n",
    "\n",
    "futile.logger::flog.info(glue(\"number of experiments: {n}\"), name = \"log\")\n",
    "if (dataset_name==\"China\"){\n",
    "dataset <- load_data(\"data/IFclose.csv\")\n",
    "option_data <- read.csv(\"data/IFtest.csv\")\n",
    "\n",
    "\n",
    "}else if (dataset_name==\"Saudi\"){\n",
    "dataset <- load_data(\"data/1180_vol.csv\")\n",
    "\n",
    "}else if (dataset_name==\"SPY\"){\n",
    "\n",
    "dataset <- load_data(\"data/SPY.csv\") \n",
    "option_data <- read.csv(\"data/SPY_testPeriod.csv\")\n",
    "\n",
    "}else{\n",
    "\n",
    "    stop(\"Error: Invalid data set\")\n",
    "}\n",
    "\n",
    "\n"
   ]
  },
  {
   "cell_type": "code",
   "execution_count": null,
   "id": "4801f9aa",
   "metadata": {
    "vscode": {
     "languageId": "r"
    }
   },
   "outputs": [],
   "source": [
    "last_date <- max(dataset$date)\n",
    "\n"
   ]
  },
  {
   "cell_type": "code",
   "execution_count": null,
   "id": "96a96d34",
   "metadata": {
    "vscode": {
     "languageId": "r"
    }
   },
   "outputs": [],
   "source": [
    "all_days <- seq.Date(from = last_date + 1, by = \"day\", length.out = future_days_needed_for_pricing)\n",
    "biz_days <- all_days[!weekdays(all_days) %in% c(\"Saturday\", \"Sunday\")]\n",
    "index<-seq_len(future_days_needed_for_pricing)[!weekdays(all_days) %in% c(\"Saturday\", \"Sunday\")]"
   ]
  }
 ],
 "metadata": {
  "kernelspec": {
   "display_name": "R",
   "language": "R",
   "name": "ir"
  },
  "language_info": {
   "codemirror_mode": "r",
   "file_extension": ".r",
   "mimetype": "text/x-r-source",
   "name": "R",
   "pygments_lexer": "r",
   "version": "4.4.3"
  }
 },
 "nbformat": 4,
 "nbformat_minor": 5
}
